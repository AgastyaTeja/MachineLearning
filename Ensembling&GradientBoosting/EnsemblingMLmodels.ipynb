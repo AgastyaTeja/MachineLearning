{
 "cells": [
  {
   "cell_type": "code",
   "execution_count": 3,
   "metadata": {},
   "outputs": [],
   "source": [
    "import numpy as np\n",
    "import pandas as pd\n",
    "import seaborn as sns\n",
    "import seaborn as sns \n",
    "import matplotlib.pyplot as plt\n",
    "\n",
    "\n",
    "from sklearn.linear_model import LogisticRegression\n",
    "from sklearn.ensemble import RandomForestClassifier\n",
    "from sklearn.ensemble import GradientBoostingClassifier\n",
    "from sklearn.neighbors import KNeighborsClassifier\n",
    "from sklearn.ensemble import VotingClassifier\n",
    "from sklearn.model_selection import GridSearchCV\n",
    "from sklearn.feature_selection import SelectFromModel\n",
    "from sklearn.feature_selection import RFE\n",
    "from sklearn.feature_selection import RFECV"
   ]
  },
  {
   "cell_type": "markdown",
   "metadata": {},
   "source": [
    "# Loading Data Set\n"
   ]
  },
  {
   "cell_type": "code",
   "execution_count": 4,
   "metadata": {},
   "outputs": [],
   "source": [
    "#---------------Loading Train Data------------------#\n",
    "data_train= pd.read_csv(\"a3-train.data\",delimiter=\" \",header= None)\n",
    "data_label = pd.read_csv(\"a3-train.labels.txt\",delimiter=\" \",header = None)\n",
    "data_train.iloc[:,500] = data_label.iloc[:,0].copy()\n",
    "Xtrain = data_train.iloc[:,:500]\n",
    "ytrain = data_train.iloc[:,500]\n",
    "\n",
    "\n",
    "#--------------Loading Test data---------------------#\n",
    "data_test = pd.read_csv(\"a3-test.data\",delimiter=\" \",header = None)\n",
    "datatest_label = pd.read_csv(\"a3-test.labels.txt\",delimiter=\" \", header = None)\n",
    "data_test.iloc[:,500] = datatest_label.iloc[:,0].copy()\n",
    "\n",
    "Xtest = data_test.iloc[:,:500]\n",
    "ytest = data_test.iloc[:,500]"
   ]
  },
  {
   "cell_type": "markdown",
   "metadata": {},
   "source": [
    "# Exploratory Data Analysis"
   ]
  },
  {
   "cell_type": "markdown",
   "metadata": {},
   "source": [
    "#### Checking for Missing Values:\n"
   ]
  },
  {
   "cell_type": "code",
   "execution_count": 5,
   "metadata": {},
   "outputs": [
    {
     "name": "stdout",
     "output_type": "stream",
     "text": [
      "False\n"
     ]
    }
   ],
   "source": [
    "print(data_train.isnull().values.any()) "
   ]
  },
  {
   "cell_type": "markdown",
   "metadata": {},
   "source": [
    "#### Checking for Duplicate rows or Duplicate columns"
   ]
  },
  {
   "cell_type": "code",
   "execution_count": 6,
   "metadata": {},
   "outputs": [
    {
     "data": {
      "text/plain": [
       "(2000, 501)"
      ]
     },
     "execution_count": 6,
     "metadata": {},
     "output_type": "execute_result"
    }
   ],
   "source": [
    "data_train = data_train.iloc[:,~data_train.columns.duplicated()]\n",
    "data_train.shape"
   ]
  },
  {
   "cell_type": "markdown",
   "metadata": {},
   "source": [
    "#### Checking for Unique Identifier Columns\n"
   ]
  },
  {
   "cell_type": "code",
   "execution_count": 7,
   "metadata": {},
   "outputs": [
    {
     "name": "stdout",
     "output_type": "stream",
     "text": [
      "0\n"
     ]
    }
   ],
   "source": [
    "count = 0\n",
    "for i in data_train:\n",
    "    temp = data_train.iloc[:,i].unique()\n",
    "    if len(temp) == data_train.shape[0]:\n",
    "        count+= 1\n",
    "        print(i)\n",
    "print(count)"
   ]
  },
  {
   "cell_type": "markdown",
   "metadata": {},
   "source": [
    "#### Checking if the output column is balanced or not"
   ]
  },
  {
   "cell_type": "code",
   "execution_count": 8,
   "metadata": {},
   "outputs": [
    {
     "name": "stdout",
     "output_type": "stream",
     "text": [
      "(2000, 501)\n"
     ]
    },
    {
     "data": {
      "text/plain": [
       " 1    1000\n",
       "-1    1000\n",
       "Name: 500, dtype: int64"
      ]
     },
     "execution_count": 8,
     "metadata": {},
     "output_type": "execute_result"
    }
   ],
   "source": [
    "print(data_train.shape)\n",
    "data_train.iloc[:,500].value_counts()"
   ]
  },
  {
   "cell_type": "markdown",
   "metadata": {},
   "source": [
    "## Baseline Models for Logistic, Random Forests ,KNN, Gradient Boosting"
   ]
  },
  {
   "cell_type": "markdown",
   "metadata": {},
   "source": [
    "#### Logistic Regression"
   ]
  },
  {
   "cell_type": "code",
   "execution_count": 9,
   "metadata": {},
   "outputs": [
    {
     "name": "stdout",
     "output_type": "stream",
     "text": [
      "0.5916666666666667\n"
     ]
    }
   ],
   "source": [
    "# Logistic Regression \n",
    "logreg = LogisticRegression()\n",
    "logreg.fit(Xtrain,ytrain)\n",
    "logreg_base = logreg.score(Xtest,ytest)\n",
    "print(logreg_base)\n"
   ]
  },
  {
   "cell_type": "markdown",
   "metadata": {},
   "source": [
    "#### Random Forest"
   ]
  },
  {
   "cell_type": "code",
   "execution_count": 10,
   "metadata": {},
   "outputs": [
    {
     "name": "stdout",
     "output_type": "stream",
     "text": [
      "0.6283333333333333\n"
     ]
    }
   ],
   "source": [
    "# Random Forest(Without feature importance)\n",
    "forest = RandomForestClassifier(random_state = 20)\n",
    "forest.fit(Xtrain,ytrain)\n",
    "randomforest_base = forest.score(Xtest,ytest)\n",
    "temp = forest.feature_importances_\n",
    "print(randomforest_base)"
   ]
  },
  {
   "cell_type": "markdown",
   "metadata": {},
   "source": [
    "#### KNN"
   ]
  },
  {
   "cell_type": "code",
   "execution_count": 11,
   "metadata": {},
   "outputs": [
    {
     "data": {
      "text/plain": [
       "0.6533333333333333"
      ]
     },
     "execution_count": 11,
     "metadata": {},
     "output_type": "execute_result"
    }
   ],
   "source": [
    "# KNN     \n",
    "knn = KNeighborsClassifier(n_neighbors= 1)\n",
    "knn.fit(Xtrain,ytrain)\n",
    "knn.score(Xtest,ytest)\n"
   ]
  },
  {
   "cell_type": "markdown",
   "metadata": {},
   "source": [
    "#### Gradient Boosting"
   ]
  },
  {
   "cell_type": "code",
   "execution_count": 12,
   "metadata": {},
   "outputs": [
    {
     "name": "stdout",
     "output_type": "stream",
     "text": [
      "0.7483333333333333\n"
     ]
    }
   ],
   "source": [
    "# Gradient Boosting\n",
    "Gradient_boosting = GradientBoostingClassifier()\n",
    "Gradient_boosting.fit(Xtrain,ytrain)\n",
    "gradientboosting_base = Gradient_boosting.score(Xtest,ytest)\n",
    "print(gradientboosting_base)"
   ]
  },
  {
   "cell_type": "markdown",
   "metadata": {},
   "source": [
    "# Feature Engineering"
   ]
  },
  {
   "cell_type": "markdown",
   "metadata": {},
   "source": [
    "#### Checking if any columns are corelated greater than 0.7 "
   ]
  },
  {
   "cell_type": "code",
   "execution_count": 13,
   "metadata": {},
   "outputs": [
    {
     "data": {
      "text/plain": [
       "(2000, 501)"
      ]
     },
     "execution_count": 13,
     "metadata": {},
     "output_type": "execute_result"
    }
   ],
   "source": [
    "\n",
    "corr_matrix = data_train.corr().abs() # creating corelating matrix\n",
    "\n",
    "upper = corr_matrix.where(np.triu(np.ones(corr_matrix.shape), k=1).astype(np.bool)) # selecting upper triangle of corr_matrix\n",
    "\n",
    "#print(upper)\n",
    "\n",
    "to_drop = [column for column in upper.columns if any(upper[column] >= 0.5)] # Find index of feature columns with correlation greater than 0.95\n",
    "\n",
    "data_train.drop(data_train.columns[to_drop], axis=1)\n",
    "\n",
    "data_train.shape\n"
   ]
  },
  {
   "cell_type": "markdown",
   "metadata": {},
   "source": [
    "#### Pearson Corelation Matrix heat map (Takes time to run)"
   ]
  },
  {
   "cell_type": "code",
   "execution_count": 24,
   "metadata": {
    "scrolled": true
   },
   "outputs": [
    {
     "data": {
      "text/plain": [
       "<matplotlib.axes._subplots.AxesSubplot at 0x7f4a12e72f98>"
      ]
     },
     "execution_count": 24,
     "metadata": {},
     "output_type": "execute_result"
    },
    {
     "data": {
      "image/png": "[encoded data removed]",
      "text/plain": [
       "<Figure size 1008x864 with 2 Axes>"
      ]
     },
     "metadata": {},
     "output_type": "display_data"
    }
   ],
   "source": [
    "colormap = plt.cm.RdBu\n",
    "plt.figure(figsize=(14,12))\n",
    "plt.title('Pearson Correlation of Features', y=1.05, size=15)\n",
    "sns.heatmap(Xtrain.astype(float).corr(),linewidths=0.1,vmax=1.0, \n",
    "            square=True, cmap=colormap, linecolor='white', annot=True)"
   ]
  },
  {
   "cell_type": "markdown",
   "metadata": {},
   "source": [
    "#### Dropping unnessary features via Recursive Feature Elimination with Cross Validation"
   ]
  },
  {
   "cell_type": "code",
   "execution_count": 14,
   "metadata": {},
   "outputs": [],
   "source": [
    "# Random Forest with Recursive Feature Elimination  with Cross Validation\n",
    "forest = RandomForestClassifier(random_state = 20)\n",
    "\n",
    "rfe_cv = RFECV(forest, step=1, cv=7)\n",
    "fit = rfe_cv.fit(Xtrain,ytrain)\n",
    "X_train_new = fit.transform(Xtrain)\n",
    "X_test_new = fit.transform(Xtest)\n",
    "#forest.fit(X_train_new,ytrain)\n",
    "#print(forest.score(X_test_new,ytest))"
   ]
  },
  {
   "cell_type": "code",
   "execution_count": 15,
   "metadata": {},
   "outputs": [
    {
     "name": "stdout",
     "output_type": "stream",
     "text": [
      "Optimal number of features : 15\n"
     ]
    }
   ],
   "source": [
    "print(\"Optimal number of features : %d\" % rfe_cv.n_features_)"
   ]
  },
  {
   "cell_type": "code",
   "execution_count": 16,
   "metadata": {},
   "outputs": [
    {
     "data": {
      "image/png": "[encoded data removed]",
      "text/plain": [
       "<Figure size 432x288 with 1 Axes>"
      ]
     },
     "metadata": {},
     "output_type": "display_data"
    }
   ],
   "source": [
    "plt.figure()\n",
    "plt.xlabel(\"Number of features selected\")\n",
    "plt.ylabel(\"Cross validation score (nb of correct classifications)\")\n",
    "plt.plot(range(1, len(rfe_cv.grid_scores_) + 1), rfe_cv.grid_scores_)\n",
    "plt.show()"
   ]
  },
  {
   "cell_type": "code",
   "execution_count": 17,
   "metadata": {
    "scrolled": true
   },
   "outputs": [
    {
     "data": {
      "text/plain": [
       "(2000, 15)"
      ]
     },
     "execution_count": 17,
     "metadata": {},
     "output_type": "execute_result"
    }
   ],
   "source": [
    "X_train_new.shape"
   ]
  },
  {
   "cell_type": "markdown",
   "metadata": {},
   "source": [
    "#  HyperParameter Tuning "
   ]
  },
  {
   "cell_type": "markdown",
   "metadata": {},
   "source": [
    "## Logistic Regression Tuning"
   ]
  },
  {
   "cell_type": "code",
   "execution_count": 18,
   "metadata": {},
   "outputs": [
    {
     "name": "stdout",
     "output_type": "stream",
     "text": [
      "Best Penalty: l2\n",
      "Best C: 1.0000230261160268\n"
     ]
    }
   ],
   "source": [
    "# Tuning Logistic Regression after feature engineering\n",
    "# Create regularization hyperparameter space\n",
    "C = np.logspace(0.00001, 4, 10)\n",
    "hyperparameters = dict(C=C)\n",
    "clf_logreg = GridSearchCV(logreg,hyperparameters,cv=10)\n",
    "best_model_rfe = clf_logreg.fit(X_train_new,ytrain)\n",
    "\n",
    "print('Best Penalty:', best_model_rfe.best_estimator_.get_params()['penalty'])\n",
    "print('Best C:', best_model_rfe.best_estimator_.get_params()['C'])"
   ]
  },
  {
   "cell_type": "code",
   "execution_count": 19,
   "metadata": {},
   "outputs": [
    {
     "name": "stdout",
     "output_type": "stream",
     "text": [
      "0.5933333333333334\n"
     ]
    }
   ],
   "source": [
    "logreg_tuned = best_model_rfe.score(X_test_new,ytest)\n",
    "print(logreg_tuned)"
   ]
  },
  {
   "cell_type": "markdown",
   "metadata": {},
   "source": [
    "#### Trials done before reaching the above conclusion"
   ]
  },
  {
   "cell_type": "code",
   "execution_count": 21,
   "metadata": {
    "scrolled": false
   },
   "outputs": [],
   "source": [
    "# Tuning Logistic Regression\n",
    "# Create regularization hyperparameter space\n",
    "C = np.logspace(0.001, 4, 10)\n",
    "hyperparameters = dict(C=C)\n",
    "clf1 = GridSearchCV(logreg,hyperparameters,cv=5,verbose = 0)\n",
    "best_model= clf1.fit(Xtrain,ytrain)\n"
   ]
  },
  {
   "cell_type": "code",
   "execution_count": 22,
   "metadata": {
    "scrolled": false
   },
   "outputs": [
    {
     "name": "stdout",
     "output_type": "stream",
     "text": [
      "0.59\n"
     ]
    }
   ],
   "source": [
    "print(best_model.score(Xtest,ytest))"
   ]
  },
  {
   "cell_type": "markdown",
   "metadata": {},
   "source": [
    "## Random Forest Tuning"
   ]
  },
  {
   "cell_type": "code",
   "execution_count": 31,
   "metadata": {},
   "outputs": [
    {
     "name": "stdout",
     "output_type": "stream",
     "text": [
      "Fitting 3 folds for each of 42 candidates, totalling 126 fits\n",
      "[CV] criterion=gini, max_features=auto, n_estimators=300 .............\n",
      "[CV]  criterion=gini, max_features=auto, n_estimators=300, total=   0.9s\n",
      "[CV] criterion=gini, max_features=auto, n_estimators=300 .............\n"
     ]
    },
    {
     "name": "stderr",
     "output_type": "stream",
     "text": [
      "[Parallel(n_jobs=1)]: Done   1 out of   1 | elapsed:    1.0s remaining:    0.0s\n"
     ]
    },
    {
     "name": "stdout",
     "output_type": "stream",
     "text": [
      "[CV]  criterion=gini, max_features=auto, n_estimators=300, total=   0.9s\n",
      "[CV] criterion=gini, max_features=auto, n_estimators=300 .............\n",
      "[CV]  criterion=gini, max_features=auto, n_estimators=300, total=   0.9s\n",
      "[CV] criterion=gini, max_features=auto, n_estimators=400 .............\n",
      "[CV]  criterion=gini, max_features=auto, n_estimators=400, total=   1.3s\n",
      "[CV] criterion=gini, max_features=auto, n_estimators=400 .............\n",
      "[CV]  criterion=gini, max_features=auto, n_estimators=400, total=   1.2s\n",
      "[CV] criterion=gini, max_features=auto, n_estimators=400 .............\n",
      "[CV]  criterion=gini, max_features=auto, n_estimators=400, total=   1.2s\n",
      "[CV] criterion=gini, max_features=auto, n_estimators=500 .............\n",
      "[CV]  criterion=gini, max_features=auto, n_estimators=500, total=   1.5s\n",
      "[CV] criterion=gini, max_features=auto, n_estimators=500 .............\n",
      "[CV]  criterion=gini, max_features=auto, n_estimators=500, total=   1.5s\n",
      "[CV] criterion=gini, max_features=auto, n_estimators=500 .............\n",
      "[CV]  criterion=gini, max_features=auto, n_estimators=500, total=   1.6s\n",
      "[CV] criterion=gini, max_features=auto, n_estimators=600 .............\n",
      "[CV]  criterion=gini, max_features=auto, n_estimators=600, total=   1.8s\n",
      "[CV] criterion=gini, max_features=auto, n_estimators=600 .............\n",
      "[CV]  criterion=gini, max_features=auto, n_estimators=600, total=   1.8s\n",
      "[CV] criterion=gini, max_features=auto, n_estimators=600 .............\n",
      "[CV]  criterion=gini, max_features=auto, n_estimators=600, total=   1.8s\n",
      "[CV] criterion=gini, max_features=auto, n_estimators=700 .............\n",
      "[CV]  criterion=gini, max_features=auto, n_estimators=700, total=   2.2s\n",
      "[CV] criterion=gini, max_features=auto, n_estimators=700 .............\n",
      "[CV]  criterion=gini, max_features=auto, n_estimators=700, total=   2.2s\n",
      "[CV] criterion=gini, max_features=auto, n_estimators=700 .............\n",
      "[CV]  criterion=gini, max_features=auto, n_estimators=700, total=   2.1s\n",
      "[CV] criterion=gini, max_features=auto, n_estimators=800 .............\n",
      "[CV]  criterion=gini, max_features=auto, n_estimators=800, total=   2.4s\n",
      "[CV] criterion=gini, max_features=auto, n_estimators=800 .............\n",
      "[CV]  criterion=gini, max_features=auto, n_estimators=800, total=   2.4s\n",
      "[CV] criterion=gini, max_features=auto, n_estimators=800 .............\n",
      "[CV]  criterion=gini, max_features=auto, n_estimators=800, total=   2.4s\n",
      "[CV] criterion=gini, max_features=auto, n_estimators=1000 ............\n",
      "[CV]  criterion=gini, max_features=auto, n_estimators=1000, total=   3.1s\n",
      "[CV] criterion=gini, max_features=auto, n_estimators=1000 ............\n",
      "[CV]  criterion=gini, max_features=auto, n_estimators=1000, total=   3.0s\n",
      "[CV] criterion=gini, max_features=auto, n_estimators=1000 ............\n",
      "[CV]  criterion=gini, max_features=auto, n_estimators=1000, total=   3.0s\n",
      "[CV] criterion=gini, max_features=sqrt, n_estimators=300 .............\n",
      "[CV]  criterion=gini, max_features=sqrt, n_estimators=300, total=   0.9s\n",
      "[CV] criterion=gini, max_features=sqrt, n_estimators=300 .............\n",
      "[CV]  criterion=gini, max_features=sqrt, n_estimators=300, total=   0.9s\n",
      "[CV] criterion=gini, max_features=sqrt, n_estimators=300 .............\n",
      "[CV]  criterion=gini, max_features=sqrt, n_estimators=300, total=   0.9s\n",
      "[CV] criterion=gini, max_features=sqrt, n_estimators=400 .............\n",
      "[CV]  criterion=gini, max_features=sqrt, n_estimators=400, total=   1.2s\n",
      "[CV] criterion=gini, max_features=sqrt, n_estimators=400 .............\n",
      "[CV]  criterion=gini, max_features=sqrt, n_estimators=400, total=   1.2s\n",
      "[CV] criterion=gini, max_features=sqrt, n_estimators=400 .............\n",
      "[CV]  criterion=gini, max_features=sqrt, n_estimators=400, total=   1.2s\n",
      "[CV] criterion=gini, max_features=sqrt, n_estimators=500 .............\n",
      "[CV]  criterion=gini, max_features=sqrt, n_estimators=500, total=   1.5s\n",
      "[CV] criterion=gini, max_features=sqrt, n_estimators=500 .............\n",
      "[CV]  criterion=gini, max_features=sqrt, n_estimators=500, total=   1.7s\n",
      "[CV] criterion=gini, max_features=sqrt, n_estimators=500 .............\n",
      "[CV]  criterion=gini, max_features=sqrt, n_estimators=500, total=   1.5s\n",
      "[CV] criterion=gini, max_features=sqrt, n_estimators=600 .............\n",
      "[CV]  criterion=gini, max_features=sqrt, n_estimators=600, total=   1.8s\n",
      "[CV] criterion=gini, max_features=sqrt, n_estimators=600 .............\n",
      "[CV]  criterion=gini, max_features=sqrt, n_estimators=600, total=   1.8s\n",
      "[CV] criterion=gini, max_features=sqrt, n_estimators=600 .............\n",
      "[CV]  criterion=gini, max_features=sqrt, n_estimators=600, total=   1.9s\n",
      "[CV] criterion=gini, max_features=sqrt, n_estimators=700 .............\n",
      "[CV]  criterion=gini, max_features=sqrt, n_estimators=700, total=   2.1s\n",
      "[CV] criterion=gini, max_features=sqrt, n_estimators=700 .............\n",
      "[CV]  criterion=gini, max_features=sqrt, n_estimators=700, total=   2.1s\n",
      "[CV] criterion=gini, max_features=sqrt, n_estimators=700 .............\n",
      "[CV]  criterion=gini, max_features=sqrt, n_estimators=700, total=   2.2s\n",
      "[CV] criterion=gini, max_features=sqrt, n_estimators=800 .............\n",
      "[CV]  criterion=gini, max_features=sqrt, n_estimators=800, total=   2.4s\n",
      "[CV] criterion=gini, max_features=sqrt, n_estimators=800 .............\n",
      "[CV]  criterion=gini, max_features=sqrt, n_estimators=800, total=   2.5s\n",
      "[CV] criterion=gini, max_features=sqrt, n_estimators=800 .............\n",
      "[CV]  criterion=gini, max_features=sqrt, n_estimators=800, total=   2.5s\n",
      "[CV] criterion=gini, max_features=sqrt, n_estimators=1000 ............\n",
      "[CV]  criterion=gini, max_features=sqrt, n_estimators=1000, total=   3.0s\n",
      "[CV] criterion=gini, max_features=sqrt, n_estimators=1000 ............\n",
      "[CV]  criterion=gini, max_features=sqrt, n_estimators=1000, total=   3.1s\n",
      "[CV] criterion=gini, max_features=sqrt, n_estimators=1000 ............\n",
      "[CV]  criterion=gini, max_features=sqrt, n_estimators=1000, total=   3.1s\n",
      "[CV] criterion=gini, max_features=log2, n_estimators=300 .............\n",
      "[CV]  criterion=gini, max_features=log2, n_estimators=300, total=   0.9s\n",
      "[CV] criterion=gini, max_features=log2, n_estimators=300 .............\n",
      "[CV]  criterion=gini, max_features=log2, n_estimators=300, total=   0.9s\n",
      "[CV] criterion=gini, max_features=log2, n_estimators=300 .............\n",
      "[CV]  criterion=gini, max_features=log2, n_estimators=300, total=   0.9s\n",
      "[CV] criterion=gini, max_features=log2, n_estimators=400 .............\n",
      "[CV]  criterion=gini, max_features=log2, n_estimators=400, total=   1.2s\n",
      "[CV] criterion=gini, max_features=log2, n_estimators=400 .............\n",
      "[CV]  criterion=gini, max_features=log2, n_estimators=400, total=   1.2s\n",
      "[CV] criterion=gini, max_features=log2, n_estimators=400 .............\n",
      "[CV]  criterion=gini, max_features=log2, n_estimators=400, total=   1.2s\n",
      "[CV] criterion=gini, max_features=log2, n_estimators=500 .............\n",
      "[CV]  criterion=gini, max_features=log2, n_estimators=500, total=   1.5s\n",
      "[CV] criterion=gini, max_features=log2, n_estimators=500 .............\n",
      "[CV]  criterion=gini, max_features=log2, n_estimators=500, total=   1.5s\n",
      "[CV] criterion=gini, max_features=log2, n_estimators=500 .............\n",
      "[CV]  criterion=gini, max_features=log2, n_estimators=500, total=   1.5s\n",
      "[CV] criterion=gini, max_features=log2, n_estimators=600 .............\n",
      "[CV]  criterion=gini, max_features=log2, n_estimators=600, total=   1.8s\n",
      "[CV] criterion=gini, max_features=log2, n_estimators=600 .............\n",
      "[CV]  criterion=gini, max_features=log2, n_estimators=600, total=   1.8s\n",
      "[CV] criterion=gini, max_features=log2, n_estimators=600 .............\n",
      "[CV]  criterion=gini, max_features=log2, n_estimators=600, total=   1.8s\n",
      "[CV] criterion=gini, max_features=log2, n_estimators=700 .............\n",
      "[CV]  criterion=gini, max_features=log2, n_estimators=700, total=   2.1s\n",
      "[CV] criterion=gini, max_features=log2, n_estimators=700 .............\n",
      "[CV]  criterion=gini, max_features=log2, n_estimators=700, total=   2.1s\n",
      "[CV] criterion=gini, max_features=log2, n_estimators=700 .............\n",
      "[CV]  criterion=gini, max_features=log2, n_estimators=700, total=   2.1s\n",
      "[CV] criterion=gini, max_features=log2, n_estimators=800 .............\n",
      "[CV]  criterion=gini, max_features=log2, n_estimators=800, total=   2.4s\n",
      "[CV] criterion=gini, max_features=log2, n_estimators=800 .............\n"
     ]
    },
    {
     "name": "stdout",
     "output_type": "stream",
     "text": [
      "[CV]  criterion=gini, max_features=log2, n_estimators=800, total=   2.4s\n",
      "[CV] criterion=gini, max_features=log2, n_estimators=800 .............\n",
      "[CV]  criterion=gini, max_features=log2, n_estimators=800, total=   2.4s\n",
      "[CV] criterion=gini, max_features=log2, n_estimators=1000 ............\n",
      "[CV]  criterion=gini, max_features=log2, n_estimators=1000, total=   3.0s\n",
      "[CV] criterion=gini, max_features=log2, n_estimators=1000 ............\n",
      "[CV]  criterion=gini, max_features=log2, n_estimators=1000, total=   3.0s\n",
      "[CV] criterion=gini, max_features=log2, n_estimators=1000 ............\n",
      "[CV]  criterion=gini, max_features=log2, n_estimators=1000, total=   3.0s\n",
      "[CV] criterion=entropy, max_features=auto, n_estimators=300 ..........\n",
      "[CV]  criterion=entropy, max_features=auto, n_estimators=300, total=   1.4s\n",
      "[CV] criterion=entropy, max_features=auto, n_estimators=300 ..........\n",
      "[CV]  criterion=entropy, max_features=auto, n_estimators=300, total=   1.4s\n",
      "[CV] criterion=entropy, max_features=auto, n_estimators=300 ..........\n",
      "[CV]  criterion=entropy, max_features=auto, n_estimators=300, total=   1.4s\n",
      "[CV] criterion=entropy, max_features=auto, n_estimators=400 ..........\n",
      "[CV]  criterion=entropy, max_features=auto, n_estimators=400, total=   1.8s\n",
      "[CV] criterion=entropy, max_features=auto, n_estimators=400 ..........\n",
      "[CV]  criterion=entropy, max_features=auto, n_estimators=400, total=   1.9s\n",
      "[CV] criterion=entropy, max_features=auto, n_estimators=400 ..........\n",
      "[CV]  criterion=entropy, max_features=auto, n_estimators=400, total=   1.8s\n",
      "[CV] criterion=entropy, max_features=auto, n_estimators=500 ..........\n",
      "[CV]  criterion=entropy, max_features=auto, n_estimators=500, total=   2.3s\n",
      "[CV] criterion=entropy, max_features=auto, n_estimators=500 ..........\n",
      "[CV]  criterion=entropy, max_features=auto, n_estimators=500, total=   2.3s\n",
      "[CV] criterion=entropy, max_features=auto, n_estimators=500 ..........\n",
      "[CV]  criterion=entropy, max_features=auto, n_estimators=500, total=   2.3s\n",
      "[CV] criterion=entropy, max_features=auto, n_estimators=600 ..........\n",
      "[CV]  criterion=entropy, max_features=auto, n_estimators=600, total=   2.8s\n",
      "[CV] criterion=entropy, max_features=auto, n_estimators=600 ..........\n",
      "[CV]  criterion=entropy, max_features=auto, n_estimators=600, total=   2.8s\n",
      "[CV] criterion=entropy, max_features=auto, n_estimators=600 ..........\n",
      "[CV]  criterion=entropy, max_features=auto, n_estimators=600, total=   2.7s\n",
      "[CV] criterion=entropy, max_features=auto, n_estimators=700 ..........\n",
      "[CV]  criterion=entropy, max_features=auto, n_estimators=700, total=   3.2s\n",
      "[CV] criterion=entropy, max_features=auto, n_estimators=700 ..........\n",
      "[CV]  criterion=entropy, max_features=auto, n_estimators=700, total=   3.2s\n",
      "[CV] criterion=entropy, max_features=auto, n_estimators=700 ..........\n",
      "[CV]  criterion=entropy, max_features=auto, n_estimators=700, total=   3.2s\n",
      "[CV] criterion=entropy, max_features=auto, n_estimators=800 ..........\n",
      "[CV]  criterion=entropy, max_features=auto, n_estimators=800, total=   3.7s\n",
      "[CV] criterion=entropy, max_features=auto, n_estimators=800 ..........\n",
      "[CV]  criterion=entropy, max_features=auto, n_estimators=800, total=   3.7s\n",
      "[CV] criterion=entropy, max_features=auto, n_estimators=800 ..........\n",
      "[CV]  criterion=entropy, max_features=auto, n_estimators=800, total=   3.6s\n",
      "[CV] criterion=entropy, max_features=auto, n_estimators=1000 .........\n",
      "[CV]  criterion=entropy, max_features=auto, n_estimators=1000, total=   4.6s\n",
      "[CV] criterion=entropy, max_features=auto, n_estimators=1000 .........\n",
      "[CV]  criterion=entropy, max_features=auto, n_estimators=1000, total=   4.7s\n",
      "[CV] criterion=entropy, max_features=auto, n_estimators=1000 .........\n",
      "[CV]  criterion=entropy, max_features=auto, n_estimators=1000, total=   4.6s\n",
      "[CV] criterion=entropy, max_features=sqrt, n_estimators=300 ..........\n",
      "[CV]  criterion=entropy, max_features=sqrt, n_estimators=300, total=   1.4s\n",
      "[CV] criterion=entropy, max_features=sqrt, n_estimators=300 ..........\n",
      "[CV]  criterion=entropy, max_features=sqrt, n_estimators=300, total=   1.4s\n",
      "[CV] criterion=entropy, max_features=sqrt, n_estimators=300 ..........\n",
      "[CV]  criterion=entropy, max_features=sqrt, n_estimators=300, total=   1.4s\n",
      "[CV] criterion=entropy, max_features=sqrt, n_estimators=400 ..........\n",
      "[CV]  criterion=entropy, max_features=sqrt, n_estimators=400, total=   1.8s\n",
      "[CV] criterion=entropy, max_features=sqrt, n_estimators=400 ..........\n",
      "[CV]  criterion=entropy, max_features=sqrt, n_estimators=400, total=   1.9s\n",
      "[CV] criterion=entropy, max_features=sqrt, n_estimators=400 ..........\n",
      "[CV]  criterion=entropy, max_features=sqrt, n_estimators=400, total=   1.8s\n",
      "[CV] criterion=entropy, max_features=sqrt, n_estimators=500 ..........\n",
      "[CV]  criterion=entropy, max_features=sqrt, n_estimators=500, total=   2.3s\n",
      "[CV] criterion=entropy, max_features=sqrt, n_estimators=500 ..........\n",
      "[CV]  criterion=entropy, max_features=sqrt, n_estimators=500, total=   2.4s\n",
      "[CV] criterion=entropy, max_features=sqrt, n_estimators=500 ..........\n",
      "[CV]  criterion=entropy, max_features=sqrt, n_estimators=500, total=   2.3s\n",
      "[CV] criterion=entropy, max_features=sqrt, n_estimators=600 ..........\n",
      "[CV]  criterion=entropy, max_features=sqrt, n_estimators=600, total=   2.8s\n",
      "[CV] criterion=entropy, max_features=sqrt, n_estimators=600 ..........\n",
      "[CV]  criterion=entropy, max_features=sqrt, n_estimators=600, total=   2.8s\n",
      "[CV] criterion=entropy, max_features=sqrt, n_estimators=600 ..........\n",
      "[CV]  criterion=entropy, max_features=sqrt, n_estimators=600, total=   2.7s\n",
      "[CV] criterion=entropy, max_features=sqrt, n_estimators=700 ..........\n",
      "[CV]  criterion=entropy, max_features=sqrt, n_estimators=700, total=   3.2s\n",
      "[CV] criterion=entropy, max_features=sqrt, n_estimators=700 ..........\n",
      "[CV]  criterion=entropy, max_features=sqrt, n_estimators=700, total=   3.3s\n",
      "[CV] criterion=entropy, max_features=sqrt, n_estimators=700 ..........\n",
      "[CV]  criterion=entropy, max_features=sqrt, n_estimators=700, total=   3.2s\n",
      "[CV] criterion=entropy, max_features=sqrt, n_estimators=800 ..........\n",
      "[CV]  criterion=entropy, max_features=sqrt, n_estimators=800, total=   3.7s\n",
      "[CV] criterion=entropy, max_features=sqrt, n_estimators=800 ..........\n",
      "[CV]  criterion=entropy, max_features=sqrt, n_estimators=800, total=   3.7s\n",
      "[CV] criterion=entropy, max_features=sqrt, n_estimators=800 ..........\n",
      "[CV]  criterion=entropy, max_features=sqrt, n_estimators=800, total=   3.7s\n",
      "[CV] criterion=entropy, max_features=sqrt, n_estimators=1000 .........\n",
      "[CV]  criterion=entropy, max_features=sqrt, n_estimators=1000, total=   4.6s\n",
      "[CV] criterion=entropy, max_features=sqrt, n_estimators=1000 .........\n",
      "[CV]  criterion=entropy, max_features=sqrt, n_estimators=1000, total=   4.6s\n",
      "[CV] criterion=entropy, max_features=sqrt, n_estimators=1000 .........\n",
      "[CV]  criterion=entropy, max_features=sqrt, n_estimators=1000, total=   4.6s\n",
      "[CV] criterion=entropy, max_features=log2, n_estimators=300 ..........\n",
      "[CV]  criterion=entropy, max_features=log2, n_estimators=300, total=   1.4s\n",
      "[CV] criterion=entropy, max_features=log2, n_estimators=300 ..........\n",
      "[CV]  criterion=entropy, max_features=log2, n_estimators=300, total=   1.4s\n",
      "[CV] criterion=entropy, max_features=log2, n_estimators=300 ..........\n",
      "[CV]  criterion=entropy, max_features=log2, n_estimators=300, total=   1.4s\n",
      "[CV] criterion=entropy, max_features=log2, n_estimators=400 ..........\n",
      "[CV]  criterion=entropy, max_features=log2, n_estimators=400, total=   1.9s\n",
      "[CV] criterion=entropy, max_features=log2, n_estimators=400 ..........\n",
      "[CV]  criterion=entropy, max_features=log2, n_estimators=400, total=   1.9s\n",
      "[CV] criterion=entropy, max_features=log2, n_estimators=400 ..........\n",
      "[CV]  criterion=entropy, max_features=log2, n_estimators=400, total=   1.8s\n",
      "[CV] criterion=entropy, max_features=log2, n_estimators=500 ..........\n",
      "[CV]  criterion=entropy, max_features=log2, n_estimators=500, total=   2.3s\n",
      "[CV] criterion=entropy, max_features=log2, n_estimators=500 ..........\n",
      "[CV]  criterion=entropy, max_features=log2, n_estimators=500, total=   2.3s\n",
      "[CV] criterion=entropy, max_features=log2, n_estimators=500 ..........\n",
      "[CV]  criterion=entropy, max_features=log2, n_estimators=500, total=   2.3s\n",
      "[CV] criterion=entropy, max_features=log2, n_estimators=600 ..........\n"
     ]
    },
    {
     "name": "stdout",
     "output_type": "stream",
     "text": [
      "[CV]  criterion=entropy, max_features=log2, n_estimators=600, total=   2.7s\n",
      "[CV] criterion=entropy, max_features=log2, n_estimators=600 ..........\n",
      "[CV]  criterion=entropy, max_features=log2, n_estimators=600, total=   2.8s\n",
      "[CV] criterion=entropy, max_features=log2, n_estimators=600 ..........\n",
      "[CV]  criterion=entropy, max_features=log2, n_estimators=600, total=   2.7s\n",
      "[CV] criterion=entropy, max_features=log2, n_estimators=700 ..........\n",
      "[CV]  criterion=entropy, max_features=log2, n_estimators=700, total=   3.2s\n",
      "[CV] criterion=entropy, max_features=log2, n_estimators=700 ..........\n",
      "[CV]  criterion=entropy, max_features=log2, n_estimators=700, total=   3.3s\n",
      "[CV] criterion=entropy, max_features=log2, n_estimators=700 ..........\n",
      "[CV]  criterion=entropy, max_features=log2, n_estimators=700, total=   3.2s\n",
      "[CV] criterion=entropy, max_features=log2, n_estimators=800 ..........\n",
      "[CV]  criterion=entropy, max_features=log2, n_estimators=800, total=   3.7s\n",
      "[CV] criterion=entropy, max_features=log2, n_estimators=800 ..........\n",
      "[CV]  criterion=entropy, max_features=log2, n_estimators=800, total=   3.7s\n",
      "[CV] criterion=entropy, max_features=log2, n_estimators=800 ..........\n",
      "[CV]  criterion=entropy, max_features=log2, n_estimators=800, total=   3.6s\n",
      "[CV] criterion=entropy, max_features=log2, n_estimators=1000 .........\n",
      "[CV]  criterion=entropy, max_features=log2, n_estimators=1000, total=   4.6s\n",
      "[CV] criterion=entropy, max_features=log2, n_estimators=1000 .........\n",
      "[CV]  criterion=entropy, max_features=log2, n_estimators=1000, total=   4.6s\n",
      "[CV] criterion=entropy, max_features=log2, n_estimators=1000 .........\n",
      "[CV]  criterion=entropy, max_features=log2, n_estimators=1000, total=   4.5s\n"
     ]
    },
    {
     "name": "stderr",
     "output_type": "stream",
     "text": [
      "[Parallel(n_jobs=1)]: Done 126 out of 126 | elapsed:  5.3min finished\n"
     ]
    },
    {
     "data": {
      "text/plain": [
       "{'criterion': 'gini', 'max_features': 'auto', 'n_estimators': 600}"
      ]
     },
     "execution_count": 31,
     "metadata": {},
     "output_type": "execute_result"
    }
   ],
   "source": [
    "param_grid = {'n_estimators': [300,400, 500,600,700,800,1000],\n",
    "    'max_features': ['auto', 'sqrt', 'log2'],\n",
    "    ###'max_depth' : [4,5,6,7,8], 71.666\n",
    "    'criterion' :['gini', 'entropy']\n",
    "}\n",
    "\n",
    "\n",
    "rf = RandomForestClassifier(random_state=20)\n",
    "grid_search_rfe = GridSearchCV(estimator = rf,param_grid = param_grid,cv = 3, verbose = 2)\n",
    "grid_search_rfe.fit(X_train_new,ytrain)\n",
    "grid_search_rfe.best_params_"
   ]
  },
  {
   "cell_type": "code",
   "execution_count": 32,
   "metadata": {},
   "outputs": [
    {
     "name": "stdout",
     "output_type": "stream",
     "text": [
      "0.89\n"
     ]
    }
   ],
   "source": [
    "\n",
    "randomforest_tuned = grid_search_rfe.score(X_test_new,ytest)\n",
    "print(randomforest_tuned)"
   ]
  },
  {
   "cell_type": "markdown",
   "metadata": {},
   "source": [
    "#### Trails done before reaching the above result"
   ]
  },
  {
   "cell_type": "code",
   "execution_count": 26,
   "metadata": {},
   "outputs": [
    {
     "name": "stdout",
     "output_type": "stream",
     "text": [
      "0.8616666666666667\n"
     ]
    }
   ],
   "source": [
    "forest = RandomForestClassifier(random_state = 20)\n",
    "\n",
    "rfe = RFE(forest,10)\n",
    "fit = rfe.fit(Xtrain,ytrain)\n",
    "X_train_new = fit.transform(Xtrain)\n",
    "X_test_new = fit.transform(Xtest)\n",
    "forest.fit(X_train_new,ytrain)\n",
    "print(forest.score(X_test_new,ytest))\n"
   ]
  },
  {
   "cell_type": "markdown",
   "metadata": {},
   "source": [
    "## Gradient Boosting Tuning"
   ]
  },
  {
   "cell_type": "markdown",
   "metadata": {},
   "source": []
  },
  {
   "cell_type": "code",
   "execution_count": 27,
   "metadata": {},
   "outputs": [],
   "source": [
    "parameters = {\n",
    "    #\"loss\":[\"deviance\"],\n",
    "    \"learning_rate\": [0.1,0.2,0.3,0.4,0.5,0.6,0.7,0.8,0.9,1],\n",
    "    #\"min_samples_split\": np.linspace(0.1, 0.5, 12),\n",
    "    #\"min_samples_leaf\": np.linspace(0.1, 0.5, 12),\n",
    "    \"max_depth\":[10,20,30,40],\n",
    "    #\"max_features\":[\"log2\",\"sqrt\"],\n",
    "    #\"criterion\": [\"friedman_mse\",  \"mae\"],\n",
    "    #\"subsample\":[0.5, 0.618, 0.8, 0.85, 0.9, 0.95, 1.0],\n",
    "    #\"n_estimators\":[100,200,300,400,500]\n",
    "   }\n",
    "best_learningrate = 0\n",
    "score = 0\n",
    "learning_rate = [0.1,0.2,0.3,0.4,0.5,0.6,0.7,0.8,0.9,1] \n",
    "for i in learning_rate:\n",
    "    #print(\"Learning rate\",i)\n",
    "    \n",
    "    clf = GradientBoostingClassifier(n_estimators=20, learning_rate = i, max_features= 4, max_depth = 20, random_state = 40)\n",
    "\n",
    "    clf.fit(X_train_new,ytrain)\n",
    "    \n",
    "    if clf.score(X_test_new,ytest) > score:\n",
    "        score = clf.score(X_test_new,ytest)\n",
    "        best_learningrate = i\n"
   ]
  },
  {
   "cell_type": "code",
   "execution_count": 28,
   "metadata": {},
   "outputs": [
    {
     "name": "stdout",
     "output_type": "stream",
     "text": [
      "0.1\n"
     ]
    }
   ],
   "source": [
    "print(best_learningrate)"
   ]
  },
  {
   "cell_type": "code",
   "execution_count": 29,
   "metadata": {},
   "outputs": [],
   "source": [
    "clf = GradientBoostingClassifier(n_estimators=20,learning_rate= best_learningrate,max_features = 4,max_depth =20,random_state = 40)\n",
    "clf.fit(X_train_new,ytrain)\n",
    "gradientboosting_tune = clf.score(X_test_new,ytest)"
   ]
  },
  {
   "cell_type": "code",
   "execution_count": 27,
   "metadata": {},
   "outputs": [
    {
     "name": "stdout",
     "output_type": "stream",
     "text": [
      "0.8916666666666667\n"
     ]
    }
   ],
   "source": [
    "print(gradientboosting_tune)"
   ]
  },
  {
   "cell_type": "markdown",
   "metadata": {},
   "source": [
    "#### Trails done before reaching the above result"
   ]
  },
  {
   "cell_type": "code",
   "execution_count": 30,
   "metadata": {},
   "outputs": [
    {
     "name": "stdout",
     "output_type": "stream",
     "text": [
      "Learning rate 0.1\n",
      "0.855\n",
      "Learning rate 0.2\n",
      "0.865\n",
      "Learning rate 0.3\n",
      "0.8533333333333334\n",
      "Learning rate 0.4\n",
      "0.8566666666666667\n",
      "Learning rate 0.5\n",
      "0.86\n",
      "Learning rate 0.6\n",
      "0.8466666666666667\n",
      "Learning rate 0.7\n",
      "0.8616666666666667\n",
      "Learning rate 0.8\n",
      "0.8583333333333333\n",
      "Learning rate 0.9\n",
      "0.8233333333333334\n",
      "Learning rate 1\n",
      "0.8266666666666667\n"
     ]
    }
   ],
   "source": [
    "parameters = {\n",
    "    #\"loss\":[\"deviance\"],\n",
    "    \"learning_rate\": [0.1,0.2,0.3,0.4,0.5,0.6,0.7,0.8,0.9,1],\n",
    "    #\"min_samples_split\": np.linspace(0.1, 0.5, 12),\n",
    "    #\"min_samples_leaf\": np.linspace(0.1, 0.5, 12),\n",
    "    #\"max_depth\":[10,20,30,40],\n",
    "    #\"max_features\":[\"log2\",\"sqrt\"],\n",
    "    #\"criterion\": [\"friedman_mse\",  \"mae\"],\n",
    "    #\"subsample\":[0.5, 0.618, 0.8, 0.85, 0.9, 0.95, 1.0],\n",
    "    #\"n_estimators\":[100,200,300,400,500]\n",
    "   }\n",
    "best_learningrate = 0\n",
    "score = 0\n",
    "learning_rate = [0.1,0.2,0.3,0.4,0.5,0.6,0.7,0.8,0.9,1] \n",
    "for i in learning_rate:\n",
    "    print(\"Learning rate\",i)\n",
    "    \n",
    "    clf_old = GradientBoostingClassifier(n_estimators=20, learning_rate = i, max_features=200, max_depth = 20, random_state = 40)\n",
    "\n",
    "    clf_old.fit(Xtrain,ytrain)\n",
    "    #if clf.score(Xtest,ytest) > score:\n",
    "    #   score = clf.score(y.iloc[:,:493],y.iloc[:,493])\n",
    "        \n",
    "    #   best_learningrate = i\n",
    "    print(clf_old.score(Xtest,ytest))\n"
   ]
  },
  {
   "cell_type": "code",
   "execution_count": 33,
   "metadata": {},
   "outputs": [],
   "source": [
    "d = {'BaseModels Accuracy' : pd.Series([logreg_base,randomforest_base, gradientboosting_base], index=['Logistic Regression', 'Random Forest', 'Gradient Boosting']),\n",
    "   'Tuned Models Accuracy' : pd.Series([logreg_tuned,randomforest_tuned, gradientboosting_tune], index=['Logistic Regression','Random Forest','Gradient Boosting'])}"
   ]
  },
  {
   "cell_type": "code",
   "execution_count": 34,
   "metadata": {},
   "outputs": [
    {
     "data": {
      "text/html": [
       "<div>\n",
       "<style scoped>\n",
       "    .dataframe tbody tr th:only-of-type {\n",
       "        vertical-align: middle;\n",
       "    }\n",
       "\n",
       "    .dataframe tbody tr th {\n",
       "        vertical-align: top;\n",
       "    }\n",
       "\n",
       "    .dataframe thead th {\n",
       "        text-align: right;\n",
       "    }\n",
       "</style>\n",
       "<table border=\"1\" class=\"dataframe\">\n",
       "  <thead>\n",
       "    <tr style=\"text-align: right;\">\n",
       "      <th></th>\n",
       "      <th>BaseModels Accuracy</th>\n",
       "      <th>Tuned Models Accuracy</th>\n",
       "    </tr>\n",
       "  </thead>\n",
       "  <tbody>\n",
       "    <tr>\n",
       "      <th>Logistic Regression</th>\n",
       "      <td>0.591667</td>\n",
       "      <td>0.593333</td>\n",
       "    </tr>\n",
       "    <tr>\n",
       "      <th>Random Forest</th>\n",
       "      <td>0.628333</td>\n",
       "      <td>0.890000</td>\n",
       "    </tr>\n",
       "    <tr>\n",
       "      <th>Gradient Boosting</th>\n",
       "      <td>0.748333</td>\n",
       "      <td>0.895000</td>\n",
       "    </tr>\n",
       "  </tbody>\n",
       "</table>\n",
       "</div>"
      ],
      "text/plain": [
       "                     BaseModels Accuracy  Tuned Models Accuracy\n",
       "Logistic Regression             0.591667               0.593333\n",
       "Random Forest                   0.628333               0.890000\n",
       "Gradient Boosting               0.748333               0.895000"
      ]
     },
     "execution_count": 34,
     "metadata": {},
     "output_type": "execute_result"
    }
   ],
   "source": [
    "df = pd.DataFrame(d)\n",
    "df"
   ]
  },
  {
   "cell_type": "markdown",
   "metadata": {},
   "source": [
    "### Ensembling models [Linear Regression, RandomForest,Gradient Boosting] using voting classifier"
   ]
  },
  {
   "cell_type": "code",
   "execution_count": null,
   "metadata": {},
   "outputs": [],
   "source": []
  },
  {
   "cell_type": "code",
   "execution_count": 36,
   "metadata": {
    "scrolled": true
   },
   "outputs": [
    {
     "name": "stderr",
     "output_type": "stream",
     "text": [
      "/home/agastya/anaconda3/lib/python3.6/site-packages/sklearn/preprocessing/label.py:151: DeprecationWarning: The truth value of an empty array is ambiguous. Returning False, but in future this will result in an error. Use `array.size > 0` to check that an array is not empty.\n",
      "  if diff:\n"
     ]
    },
    {
     "data": {
      "text/plain": [
       "0.89"
      ]
     },
     "execution_count": 36,
     "metadata": {},
     "output_type": "execute_result"
    }
   ],
   "source": [
    "eclf = VotingClassifier(estimators=[('lr', best_model_rfe), ('rf', fit), ('gbc', clf)], voting='hard')\n",
    "eclf.fit(X_train_new,ytrain)\n",
    "eclf.score(X_test_new,ytest)"
   ]
  }
 ],
 "metadata": {
  "kernelspec": {
   "display_name": "Python 3",
   "language": "python",
   "name": "python3"
  },
  "language_info": {
   "codemirror_mode": {
    "name": "ipython",
    "version": 3
   },
   "file_extension": ".py",
   "mimetype": "text/x-python",
   "name": "python",
   "nbconvert_exporter": "python",
   "pygments_lexer": "ipython3",
   "version": "3.6.5"
  }
 },
 "nbformat": 4,
 "nbformat_minor": 2
}
