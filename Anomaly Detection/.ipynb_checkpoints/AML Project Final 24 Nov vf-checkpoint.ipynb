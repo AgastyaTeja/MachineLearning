{
 "cells": [
  {
   "cell_type": "code",
   "execution_count": 17,
   "metadata": {},
   "outputs": [],
   "source": [
    "import numpy as np\n",
    "import pandas as pd\n",
    "from pyod.models import iforest, ocsvm, cblof\n",
    "from matplotlib import pyplot as plt\n",
    "from matplotlib.backends import backend_pdf\n",
    "from pyod import models\n",
    "from sklearn import preprocessing, decomposition, metrics, ensemble, svm, cluster, linear_model\n",
    "from itertools import count\n",
    "import collections\n",
    "import glob\n",
    "import rpy2.robjects as robjects\n",
    "from collections import OrderedDict\n",
    "import datetime as dt\n",
    "import time\n",
    "import tweepy\n",
    "import csv\n",
    "import collections\n",
    "import random\n",
    "from collections import Counter\n",
    "import string\n",
    "import re\n",
    "from wordcloud import WordCloud, STOPWORDS "
   ]
  },
  {
   "cell_type": "markdown",
   "metadata": {},
   "source": [
    "## Feature Engineering"
   ]
  },
  {
   "cell_type": "code",
   "execution_count": 18,
   "metadata": {},
   "outputs": [],
   "source": [
    "def feature_engineering(filename):\n",
    "    '''\n",
    "    This function takes in the filename and splits the time component into hours, day of the week, and is it a weekday or not. \n",
    "    \n",
    "    Args:\n",
    "    -----\n",
    "    filename : String\n",
    "    \n",
    "    Returns:\n",
    "    --------\n",
    "    df : pandas.DataFrame\n",
    "    '''\n",
    "    df = pd.read_csv(filename)\n",
    "    df['datetime'] = pd.to_datetime(df['timestamps'] * (10**9))\n",
    "    df = df[['value', 'anomaly', 'datetime', 'timestamps']]\n",
    "\n",
    "    df['datetime'] = pd.to_datetime(df['datetime'])\n",
    "    df['hours'] = df['datetime'].dt.hour\n",
    "    df['day'] = df['datetime'].dt.dayofweek\n",
    "    df['isweekday'] = (df['day'] < 5).astype(int)\n",
    "    return df\n",
    "\n"
   ]
  },
  {
   "cell_type": "markdown",
   "metadata": {},
   "source": [
    "## Helper function"
   ]
  },
  {
   "cell_type": "code",
   "execution_count": 32,
   "metadata": {},
   "outputs": [],
   "source": [
    "random.seed(100)\n",
    "outliers_fraction = 0.01\n",
    "\n",
    "def plot_data(dataframe, anomaly, title):\n",
    "    '''\n",
    "    This function takes in the two dataframe and creates a plot for timeseries with anomaly. \n",
    "    \n",
    "    Args:\n",
    "    -----\n",
    "    dataframe : pandas.DataFrame\n",
    "    anomaly : pandas.DataFrame\n",
    "    title : String\n",
    "    \n",
    "    '''\n",
    "        \n",
    "#     print(type(dataframe))\n",
    "    dataframe = dataframe.sort_values(by = 'timestamps')\n",
    "    plt.plot(dataframe['timestamps'], dataframe['value'], color='blue')\n",
    "    plt.scatter(anomaly['timestamps'],anomaly['value'], color='red')\n",
    "    plt.title(title)\n",
    "\n",
    "\n",
    "\n",
    "def standardize(dataframe):\n",
    "    \n",
    "    '''\n",
    "    This function takes in a dataframe and performs preprocessing using scaling. \n",
    "    \n",
    "    Args:\n",
    "    -----\n",
    "    dataframe : pandas.DataFrame\n",
    "    \n",
    "    Returns:\n",
    "    --------\n",
    "    df : pandas.DataFrame\n",
    "    '''\n",
    "    \n",
    "    dataframe = dataframe[['value', 'hours', 'day', 'isweekday']]\n",
    "    trans_scalar = preprocessing.StandardScaler()\n",
    "    data_scaled = trans_scalar.fit_transform(dataframe)\n",
    "    data = pd.DataFrame(data_scaled)\n",
    "#     data = dataframe[['value', 'hours']]\n",
    "    return data\n",
    "\n",
    "def detrend(dataframe):\n",
    "    \n",
    "    '''\n",
    "    This function takes in dataframe and removes the trend in value column. \n",
    "    \n",
    "    Args:\n",
    "    -----\n",
    "    dataframe : pandas.DataFrame\n",
    "    \n",
    "    Returns:\n",
    "    --------\n",
    "    dataframe : pandas.DataFrame\n",
    "    '''\n",
    "    \n",
    "    dataframe.index.name = 'Label'\n",
    "    dataframe.reset_index(inplace = True)\n",
    "    lm = linear_model.LinearRegression()\n",
    "    X = dataframe['Label']\n",
    "    y = dataframe['value']\n",
    "    X = X.values\n",
    "    X = X.reshape(-1,1)\n",
    "    model = lm.fit(X,y)\n",
    "    trend_val = float(lm.coef_)\n",
    "    print(trend_val)\n",
    "    dataframe['value'] = dataframe['value'] - round(trend_val, 0) * dataframe['Label']\n",
    "    dataframe.drop(['Label'], axis = 1)\n",
    "    return dataframe, trend_val\n",
    "\n"
   ]
  },
  {
   "cell_type": "markdown",
   "metadata": {},
   "source": [
    "## Baseline Model "
   ]
  },
  {
   "cell_type": "markdown",
   "metadata": {},
   "source": [
    "### Mean Plus Standard Deviation "
   ]
  },
  {
   "cell_type": "code",
   "execution_count": 20,
   "metadata": {},
   "outputs": [],
   "source": [
    "def mean_plus_standev(dataframe):\n",
    "    \n",
    "    '''\n",
    "    This function takes in dataframe and identifies anomaly using mean + standard deviaton method. It adds a new column \n",
    "    called \"mean_plus_standev\" to our input dataframe that flags anomaly as 1. Also returns an anomaly dataframe, which is\n",
    "    a subset of input dataframe when \"mean_plus_standev\" is 1.\n",
    "    \n",
    "    Args:\n",
    "    -----\n",
    "    dataframe : pandas.DataFrame\n",
    "    \n",
    "    Returns:\n",
    "    --------\n",
    "    dataframe : pandas.DataFrame\n",
    "    anomaly : pandas.DataFrame\n",
    "    '''\n",
    "     \n",
    "    sigma = 3\n",
    "    anomalies = []\n",
    "    y = dataframe[\"value\"]\n",
    "    upper_bound = y.mean() + sigma*y.std()\n",
    "    lower_bound = y.mean() - sigma*y.std()\n",
    "\n",
    "    anomalies = []\n",
    "    for i in y.values:\n",
    "        if i > upper_bound or i < lower_bound:\n",
    "            anomalies.append(i)\n",
    "            \n",
    "    dataframe[\"mean_plus_standev\"] = 0\n",
    "    for i in range(len(data[\"value\"])):\n",
    "        \n",
    "        if dataframe.value[i] in anomalies:\n",
    "            dataframe.loc[i,\"mean_plus_standev\"] = 1\n",
    "            \n",
    "    \n",
    "    anomaly = dataframe.loc[dataframe['mean_plus_standev'] == 1, ['timestamps', 'value']]\n",
    "    \n",
    "    return dataframe, anomaly"
   ]
  },
  {
   "cell_type": "markdown",
   "metadata": {},
   "source": [
    "### Moving Average "
   ]
  },
  {
   "cell_type": "code",
   "execution_count": 21,
   "metadata": {},
   "outputs": [],
   "source": [
    "def moving_average(data, window_size):\n",
    "    \n",
    "    '''\n",
    "    This function takes in dataframe and a window size and returns a list.\n",
    "    \n",
    "    Args:\n",
    "    -----\n",
    "    data : pandas.DataFrame\n",
    "    window_size : Integer\n",
    "    \n",
    "    Returns:\n",
    "    --------\n",
    "    convolution : List\n",
    "    '''\n",
    "\n",
    "    data = data\n",
    "    window = window_size\n",
    "    output = []\n",
    "    for i in range(window):\n",
    "        output.append(data[:i+1])\n",
    "\n",
    "    for i in range(1,len(data)):\n",
    "   \n",
    "        output.append(data[i:i+window])\n",
    "    \n",
    "\n",
    "    convolution = [sum(i)/window for i in output]\n",
    "    extra = window-1\n",
    "\n",
    "    if (extra)%2 == 0:\n",
    "        half = int(extra/2)\n",
    "        return(convolution[half:len(output)-half])\n",
    "    \n",
    "    else:\n",
    "        first_half = int(extra//2)\n",
    "        second_half = extra-first_half\n",
    "        return(convolution[first_half:len(output)-second_half])"
   ]
  },
  {
   "cell_type": "code",
   "execution_count": 22,
   "metadata": {},
   "outputs": [],
   "source": [
    "def moving_avg(dataframe):\n",
    "    '''\n",
    "    This function takes in dataframe and identifies anomaly using moving average method. It adds a new column \n",
    "    called \"moving_avg\" to our input dataframe that flags anomaly as 1. Also returns an anomaly dataframe, which is\n",
    "    a subset of input dataframe when \"moving_avg\" is 1.\n",
    "    \n",
    "    Args:\n",
    "    -----\n",
    "    dataframe : pandas.DataFrame\n",
    "    \n",
    "    Returns:\n",
    "    --------\n",
    "    dataframe : pandas.DataFrame\n",
    "    anomaly : pandas.DataFrame\n",
    "    '''\n",
    "    window_size = 10\n",
    "    sigma = 3\n",
    "    y = dataframe[\"value\"]\n",
    "    #print(y)\n",
    "    avg = moving_average(y, window_size)\n",
    "    #residual = y - avg\n",
    "    std = np.std(y)    \n",
    "    anomalies = []\n",
    "    \n",
    "    for y_i,mean_i in zip(y,avg):       \n",
    "        \n",
    "        upper_bound = mean_i + (sigma*std)\n",
    "        lower_bound = mean_i - (sigma*std)\n",
    "        \n",
    "        if (y_i > upper_bound) or (y_i < lower_bound): \n",
    "\n",
    "            anomalies.append(y_i)\n",
    "            \n",
    "    dataframe[\"moving_avg\"] = 0\n",
    "    \n",
    "    for i in range(len(dataframe[\"value\"])):\n",
    "        if dataframe.value[i] in anomalies:\n",
    "            dataframe.loc[i,\"moving_avg\"] = 1\n",
    "    \n",
    "    anomaly = dataframe.loc[dataframe['moving_avg'] == 1, ['timestamps', 'value']]\n",
    "    return dataframe, anomaly"
   ]
  },
  {
   "cell_type": "markdown",
   "metadata": {},
   "source": [
    "### Moving Average and Rolling Standard Deviation "
   ]
  },
  {
   "cell_type": "code",
   "execution_count": 23,
   "metadata": {},
   "outputs": [],
   "source": [
    "def moving_avg_rolling_std(dataframe):\n",
    "    \n",
    "    '''\n",
    "    This function takes in dataframe and identifies anomaly using moving average rolling standard deviation method. It adds a new column \n",
    "    called \"moving_avg_rolling_std\" to our input dataframe that flags anomaly as 1. Also returns an anomaly dataframe, which is\n",
    "    a subset of input dataframe when \"moving_avg_rolling_std\" is 1.\n",
    "    \n",
    "    Args:\n",
    "    -----\n",
    "    dataframe : pandas.DataFrame\n",
    "    \n",
    "    Returns:\n",
    "    --------\n",
    "    dataframe : pandas.DataFrame\n",
    "    anomaly : pandas.DataFrame\n",
    "    '''\n",
    "    \n",
    "    window_size = 10\n",
    "    sigma = 2\n",
    "    y = dataframe[\"value\"]\n",
    "    avg = moving_average(y, window_size)\n",
    "    s = pd.DataFrame(y)\n",
    "    \n",
    "    rolling_stdev = s.rolling(window_size).std()    \n",
    "    rolling_stdev_as_df = pd.DataFrame(rolling_stdev)\n",
    "    #print(\"-------------\")\n",
    "    #print(rolling_stdev_as_df)\n",
    "    temp = rolling_stdev_as_df.replace(np.nan,rolling_stdev_as_df.iloc[window_size - 1])\n",
    "    #print(temp)\n",
    "    rolling_stdev = list(temp.iloc[:,0])   \n",
    "    anomalies = []\n",
    "    \n",
    "    for data_i, rolling_mean_i, rolling_std_i in zip(y, avg, rolling_stdev):\n",
    "        \n",
    "        upper_bound = rolling_mean_i + (sigma * rolling_std_i)\n",
    "        lower_bound = rolling_mean_i - (sigma * rolling_std_i)\n",
    "        \n",
    "        if (data_i > upper_bound) | (data_i < lower_bound):\n",
    "            \n",
    "            anomalies.append(data_i)\n",
    "    #print(anomalies)\n",
    "    dataframe[\"moving_avg_rolling_std\"] = 0\n",
    "    for i in range(len(dataframe[\"value\"])):\n",
    "        if dataframe.value[i] in anomalies:\n",
    "            dataframe.loc[i,\"moving_avg_rolling_std\"] = 1\n",
    "    \n",
    "    \n",
    "    anomaly = dataframe.loc[dataframe['moving_avg_rolling_std'] == 1, ['timestamps', 'value']]\n",
    "    return dataframe, anomaly"
   ]
  },
  {
   "cell_type": "markdown",
   "metadata": {},
   "source": [
    "### K Means "
   ]
  },
  {
   "cell_type": "code",
   "execution_count": 24,
   "metadata": {},
   "outputs": [],
   "source": [
    "def get_distance(data, model):\n",
    "    \n",
    "    '''\n",
    "    An helper function to calculate distance to the cluster center for K Means.\n",
    "    \n",
    "    Args:\n",
    "    -----\n",
    "    data : pandas.DataFrame\n",
    "    \n",
    "    Returns:\n",
    "    --------\n",
    "    distance : pd.Series()\n",
    "    '''\n",
    "    \n",
    "    distance = pd.Series()\n",
    "    \n",
    "    for i in range(0,len(data)):\n",
    "#         Xa = np.array(data.loc[i])\n",
    "#         Xb = model.cluster_centers_[model.labels_[i]-1]\n",
    "        distance.at[i] = np.linalg.norm(np.array(data.loc[i]) - model.cluster_centers_[model.labels_[i]-1])\n",
    "    \n",
    "    return distance\n",
    "\n",
    "def kmeans(dataframe):\n",
    "    \n",
    "    '''\n",
    "    This function takes in dataframe and identifies anomaly using K means clustering method. It adds a new column \n",
    "    called \"kmeans\" to our input dataframe that flags anomaly as 1. Also returns an anomaly dataframe, which is\n",
    "    a subset of input dataframe when \"kmeans\" is 1.\n",
    "    \n",
    "    Args:\n",
    "    -----\n",
    "    dataframe : pandas.DataFrame\n",
    "    \n",
    "    Returns:\n",
    "    --------\n",
    "    dataframe : pandas.DataFrame\n",
    "    anomaly : pandas.DataFrame\n",
    "    '''\n",
    "      \n",
    "    data = standardize(dataframe)\n",
    "\n",
    "#     pca = decomposition.PCA(n_components=2)\n",
    "#     data = pca.fit_transform(data)\n",
    "    \n",
    "    data = pd.DataFrame(data)\n",
    "#     n_cluster = range(1, 50)\n",
    "#     kmeans = [cluster.KMeans(n_clusters=i).fit(data) for i in range(1, 50)]\n",
    "#     scores = [kmeans[i].score(data) for i in range(len(kmeans))]\n",
    "#     fig, ax = plt.subplots()\n",
    "#     ax.plot(n_cluster, scores)\n",
    "#     plt.show()\n",
    "    \n",
    "    distance = get_distance(data, cluster.KMeans(n_clusters = 4, random_state = 20).fit(data))\n",
    "    number_of_outliers = int(outliers_fraction * len(distance))\n",
    "    threshold = distance.nlargest(number_of_outliers).min()\n",
    "    \n",
    "    dataframe['kmeans'] = (distance >= threshold).astype(int)\n",
    "    \n",
    "    anomaly = dataframe.loc[dataframe['kmeans'] == 1, ['timestamps', 'value']] \n",
    "    \n",
    "    return dataframe, anomaly\n",
    "\n",
    "\n"
   ]
  },
  {
   "cell_type": "markdown",
   "metadata": {},
   "source": [
    "### Clustering Based Local Outlier Factor Method "
   ]
  },
  {
   "cell_type": "code",
   "execution_count": 25,
   "metadata": {},
   "outputs": [],
   "source": [
    "def cblof_pyod(dataframe):\n",
    "    \n",
    "    '''\n",
    "    This function takes in dataframe and identifies anomaly using Clustering Based Local Outlier Factor method (CBLOF). \n",
    "    It adds a new column called \"cblof_pyod\" to our input dataframe that flags anomaly as 1. Also returns an anomaly dataframe, \n",
    "    which is a subset of input dataframe when \"cblof_pyod\" is 1.\n",
    "    \n",
    "    Args:\n",
    "    -----\n",
    "    dataframe : pandas.DataFrame\n",
    "    \n",
    "    Returns:\n",
    "    --------\n",
    "    dataframe : pandas.DataFrame\n",
    "    anomaly : pandas.DataFrame\n",
    "    '''\n",
    "    \n",
    "    data = standardize(dataframe)\n",
    "    \n",
    "    model = models.cblof.CBLOF(contamination = outliers_fraction)\n",
    "    model.fit(data)\n",
    "    dataframe['cblof_pyod'] = pd.Series(model.predict(data))\n",
    "    \n",
    "    anomaly = dataframe.loc[dataframe['cblof_pyod'] == 1, ['timestamps', 'value']]\n",
    "    return dataframe, anomaly"
   ]
  },
  {
   "cell_type": "markdown",
   "metadata": {},
   "source": [
    "### Isolation Forest "
   ]
  },
  {
   "cell_type": "code",
   "execution_count": 26,
   "metadata": {},
   "outputs": [],
   "source": [
    "def isolation_forest(dataframe):\n",
    "    \n",
    "    '''\n",
    "    This function takes in dataframe and identifies anomaly using Isolation Forest method. It adds a new column \n",
    "    called \"isolation_forest\" to our input dataframe that flags anomaly as 1. Also returns an anomaly dataframe, which is\n",
    "    a subset of input dataframe when \"isolation_forest\" is 1.\n",
    "    \n",
    "    Args:\n",
    "    -----\n",
    "    dataframe : pandas.DataFrame\n",
    "    \n",
    "    Returns:\n",
    "    --------\n",
    "    dataframe : pandas.DataFrame\n",
    "    anomaly : pandas.DataFrame\n",
    "    '''\n",
    "   \n",
    "    data = standardize(dataframe)\n",
    "    \n",
    "    model =  ensemble.IsolationForest(contamination = outliers_fraction)\n",
    "    model.fit(data)\n",
    " \n",
    "    dataframe['isolation_forest'] = pd.Series(model.predict(data))\n",
    "    dataframe['isolation_forest'] = dataframe['isolation_forest'].map( {1: 0, -1: 1} )\n",
    "    \n",
    "    anomaly = dataframe.loc[dataframe['isolation_forest'] == 1, ['timestamps', 'value']]\n",
    "    return dataframe, anomaly\n"
   ]
  },
  {
   "cell_type": "markdown",
   "metadata": {},
   "source": [
    "### Isolation Forest PYOD "
   ]
  },
  {
   "cell_type": "code",
   "execution_count": 27,
   "metadata": {},
   "outputs": [],
   "source": [
    "def isolation_forest_pyod(dataframe):\n",
    "    \n",
    "    '''\n",
    "    This function takes in dataframe and identifies anomaly using Isolation Forest method from pyod package. It adds a new column \n",
    "    called \"isolation_forest_pyod\" to our input dataframe that flags anomaly as 1. Also returns an anomaly dataframe, which is\n",
    "    a subset of input dataframe when \"isolation_forest_pyod\" is 1.\n",
    "    \n",
    "    Args:\n",
    "    -----\n",
    "    dataframe : pandas.DataFrame\n",
    "    \n",
    "    Returns:\n",
    "    --------\n",
    "    dataframe : pandas.DataFrame\n",
    "    anomaly : pandas.DataFrame\n",
    "    '''\n",
    "    \n",
    "    data = standardize(dataframe)\n",
    "    \n",
    "    model = iforest.IForest(contamination = outliers_fraction)\n",
    "    model.fit(data)\n",
    "\n",
    "    dataframe['isolation_forest_pyod'] = pd.Series(model.predict(data))\n",
    "    anomaly = dataframe.loc[dataframe['isolation_forest_pyod'] == 1, ['timestamps', 'value']]\n",
    "    return dataframe, anomaly\n",
    "\n"
   ]
  },
  {
   "cell_type": "markdown",
   "metadata": {},
   "source": [
    "### One Class SVM "
   ]
  },
  {
   "cell_type": "code",
   "execution_count": 28,
   "metadata": {},
   "outputs": [],
   "source": [
    "def one_class_svm(dataframe):\n",
    "    \n",
    "    '''\n",
    "    This function takes in dataframe and identifies anomaly using One Class SVM method. It adds a new column \n",
    "    called \"isolation_forest_pyod\" to our input dataframe that flags anomaly as 1. Also returns an anomaly dataframe, which is\n",
    "    a subset of input dataframe when \"isolation_forest_pyod\" is 1.\n",
    "    \n",
    "    Args:\n",
    "    -----\n",
    "    dataframe : pandas.DataFrame\n",
    "    \n",
    "    Returns:\n",
    "    --------\n",
    "    dataframe : pandas.DataFrame\n",
    "    anomaly : pandas.DataFrame\n",
    "    '''\n",
    "   \n",
    "    data = standardize(dataframe)\n",
    "    \n",
    "    model =  svm.OneClassSVM() \n",
    "    model.fit(data)\n",
    "\n",
    "    #dataframe['one_class_svm'] = pd.Series(model.predict(data))\n",
    "    prob = model.decision_function(data)\n",
    "    dataframe['dist'] = prob.reshape(prob.shape[0],)\n",
    "    \n",
    "    dataframe['one_class_svm'] = 0\n",
    "    \n",
    "    threshold = np.percentile(dataframe['dist'], outliers_fraction * 100)\n",
    "\n",
    "    dataframe.loc[dataframe['dist'] < threshold, 'one_class_svm'] = 1 \n",
    "    #dataframe.loc[dataframe['prob'] >= np.percentile(dataframe['prob'], outliers_fraction), 'one_class_svm'] = 0 \n",
    "\n",
    "    dataframe.drop(['dist'], axis = 1)\n",
    "    \n",
    "    #dataframe['one_class_svm'] = dataframe['one_class_svm'].map( {1: 0, -1: 1} )\n",
    "    \n",
    "    anomaly = dataframe.loc[dataframe['one_class_svm'] == 1, ['timestamps', 'value']]\n",
    "    return dataframe, anomaly\n",
    "\n"
   ]
  },
  {
   "cell_type": "markdown",
   "metadata": {},
   "source": [
    "### One Class SVM PYOD "
   ]
  },
  {
   "cell_type": "code",
   "execution_count": 29,
   "metadata": {},
   "outputs": [],
   "source": [
    "def one_class_svm_pyod(dataframe):\n",
    "    \n",
    "    '''\n",
    "    This function takes in dataframe and identifies anomaly using One Class SVM method from pyod package. It adds a new column \n",
    "    called \"isolation_forest_pyod\" to our input dataframe that flags anomaly as 1. Also returns an anomaly dataframe, which is\n",
    "    a subset of input dataframe when \"isolation_forest_pyod\" is 1.\n",
    "    \n",
    "    Args:\n",
    "    -----\n",
    "    dataframe : pandas.DataFrame\n",
    "    \n",
    "    Returns:\n",
    "    --------\n",
    "    dataframe : pandas.DataFrame\n",
    "    anomaly : pandas.DataFrame\n",
    "    '''\n",
    "   \n",
    "    data = standardize(dataframe)\n",
    "    \n",
    "    model = ocsvm.OCSVM(contamination = outliers_fraction)\n",
    "    model.fit(data)\n",
    "    dataframe['one_class_svm_pyod'] = pd.Series(model.predict(data))\n",
    "    \n",
    "    anomaly = dataframe.loc[dataframe['one_class_svm_pyod'] == 1, ['timestamps', 'value']]\n",
    "    return dataframe, anomaly\n"
   ]
  },
  {
   "cell_type": "markdown",
   "metadata": {},
   "source": [
    "### Max Voting"
   ]
  },
  {
   "cell_type": "code",
   "execution_count": 30,
   "metadata": {},
   "outputs": [],
   "source": [
    "def max_voting(dataframe):\n",
    "    '''\n",
    "    This function takes in dataframe and identifies anomaly using max voting method on the output of K Means, Isolation Forest,\n",
    "    and One Class SVM. It adds a new column called \"max_voting\" to our input dataframe that flags anomaly as 1. \n",
    "    Also returns an anomaly dataframe, which is a subset of input dataframe when \"max_voting\" is 1.\n",
    "    \n",
    "    Args:\n",
    "    -----\n",
    "    dataframe : pandas.DataFrame\n",
    "    \n",
    "    Returns:\n",
    "    --------\n",
    "    dataframe : pandas.DataFrame\n",
    "    anomaly : pandas.DataFrame\n",
    "    '''\n",
    "    \n",
    "    treshold = 2\n",
    "    dataframe['max_voting'] = dataframe['kmeans'] + dataframe['isolation_forest'] + dataframe['one_class_svm'] +dataframe['moving_avg_rolling_std']\n",
    "    dataframe['max_voting'] = np.where(dataframe['max_voting'] >= treshold, 1, 0)\n",
    "\n",
    "    anomaly = dataframe.loc[dataframe['max_voting'] == 1, ['timestamps', 'value']]\n",
    "    return dataframe, anomaly\n"
   ]
  },
  {
   "cell_type": "markdown",
   "metadata": {},
   "source": [
    "### Implementation in Yahoo Dataset "
   ]
  },
  {
   "cell_type": "code",
   "execution_count": 48,
   "metadata": {
    "scrolled": true
   },
   "outputs": [
    {
     "name": "stdout",
     "output_type": "stream",
     "text": [
      "A1Benchmark\\TS1.csv\n",
      "-2.0583987864309767\n",
      "{'File': 'TS1.csv', 'Method': 'mean_plus_standev', 'TN': 1669, 'FP': 0, 'FN': 6, 'TP': 5, 'Precision': 1.0, 'Recall': 0.455, 'F1': 0.625}\n"
     ]
    },
    {
     "name": "stderr",
     "output_type": "stream",
     "text": [
      "D:\\Users\\Gopal\\Anaconda3\\lib\\site-packages\\ipykernel_launcher.py:19: ResourceWarning: unclosed file <_io.BufferedWriter name='Output/TS10.csv.pdf'>\n"
     ]
    },
    {
     "name": "stdout",
     "output_type": "stream",
     "text": [
      "{'File': 'TS1.csv', 'Method': 'kmeans', 'TN': 1661, 'FP': 8, 'FN': 3, 'TP': 8, 'Precision': 0.5, 'Recall': 0.727, 'F1': 0.593}\n",
      "{'File': 'TS1.csv', 'Method': 'cblof_pyod', 'TN': 1657, 'FP': 12, 'FN': 6, 'TP': 5, 'Precision': 0.294, 'Recall': 0.455, 'F1': 0.357}\n",
      "{'File': 'TS1.csv', 'Method': 'moving_avg', 'TN': 1669, 'FP': 0, 'FN': 7, 'TP': 4, 'Precision': 1.0, 'Recall': 0.364, 'F1': 0.533}\n",
      "{'File': 'TS1.csv', 'Method': 'moving_avg_rolling_std', 'TN': 1667, 'FP': 2, 'FN': 3, 'TP': 8, 'Precision': 0.8, 'Recall': 0.727, 'F1': 0.762}\n",
      "{'File': 'TS1.csv', 'Method': 'isolation_forest', 'TN': 1660, 'FP': 9, 'FN': 3, 'TP': 8, 'Precision': 0.471, 'Recall': 0.727, 'F1': 0.571}\n",
      "{'File': 'TS1.csv', 'Method': 'isolation_forest_pyod', 'TN': 1660, 'FP': 9, 'FN': 3, 'TP': 8, 'Precision': 0.471, 'Recall': 0.727, 'F1': 0.571}\n",
      "{'File': 'TS1.csv', 'Method': 'one_class_svm', 'TN': 1662, 'FP': 7, 'FN': 1, 'TP': 10, 'Precision': 0.588, 'Recall': 0.909, 'F1': 0.714}\n",
      "{'File': 'TS1.csv', 'Method': 'one_class_svm_pyod', 'TN': 1662, 'FP': 7, 'FN': 1, 'TP': 10, 'Precision': 0.588, 'Recall': 0.909, 'F1': 0.714}\n",
      "{'File': 'TS1.csv', 'Method': 'max_voting', 'TN': 1661, 'FP': 8, 'FN': 2, 'TP': 9, 'Precision': 0.529, 'Recall': 0.818, 'F1': 0.643}\n",
      "A1Benchmark\\TS10.csv\n",
      "2.9807806567288186\n",
      "{'File': 'TS10.csv', 'Method': 'mean_plus_standev', 'TN': 1664, 'FP': 0, 'FN': 4, 'TP': 12, 'Precision': 1.0, 'Recall': 0.75, 'F1': 0.857}\n",
      "{'File': 'TS10.csv', 'Method': 'kmeans', 'TN': 1661, 'FP': 3, 'FN': 3, 'TP': 13, 'Precision': 0.812, 'Recall': 0.812, 'F1': 0.812}\n",
      "{'File': 'TS10.csv', 'Method': 'cblof_pyod', 'TN': 1655, 'FP': 9, 'FN': 8, 'TP': 8, 'Precision': 0.471, 'Recall': 0.5, 'F1': 0.485}\n",
      "{'File': 'TS10.csv', 'Method': 'moving_avg', 'TN': 1664, 'FP': 0, 'FN': 6, 'TP': 10, 'Precision': 1.0, 'Recall': 0.625, 'F1': 0.769}\n",
      "{'File': 'TS10.csv', 'Method': 'moving_avg_rolling_std', 'TN': 1664, 'FP': 0, 'FN': 2, 'TP': 14, 'Precision': 1.0, 'Recall': 0.875, 'F1': 0.933}\n",
      "{'File': 'TS10.csv', 'Method': 'isolation_forest', 'TN': 1660, 'FP': 4, 'FN': 3, 'TP': 13, 'Precision': 0.765, 'Recall': 0.812, 'F1': 0.788}\n",
      "{'File': 'TS10.csv', 'Method': 'isolation_forest_pyod', 'TN': 1659, 'FP': 5, 'FN': 4, 'TP': 12, 'Precision': 0.706, 'Recall': 0.75, 'F1': 0.727}\n",
      "{'File': 'TS10.csv', 'Method': 'one_class_svm', 'TN': 1663, 'FP': 1, 'FN': 0, 'TP': 16, 'Precision': 0.941, 'Recall': 1.0, 'F1': 0.97}\n",
      "{'File': 'TS10.csv', 'Method': 'one_class_svm_pyod', 'TN': 1663, 'FP': 1, 'FN': 0, 'TP': 16, 'Precision': 0.941, 'Recall': 1.0, 'F1': 0.97}\n",
      "{'File': 'TS10.csv', 'Method': 'max_voting', 'TN': 1664, 'FP': 0, 'FN': 1, 'TP': 15, 'Precision': 1.0, 'Recall': 0.938, 'F1': 0.968}\n",
      "A1Benchmark\\TS11.csv\n",
      "2.9966948371590623\n",
      "{'File': 'TS11.csv', 'Method': 'mean_plus_standev', 'TN': 1668, 'FP': 0, 'FN': 7, 'TP': 5, 'Precision': 1.0, 'Recall': 0.417, 'F1': 0.588}\n",
      "{'File': 'TS11.csv', 'Method': 'kmeans', 'TN': 1661, 'FP': 7, 'FN': 3, 'TP': 9, 'Precision': 0.562, 'Recall': 0.75, 'F1': 0.643}\n",
      "{'File': 'TS11.csv', 'Method': 'cblof_pyod', 'TN': 1655, 'FP': 13, 'FN': 8, 'TP': 4, 'Precision': 0.235, 'Recall': 0.333, 'F1': 0.276}\n",
      "{'File': 'TS11.csv', 'Method': 'moving_avg', 'TN': 1668, 'FP': 0, 'FN': 9, 'TP': 3, 'Precision': 1.0, 'Recall': 0.25, 'F1': 0.4}\n",
      "{'File': 'TS11.csv', 'Method': 'moving_avg_rolling_std', 'TN': 1668, 'FP': 0, 'FN': 2, 'TP': 10, 'Precision': 1.0, 'Recall': 0.833, 'F1': 0.909}\n",
      "{'File': 'TS11.csv', 'Method': 'isolation_forest', 'TN': 1660, 'FP': 8, 'FN': 3, 'TP': 9, 'Precision': 0.529, 'Recall': 0.75, 'F1': 0.621}\n",
      "{'File': 'TS11.csv', 'Method': 'isolation_forest_pyod', 'TN': 1662, 'FP': 6, 'FN': 1, 'TP': 11, 'Precision': 0.647, 'Recall': 0.917, 'F1': 0.759}\n",
      "{'File': 'TS11.csv', 'Method': 'one_class_svm', 'TN': 1663, 'FP': 5, 'FN': 0, 'TP': 12, 'Precision': 0.706, 'Recall': 1.0, 'F1': 0.828}\n",
      "{'File': 'TS11.csv', 'Method': 'one_class_svm_pyod', 'TN': 1663, 'FP': 5, 'FN': 0, 'TP': 12, 'Precision': 0.706, 'Recall': 1.0, 'F1': 0.828}\n",
      "{'File': 'TS11.csv', 'Method': 'max_voting', 'TN': 1667, 'FP': 1, 'FN': 1, 'TP': 11, 'Precision': 0.917, 'Recall': 0.917, 'F1': 0.917}\n",
      "A1Benchmark\\TS12.csv\n",
      "-0.011200844989184168\n",
      "{'File': 'TS12.csv', 'Method': 'mean_plus_standev', 'TN': 1665, 'FP': 0, 'FN': 10, 'TP': 5, 'Precision': 1.0, 'Recall': 0.333, 'F1': 0.5}\n",
      "{'File': 'TS12.csv', 'Method': 'kmeans', 'TN': 1656, 'FP': 9, 'FN': 8, 'TP': 7, 'Precision': 0.438, 'Recall': 0.467, 'F1': 0.452}\n",
      "{'File': 'TS12.csv', 'Method': 'cblof_pyod', 'TN': 1650, 'FP': 15, 'FN': 13, 'TP': 2, 'Precision': 0.118, 'Recall': 0.133, 'F1': 0.125}\n",
      "{'File': 'TS12.csv', 'Method': 'moving_avg', 'TN': 1665, 'FP': 0, 'FN': 14, 'TP': 1, 'Precision': 1.0, 'Recall': 0.067, 'F1': 0.125}\n",
      "{'File': 'TS12.csv', 'Method': 'moving_avg_rolling_std', 'TN': 1657, 'FP': 8, 'FN': 11, 'TP': 4, 'Precision': 0.333, 'Recall': 0.267, 'F1': 0.296}\n",
      "{'File': 'TS12.csv', 'Method': 'isolation_forest', 'TN': 1657, 'FP': 8, 'FN': 5, 'TP': 10, 'Precision': 0.556, 'Recall': 0.667, 'F1': 0.606}\n",
      "{'File': 'TS12.csv', 'Method': 'isolation_forest_pyod', 'TN': 1656, 'FP': 9, 'FN': 7, 'TP': 8, 'Precision': 0.471, 'Recall': 0.533, 'F1': 0.5}\n",
      "{'File': 'TS12.csv', 'Method': 'one_class_svm', 'TN': 1660, 'FP': 5, 'FN': 3, 'TP': 12, 'Precision': 0.706, 'Recall': 0.8, 'F1': 0.75}\n",
      "{'File': 'TS12.csv', 'Method': 'one_class_svm_pyod', 'TN': 1660, 'FP': 5, 'FN': 3, 'TP': 12, 'Precision': 0.706, 'Recall': 0.8, 'F1': 0.75}\n",
      "{'File': 'TS12.csv', 'Method': 'max_voting', 'TN': 1664, 'FP': 1, 'FN': 3, 'TP': 12, 'Precision': 0.923, 'Recall': 0.8, 'F1': 0.857}\n",
      "A1Benchmark\\TS13.csv\n",
      "1.978716171044724\n",
      "{'File': 'TS13.csv', 'Method': 'mean_plus_standev', 'TN': 1678, 'FP': 0, 'FN': 1, 'TP': 1, 'Precision': 1.0, 'Recall': 0.5, 'F1': 0.667}\n",
      "{'File': 'TS13.csv', 'Method': 'kmeans', 'TN': 1663, 'FP': 15, 'FN': 1, 'TP': 1, 'Precision': 0.062, 'Recall': 0.5, 'F1': 0.111}\n",
      "{'File': 'TS13.csv', 'Method': 'cblof_pyod', 'TN': 1662, 'FP': 16, 'FN': 1, 'TP': 1, 'Precision': 0.059, 'Recall': 0.5, 'F1': 0.105}\n",
      "{'File': 'TS13.csv', 'Method': 'moving_avg', 'TN': 1678, 'FP': 0, 'FN': 1, 'TP': 1, 'Precision': 1.0, 'Recall': 0.5, 'F1': 0.667}\n",
      "{'File': 'TS13.csv', 'Method': 'moving_avg_rolling_std', 'TN': 1678, 'FP': 0, 'FN': 0, 'TP': 2, 'Precision': 1.0, 'Recall': 1.0, 'F1': 1.0}\n",
      "{'File': 'TS13.csv', 'Method': 'isolation_forest', 'TN': 1662, 'FP': 16, 'FN': 1, 'TP': 1, 'Precision': 0.059, 'Recall': 0.5, 'F1': 0.105}\n",
      "{'File': 'TS13.csv', 'Method': 'isolation_forest_pyod', 'TN': 1664, 'FP': 14, 'FN': 0, 'TP': 2, 'Precision': 0.125, 'Recall': 1.0, 'F1': 0.222}\n",
      "{'File': 'TS13.csv', 'Method': 'one_class_svm', 'TN': 1663, 'FP': 15, 'FN': 0, 'TP': 2, 'Precision': 0.118, 'Recall': 1.0, 'F1': 0.211}\n",
      "{'File': 'TS13.csv', 'Method': 'one_class_svm_pyod', 'TN': 1663, 'FP': 15, 'FN': 0, 'TP': 2, 'Precision': 0.118, 'Recall': 1.0, 'F1': 0.211}\n",
      "{'File': 'TS13.csv', 'Method': 'max_voting', 'TN': 1674, 'FP': 4, 'FN': 0, 'TP': 2, 'Precision': 0.333, 'Recall': 1.0, 'F1': 0.5}\n",
      "A1Benchmark\\TS14.csv\n",
      "2.960906100197591\n",
      "{'File': 'TS14.csv', 'Method': 'mean_plus_standev', 'TN': 1669, 'FP': 0, 'FN': 8, 'TP': 3, 'Precision': 1.0, 'Recall': 0.273, 'F1': 0.429}\n",
      "{'File': 'TS14.csv', 'Method': 'kmeans', 'TN': 1657, 'FP': 12, 'FN': 7, 'TP': 4, 'Precision': 0.25, 'Recall': 0.364, 'F1': 0.296}\n",
      "{'File': 'TS14.csv', 'Method': 'cblof_pyod', 'TN': 1654, 'FP': 15, 'FN': 9, 'TP': 2, 'Precision': 0.118, 'Recall': 0.182, 'F1': 0.143}\n",
      "{'File': 'TS14.csv', 'Method': 'moving_avg', 'TN': 1669, 'FP': 0, 'FN': 11, 'TP': 0, 'Precision': 0.0, 'Recall': 0.0, 'F1': 0.0}\n"
     ]
    },
    {
     "name": "stderr",
     "output_type": "stream",
     "text": [
      "D:\\Users\\Gopal\\Anaconda3\\lib\\site-packages\\sklearn\\metrics\\classification.py:1135: UndefinedMetricWarning: Precision is ill-defined and being set to 0.0 due to no predicted samples.\n",
      "  'precision', 'predicted', average, warn_for)\n",
      "D:\\Users\\Gopal\\Anaconda3\\lib\\site-packages\\sklearn\\metrics\\classification.py:1135: UndefinedMetricWarning: F-score is ill-defined and being set to 0.0 due to no predicted samples.\n",
      "  'precision', 'predicted', average, warn_for)\n"
     ]
    },
    {
     "name": "stdout",
     "output_type": "stream",
     "text": [
      "{'File': 'TS14.csv', 'Method': 'moving_avg_rolling_std', 'TN': 1669, 'FP': 0, 'FN': 5, 'TP': 6, 'Precision': 1.0, 'Recall': 0.545, 'F1': 0.706}\n",
      "{'File': 'TS14.csv', 'Method': 'isolation_forest', 'TN': 1657, 'FP': 12, 'FN': 5, 'TP': 6, 'Precision': 0.333, 'Recall': 0.545, 'F1': 0.414}\n",
      "{'File': 'TS14.csv', 'Method': 'isolation_forest_pyod', 'TN': 1659, 'FP': 10, 'FN': 5, 'TP': 6, 'Precision': 0.375, 'Recall': 0.545, 'F1': 0.444}\n",
      "{'File': 'TS14.csv', 'Method': 'one_class_svm', 'TN': 1659, 'FP': 10, 'FN': 4, 'TP': 7, 'Precision': 0.412, 'Recall': 0.636, 'F1': 0.5}\n",
      "{'File': 'TS14.csv', 'Method': 'one_class_svm_pyod', 'TN': 1659, 'FP': 10, 'FN': 4, 'TP': 7, 'Precision': 0.412, 'Recall': 0.636, 'F1': 0.5}\n",
      "{'File': 'TS14.csv', 'Method': 'max_voting', 'TN': 1669, 'FP': 0, 'FN': 4, 'TP': 7, 'Precision': 1.0, 'Recall': 0.636, 'F1': 0.778}\n",
      "A1Benchmark\\TS15.csv\n",
      "1.9697233157417795\n",
      "{'File': 'TS15.csv', 'Method': 'mean_plus_standev', 'TN': 1676, 'FP': 0, 'FN': 3, 'TP': 1, 'Precision': 1.0, 'Recall': 0.25, 'F1': 0.4}\n",
      "{'File': 'TS15.csv', 'Method': 'kmeans', 'TN': 1661, 'FP': 15, 'FN': 3, 'TP': 1, 'Precision': 0.062, 'Recall': 0.25, 'F1': 0.1}\n",
      "{'File': 'TS15.csv', 'Method': 'cblof_pyod', 'TN': 1659, 'FP': 17, 'FN': 4, 'TP': 0, 'Precision': 0.0, 'Recall': 0.0, 'F1': 0.0}\n",
      "{'File': 'TS15.csv', 'Method': 'moving_avg', 'TN': 1676, 'FP': 0, 'FN': 3, 'TP': 1, 'Precision': 1.0, 'Recall': 0.25, 'F1': 0.4}\n",
      "{'File': 'TS15.csv', 'Method': 'moving_avg_rolling_std', 'TN': 1671, 'FP': 5, 'FN': 1, 'TP': 3, 'Precision': 0.375, 'Recall': 0.75, 'F1': 0.5}\n",
      "{'File': 'TS15.csv', 'Method': 'isolation_forest', 'TN': 1661, 'FP': 15, 'FN': 2, 'TP': 2, 'Precision': 0.118, 'Recall': 0.5, 'F1': 0.19}\n",
      "{'File': 'TS15.csv', 'Method': 'isolation_forest_pyod', 'TN': 1660, 'FP': 16, 'FN': 4, 'TP': 0, 'Precision': 0.0, 'Recall': 0.0, 'F1': 0.0}\n",
      "{'File': 'TS15.csv', 'Method': 'one_class_svm', 'TN': 1663, 'FP': 13, 'FN': 0, 'TP': 4, 'Precision': 0.235, 'Recall': 1.0, 'F1': 0.381}\n",
      "{'File': 'TS15.csv', 'Method': 'one_class_svm_pyod', 'TN': 1663, 'FP': 13, 'FN': 0, 'TP': 4, 'Precision': 0.235, 'Recall': 1.0, 'F1': 0.381}\n",
      "{'File': 'TS15.csv', 'Method': 'max_voting', 'TN': 1668, 'FP': 8, 'FN': 0, 'TP': 4, 'Precision': 0.333, 'Recall': 1.0, 'F1': 0.5}\n",
      "A1Benchmark\\TS16.csv\n",
      "1.9677921147446709\n",
      "{'File': 'TS16.csv', 'Method': 'mean_plus_standev', 'TN': 1674, 'FP': 0, 'FN': 4, 'TP': 2, 'Precision': 1.0, 'Recall': 0.333, 'F1': 0.5}\n",
      "{'File': 'TS16.csv', 'Method': 'kmeans', 'TN': 1660, 'FP': 14, 'FN': 4, 'TP': 2, 'Precision': 0.125, 'Recall': 0.333, 'F1': 0.182}\n",
      "{'File': 'TS16.csv', 'Method': 'cblof_pyod', 'TN': 1659, 'FP': 15, 'FN': 4, 'TP': 2, 'Precision': 0.118, 'Recall': 0.333, 'F1': 0.174}\n",
      "{'File': 'TS16.csv', 'Method': 'moving_avg', 'TN': 1674, 'FP': 0, 'FN': 5, 'TP': 1, 'Precision': 1.0, 'Recall': 0.167, 'F1': 0.286}\n",
      "{'File': 'TS16.csv', 'Method': 'moving_avg_rolling_std', 'TN': 1674, 'FP': 0, 'FN': 1, 'TP': 5, 'Precision': 1.0, 'Recall': 0.833, 'F1': 0.909}\n",
      "{'File': 'TS16.csv', 'Method': 'isolation_forest', 'TN': 1658, 'FP': 16, 'FN': 5, 'TP': 1, 'Precision': 0.059, 'Recall': 0.167, 'F1': 0.087}\n",
      "{'File': 'TS16.csv', 'Method': 'isolation_forest_pyod', 'TN': 1661, 'FP': 13, 'FN': 4, 'TP': 2, 'Precision': 0.133, 'Recall': 0.333, 'F1': 0.19}\n",
      "{'File': 'TS16.csv', 'Method': 'one_class_svm', 'TN': 1662, 'FP': 12, 'FN': 1, 'TP': 5, 'Precision': 0.294, 'Recall': 0.833, 'F1': 0.435}\n",
      "{'File': 'TS16.csv', 'Method': 'one_class_svm_pyod', 'TN': 1662, 'FP': 12, 'FN': 1, 'TP': 5, 'Precision': 0.294, 'Recall': 0.833, 'F1': 0.435}\n",
      "{'File': 'TS16.csv', 'Method': 'max_voting', 'TN': 1674, 'FP': 0, 'FN': 2, 'TP': 4, 'Precision': 1.0, 'Recall': 0.667, 'F1': 0.8}\n",
      "A1Benchmark\\TS17.csv\n",
      "2.988130738309691\n",
      "{'File': 'TS17.csv', 'Method': 'mean_plus_standev', 'TN': 1672, 'FP': 0, 'FN': 3, 'TP': 5, 'Precision': 1.0, 'Recall': 0.625, 'F1': 0.769}\n",
      "{'File': 'TS17.csv', 'Method': 'kmeans', 'TN': 1658, 'FP': 14, 'FN': 6, 'TP': 2, 'Precision': 0.125, 'Recall': 0.25, 'F1': 0.167}\n",
      "{'File': 'TS17.csv', 'Method': 'cblof_pyod', 'TN': 1660, 'FP': 12, 'FN': 3, 'TP': 5, 'Precision': 0.294, 'Recall': 0.625, 'F1': 0.4}\n",
      "{'File': 'TS17.csv', 'Method': 'moving_avg', 'TN': 1672, 'FP': 0, 'FN': 6, 'TP': 2, 'Precision': 1.0, 'Recall': 0.25, 'F1': 0.4}\n",
      "{'File': 'TS17.csv', 'Method': 'moving_avg_rolling_std', 'TN': 1670, 'FP': 2, 'FN': 2, 'TP': 6, 'Precision': 0.75, 'Recall': 0.75, 'F1': 0.75}\n",
      "{'File': 'TS17.csv', 'Method': 'isolation_forest', 'TN': 1659, 'FP': 13, 'FN': 4, 'TP': 4, 'Precision': 0.235, 'Recall': 0.5, 'F1': 0.32}\n",
      "{'File': 'TS17.csv', 'Method': 'isolation_forest_pyod', 'TN': 1661, 'FP': 11, 'FN': 2, 'TP': 6, 'Precision': 0.353, 'Recall': 0.75, 'F1': 0.48}\n",
      "{'File': 'TS17.csv', 'Method': 'one_class_svm', 'TN': 1661, 'FP': 11, 'FN': 2, 'TP': 6, 'Precision': 0.353, 'Recall': 0.75, 'F1': 0.48}\n",
      "{'File': 'TS17.csv', 'Method': 'one_class_svm_pyod', 'TN': 1661, 'FP': 11, 'FN': 2, 'TP': 6, 'Precision': 0.353, 'Recall': 0.75, 'F1': 0.48}\n",
      "{'File': 'TS17.csv', 'Method': 'max_voting', 'TN': 1668, 'FP': 4, 'FN': 3, 'TP': 5, 'Precision': 0.556, 'Recall': 0.625, 'F1': 0.588}\n",
      "A1Benchmark\\TS18.csv\n",
      "-0.024421185985787425\n",
      "{'File': 'TS18.csv', 'Method': 'mean_plus_standev', 'TN': 1666, 'FP': 0, 'FN': 13, 'TP': 1, 'Precision': 1.0, 'Recall': 0.071, 'F1': 0.133}\n",
      "{'File': 'TS18.csv', 'Method': 'kmeans', 'TN': 1655, 'FP': 11, 'FN': 9, 'TP': 5, 'Precision': 0.312, 'Recall': 0.357, 'F1': 0.333}\n",
      "{'File': 'TS18.csv', 'Method': 'cblof_pyod', 'TN': 1651, 'FP': 15, 'FN': 12, 'TP': 2, 'Precision': 0.118, 'Recall': 0.143, 'F1': 0.129}\n",
      "{'File': 'TS18.csv', 'Method': 'moving_avg', 'TN': 1666, 'FP': 0, 'FN': 13, 'TP': 1, 'Precision': 1.0, 'Recall': 0.071, 'F1': 0.133}\n",
      "{'File': 'TS18.csv', 'Method': 'moving_avg_rolling_std', 'TN': 1658, 'FP': 8, 'FN': 5, 'TP': 9, 'Precision': 0.529, 'Recall': 0.643, 'F1': 0.581}\n",
      "{'File': 'TS18.csv', 'Method': 'isolation_forest', 'TN': 1654, 'FP': 12, 'FN': 8, 'TP': 6, 'Precision': 0.333, 'Recall': 0.429, 'F1': 0.375}\n",
      "{'File': 'TS18.csv', 'Method': 'isolation_forest_pyod', 'TN': 1656, 'FP': 10, 'FN': 7, 'TP': 7, 'Precision': 0.412, 'Recall': 0.5, 'F1': 0.452}\n",
      "{'File': 'TS18.csv', 'Method': 'one_class_svm', 'TN': 1659, 'FP': 7, 'FN': 4, 'TP': 10, 'Precision': 0.588, 'Recall': 0.714, 'F1': 0.645}\n",
      "{'File': 'TS18.csv', 'Method': 'one_class_svm_pyod', 'TN': 1659, 'FP': 7, 'FN': 4, 'TP': 10, 'Precision': 0.588, 'Recall': 0.714, 'F1': 0.645}\n",
      "{'File': 'TS18.csv', 'Method': 'max_voting', 'TN': 1658, 'FP': 8, 'FN': 6, 'TP': 8, 'Precision': 0.5, 'Recall': 0.571, 'F1': 0.533}\n",
      "A1Benchmark\\TS19.csv\n",
      "-0.07402819608550644\n",
      "{'File': 'TS19.csv', 'Method': 'mean_plus_standev', 'TN': 1672, 'FP': 0, 'FN': 5, 'TP': 3, 'Precision': 1.0, 'Recall': 0.375, 'F1': 0.545}\n"
     ]
    },
    {
     "ename": "KeyboardInterrupt",
     "evalue": "",
     "output_type": "error",
     "traceback": [
      "\u001b[1;31m---------------------------------------------------------------------------\u001b[0m",
      "\u001b[1;31mKeyError\u001b[0m                                  Traceback (most recent call last)",
      "\u001b[1;32mD:\\Users\\Gopal\\Anaconda3\\lib\\site-packages\\pandas\\core\\series.py\u001b[0m in \u001b[0;36m_set_value\u001b[1;34m(self, label, value, takeable)\u001b[0m\n\u001b[0;32m   1076\u001b[0m             \u001b[1;32melse\u001b[0m\u001b[1;33m:\u001b[0m\u001b[1;33m\u001b[0m\u001b[0m\n\u001b[1;32m-> 1077\u001b[1;33m                 \u001b[0mself\u001b[0m\u001b[1;33m.\u001b[0m\u001b[0mindex\u001b[0m\u001b[1;33m.\u001b[0m\u001b[0m_engine\u001b[0m\u001b[1;33m.\u001b[0m\u001b[0mset_value\u001b[0m\u001b[1;33m(\u001b[0m\u001b[0mself\u001b[0m\u001b[1;33m.\u001b[0m\u001b[0m_values\u001b[0m\u001b[1;33m,\u001b[0m \u001b[0mlabel\u001b[0m\u001b[1;33m,\u001b[0m \u001b[0mvalue\u001b[0m\u001b[1;33m)\u001b[0m\u001b[1;33m\u001b[0m\u001b[0m\n\u001b[0m\u001b[0;32m   1078\u001b[0m         \u001b[1;32mexcept\u001b[0m \u001b[0mKeyError\u001b[0m\u001b[1;33m:\u001b[0m\u001b[1;33m\u001b[0m\u001b[0m\n",
      "\u001b[1;32mpandas\\_libs\\index.pyx\u001b[0m in \u001b[0;36mpandas._libs.index.IndexEngine.set_value\u001b[1;34m()\u001b[0m\n",
      "\u001b[1;32mpandas\\_libs\\index.pyx\u001b[0m in \u001b[0;36mpandas._libs.index.IndexEngine.set_value\u001b[1;34m()\u001b[0m\n",
      "\u001b[1;32mpandas\\_libs\\index.pyx\u001b[0m in \u001b[0;36mpandas._libs.index.IndexEngine.get_loc\u001b[1;34m()\u001b[0m\n",
      "\u001b[1;32mpandas\\_libs\\hashtable_class_helper.pxi\u001b[0m in \u001b[0;36mpandas._libs.hashtable.Int64HashTable.get_item\u001b[1;34m()\u001b[0m\n",
      "\u001b[1;32mpandas\\_libs\\hashtable_class_helper.pxi\u001b[0m in \u001b[0;36mpandas._libs.hashtable.Int64HashTable.get_item\u001b[1;34m()\u001b[0m\n",
      "\u001b[1;31mKeyError\u001b[0m: 519",
      "\nDuring handling of the above exception, another exception occurred:\n",
      "\u001b[1;31mKeyboardInterrupt\u001b[0m                         Traceback (most recent call last)",
      "\u001b[1;32m<ipython-input-48-2b2c8488f38c>\u001b[0m in \u001b[0;36m<module>\u001b[1;34m()\u001b[0m\n\u001b[0;32m     24\u001b[0m     \u001b[1;32mfor\u001b[0m \u001b[0mfun\u001b[0m \u001b[1;32min\u001b[0m \u001b[0mfunctions\u001b[0m\u001b[1;33m:\u001b[0m\u001b[1;33m\u001b[0m\u001b[0m\n\u001b[0;32m     25\u001b[0m         \u001b[0mfunc\u001b[0m \u001b[1;33m=\u001b[0m \u001b[0mglobals\u001b[0m\u001b[1;33m(\u001b[0m\u001b[1;33m)\u001b[0m\u001b[1;33m[\u001b[0m\u001b[0mfun\u001b[0m\u001b[1;33m]\u001b[0m\u001b[1;33m\u001b[0m\u001b[0m\n\u001b[1;32m---> 26\u001b[1;33m         \u001b[0mdata\u001b[0m\u001b[1;33m,\u001b[0m \u001b[0manomaly\u001b[0m \u001b[1;33m=\u001b[0m \u001b[0mfunc\u001b[0m\u001b[1;33m(\u001b[0m\u001b[0mdata\u001b[0m\u001b[1;33m)\u001b[0m\u001b[1;33m\u001b[0m\u001b[0m\n\u001b[0m\u001b[0;32m     27\u001b[0m \u001b[1;33m\u001b[0m\u001b[0m\n\u001b[0;32m     28\u001b[0m         \u001b[0mdata2\u001b[0m \u001b[1;33m=\u001b[0m \u001b[0mcopy\u001b[0m\u001b[1;33m.\u001b[0m\u001b[0mdeepcopy\u001b[0m\u001b[1;33m(\u001b[0m\u001b[0mdata\u001b[0m\u001b[1;33m)\u001b[0m\u001b[1;33m\u001b[0m\u001b[0m\n",
      "\u001b[1;32m<ipython-input-24-d29fb9a16532>\u001b[0m in \u001b[0;36mkmeans\u001b[1;34m(dataframe)\u001b[0m\n\u001b[0;32m     52\u001b[0m \u001b[1;31m#     plt.show()\u001b[0m\u001b[1;33m\u001b[0m\u001b[1;33m\u001b[0m\u001b[0m\n\u001b[0;32m     53\u001b[0m \u001b[1;33m\u001b[0m\u001b[0m\n\u001b[1;32m---> 54\u001b[1;33m     \u001b[0mdistance\u001b[0m \u001b[1;33m=\u001b[0m \u001b[0mget_distance\u001b[0m\u001b[1;33m(\u001b[0m\u001b[0mdata\u001b[0m\u001b[1;33m,\u001b[0m \u001b[0mcluster\u001b[0m\u001b[1;33m.\u001b[0m\u001b[0mKMeans\u001b[0m\u001b[1;33m(\u001b[0m\u001b[0mn_clusters\u001b[0m \u001b[1;33m=\u001b[0m \u001b[1;36m4\u001b[0m\u001b[1;33m,\u001b[0m \u001b[0mrandom_state\u001b[0m \u001b[1;33m=\u001b[0m \u001b[1;36m20\u001b[0m\u001b[1;33m)\u001b[0m\u001b[1;33m.\u001b[0m\u001b[0mfit\u001b[0m\u001b[1;33m(\u001b[0m\u001b[0mdata\u001b[0m\u001b[1;33m)\u001b[0m\u001b[1;33m)\u001b[0m\u001b[1;33m\u001b[0m\u001b[0m\n\u001b[0m\u001b[0;32m     55\u001b[0m     \u001b[0mnumber_of_outliers\u001b[0m \u001b[1;33m=\u001b[0m \u001b[0mint\u001b[0m\u001b[1;33m(\u001b[0m\u001b[0moutliers_fraction\u001b[0m \u001b[1;33m*\u001b[0m \u001b[0mlen\u001b[0m\u001b[1;33m(\u001b[0m\u001b[0mdistance\u001b[0m\u001b[1;33m)\u001b[0m\u001b[1;33m)\u001b[0m\u001b[1;33m\u001b[0m\u001b[0m\n\u001b[0;32m     56\u001b[0m     \u001b[0mthreshold\u001b[0m \u001b[1;33m=\u001b[0m \u001b[0mdistance\u001b[0m\u001b[1;33m.\u001b[0m\u001b[0mnlargest\u001b[0m\u001b[1;33m(\u001b[0m\u001b[0mnumber_of_outliers\u001b[0m\u001b[1;33m)\u001b[0m\u001b[1;33m.\u001b[0m\u001b[0mmin\u001b[0m\u001b[1;33m(\u001b[0m\u001b[1;33m)\u001b[0m\u001b[1;33m\u001b[0m\u001b[0m\n",
      "\u001b[1;32m<ipython-input-24-d29fb9a16532>\u001b[0m in \u001b[0;36mget_distance\u001b[1;34m(data, model)\u001b[0m\n\u001b[0;32m     18\u001b[0m \u001b[1;31m#         Xa = np.array(data.loc[i])\u001b[0m\u001b[1;33m\u001b[0m\u001b[1;33m\u001b[0m\u001b[0m\n\u001b[0;32m     19\u001b[0m \u001b[1;31m#         Xb = model.cluster_centers_[model.labels_[i]-1]\u001b[0m\u001b[1;33m\u001b[0m\u001b[1;33m\u001b[0m\u001b[0m\n\u001b[1;32m---> 20\u001b[1;33m         \u001b[0mdistance\u001b[0m\u001b[1;33m.\u001b[0m\u001b[0mat\u001b[0m\u001b[1;33m[\u001b[0m\u001b[0mi\u001b[0m\u001b[1;33m]\u001b[0m \u001b[1;33m=\u001b[0m \u001b[0mnp\u001b[0m\u001b[1;33m.\u001b[0m\u001b[0mlinalg\u001b[0m\u001b[1;33m.\u001b[0m\u001b[0mnorm\u001b[0m\u001b[1;33m(\u001b[0m\u001b[0mnp\u001b[0m\u001b[1;33m.\u001b[0m\u001b[0marray\u001b[0m\u001b[1;33m(\u001b[0m\u001b[0mdata\u001b[0m\u001b[1;33m.\u001b[0m\u001b[0mloc\u001b[0m\u001b[1;33m[\u001b[0m\u001b[0mi\u001b[0m\u001b[1;33m]\u001b[0m\u001b[1;33m)\u001b[0m \u001b[1;33m-\u001b[0m \u001b[0mmodel\u001b[0m\u001b[1;33m.\u001b[0m\u001b[0mcluster_centers_\u001b[0m\u001b[1;33m[\u001b[0m\u001b[0mmodel\u001b[0m\u001b[1;33m.\u001b[0m\u001b[0mlabels_\u001b[0m\u001b[1;33m[\u001b[0m\u001b[0mi\u001b[0m\u001b[1;33m]\u001b[0m\u001b[1;33m-\u001b[0m\u001b[1;36m1\u001b[0m\u001b[1;33m]\u001b[0m\u001b[1;33m)\u001b[0m\u001b[1;33m\u001b[0m\u001b[0m\n\u001b[0m\u001b[0;32m     21\u001b[0m \u001b[1;33m\u001b[0m\u001b[0m\n\u001b[0;32m     22\u001b[0m     \u001b[1;32mreturn\u001b[0m \u001b[0mdistance\u001b[0m\u001b[1;33m\u001b[0m\u001b[0m\n",
      "\u001b[1;32mD:\\Users\\Gopal\\Anaconda3\\lib\\site-packages\\pandas\\core\\indexing.py\u001b[0m in \u001b[0;36m__setitem__\u001b[1;34m(self, key, value)\u001b[0m\n\u001b[0;32m   2157\u001b[0m         \u001b[0mkey\u001b[0m \u001b[1;33m=\u001b[0m \u001b[0mlist\u001b[0m\u001b[1;33m(\u001b[0m\u001b[0mself\u001b[0m\u001b[1;33m.\u001b[0m\u001b[0m_convert_key\u001b[0m\u001b[1;33m(\u001b[0m\u001b[0mkey\u001b[0m\u001b[1;33m,\u001b[0m \u001b[0mis_setter\u001b[0m\u001b[1;33m=\u001b[0m\u001b[1;32mTrue\u001b[0m\u001b[1;33m)\u001b[0m\u001b[1;33m)\u001b[0m\u001b[1;33m\u001b[0m\u001b[0m\n\u001b[0;32m   2158\u001b[0m         \u001b[0mkey\u001b[0m\u001b[1;33m.\u001b[0m\u001b[0mappend\u001b[0m\u001b[1;33m(\u001b[0m\u001b[0mvalue\u001b[0m\u001b[1;33m)\u001b[0m\u001b[1;33m\u001b[0m\u001b[0m\n\u001b[1;32m-> 2159\u001b[1;33m         \u001b[0mself\u001b[0m\u001b[1;33m.\u001b[0m\u001b[0mobj\u001b[0m\u001b[1;33m.\u001b[0m\u001b[0m_set_value\u001b[0m\u001b[1;33m(\u001b[0m\u001b[1;33m*\u001b[0m\u001b[0mkey\u001b[0m\u001b[1;33m,\u001b[0m \u001b[0mtakeable\u001b[0m\u001b[1;33m=\u001b[0m\u001b[0mself\u001b[0m\u001b[1;33m.\u001b[0m\u001b[0m_takeable\u001b[0m\u001b[1;33m)\u001b[0m\u001b[1;33m\u001b[0m\u001b[0m\n\u001b[0m\u001b[0;32m   2160\u001b[0m \u001b[1;33m\u001b[0m\u001b[0m\n\u001b[0;32m   2161\u001b[0m \u001b[1;33m\u001b[0m\u001b[0m\n",
      "\u001b[1;32mD:\\Users\\Gopal\\Anaconda3\\lib\\site-packages\\pandas\\core\\series.py\u001b[0m in \u001b[0;36m_set_value\u001b[1;34m(self, label, value, takeable)\u001b[0m\n\u001b[0;32m   1079\u001b[0m \u001b[1;33m\u001b[0m\u001b[0m\n\u001b[0;32m   1080\u001b[0m             \u001b[1;31m# set using a non-recursive method\u001b[0m\u001b[1;33m\u001b[0m\u001b[1;33m\u001b[0m\u001b[0m\n\u001b[1;32m-> 1081\u001b[1;33m             \u001b[0mself\u001b[0m\u001b[1;33m.\u001b[0m\u001b[0mloc\u001b[0m\u001b[1;33m[\u001b[0m\u001b[0mlabel\u001b[0m\u001b[1;33m]\u001b[0m \u001b[1;33m=\u001b[0m \u001b[0mvalue\u001b[0m\u001b[1;33m\u001b[0m\u001b[0m\n\u001b[0m\u001b[0;32m   1082\u001b[0m \u001b[1;33m\u001b[0m\u001b[0m\n\u001b[0;32m   1083\u001b[0m         \u001b[1;32mreturn\u001b[0m \u001b[0mself\u001b[0m\u001b[1;33m\u001b[0m\u001b[0m\n",
      "\u001b[1;32mD:\\Users\\Gopal\\Anaconda3\\lib\\site-packages\\pandas\\core\\indexing.py\u001b[0m in \u001b[0;36m__setitem__\u001b[1;34m(self, key, value)\u001b[0m\n\u001b[0;32m    187\u001b[0m             \u001b[0mkey\u001b[0m \u001b[1;33m=\u001b[0m \u001b[0mcom\u001b[0m\u001b[1;33m.\u001b[0m\u001b[0m_apply_if_callable\u001b[0m\u001b[1;33m(\u001b[0m\u001b[0mkey\u001b[0m\u001b[1;33m,\u001b[0m \u001b[0mself\u001b[0m\u001b[1;33m.\u001b[0m\u001b[0mobj\u001b[0m\u001b[1;33m)\u001b[0m\u001b[1;33m\u001b[0m\u001b[0m\n\u001b[0;32m    188\u001b[0m         \u001b[0mindexer\u001b[0m \u001b[1;33m=\u001b[0m \u001b[0mself\u001b[0m\u001b[1;33m.\u001b[0m\u001b[0m_get_setitem_indexer\u001b[0m\u001b[1;33m(\u001b[0m\u001b[0mkey\u001b[0m\u001b[1;33m)\u001b[0m\u001b[1;33m\u001b[0m\u001b[0m\n\u001b[1;32m--> 189\u001b[1;33m         \u001b[0mself\u001b[0m\u001b[1;33m.\u001b[0m\u001b[0m_setitem_with_indexer\u001b[0m\u001b[1;33m(\u001b[0m\u001b[0mindexer\u001b[0m\u001b[1;33m,\u001b[0m \u001b[0mvalue\u001b[0m\u001b[1;33m)\u001b[0m\u001b[1;33m\u001b[0m\u001b[0m\n\u001b[0m\u001b[0;32m    190\u001b[0m \u001b[1;33m\u001b[0m\u001b[0m\n\u001b[0;32m    191\u001b[0m     \u001b[1;32mdef\u001b[0m \u001b[0m_validate_key\u001b[0m\u001b[1;33m(\u001b[0m\u001b[0mself\u001b[0m\u001b[1;33m,\u001b[0m \u001b[0mkey\u001b[0m\u001b[1;33m,\u001b[0m \u001b[0maxis\u001b[0m\u001b[1;33m)\u001b[0m\u001b[1;33m:\u001b[0m\u001b[1;33m\u001b[0m\u001b[0m\n",
      "\u001b[1;32mD:\\Users\\Gopal\\Anaconda3\\lib\\site-packages\\pandas\\core\\indexing.py\u001b[0m in \u001b[0;36m_setitem_with_indexer\u001b[1;34m(self, indexer, value)\u001b[0m\n\u001b[0;32m    403\u001b[0m                     \u001b[1;31m# GH12246\u001b[0m\u001b[1;33m\u001b[0m\u001b[1;33m\u001b[0m\u001b[0m\n\u001b[0;32m    404\u001b[0m                     \u001b[1;32mif\u001b[0m \u001b[0mindex\u001b[0m\u001b[1;33m.\u001b[0m\u001b[0mis_unique\u001b[0m\u001b[1;33m:\u001b[0m\u001b[1;33m\u001b[0m\u001b[0m\n\u001b[1;32m--> 405\u001b[1;33m                         \u001b[0mnew_indexer\u001b[0m \u001b[1;33m=\u001b[0m \u001b[0mindex\u001b[0m\u001b[1;33m.\u001b[0m\u001b[0mget_indexer\u001b[0m\u001b[1;33m(\u001b[0m\u001b[1;33m[\u001b[0m\u001b[0mnew_index\u001b[0m\u001b[1;33m[\u001b[0m\u001b[1;33m-\u001b[0m\u001b[1;36m1\u001b[0m\u001b[1;33m]\u001b[0m\u001b[1;33m]\u001b[0m\u001b[1;33m)\u001b[0m\u001b[1;33m\u001b[0m\u001b[0m\n\u001b[0m\u001b[0;32m    406\u001b[0m                         \u001b[1;32mif\u001b[0m \u001b[1;33m(\u001b[0m\u001b[0mnew_indexer\u001b[0m \u001b[1;33m!=\u001b[0m \u001b[1;33m-\u001b[0m\u001b[1;36m1\u001b[0m\u001b[1;33m)\u001b[0m\u001b[1;33m.\u001b[0m\u001b[0many\u001b[0m\u001b[1;33m(\u001b[0m\u001b[1;33m)\u001b[0m\u001b[1;33m:\u001b[0m\u001b[1;33m\u001b[0m\u001b[0m\n\u001b[0;32m    407\u001b[0m                             return self._setitem_with_indexer(new_indexer,\n",
      "\u001b[1;32mD:\\Users\\Gopal\\Anaconda3\\lib\\site-packages\\pandas\\core\\indexes\\base.py\u001b[0m in \u001b[0;36mget_indexer\u001b[1;34m(self, target, method, limit, tolerance)\u001b[0m\n\u001b[0;32m   3205\u001b[0m     \u001b[1;32mdef\u001b[0m \u001b[0mget_indexer\u001b[0m\u001b[1;33m(\u001b[0m\u001b[0mself\u001b[0m\u001b[1;33m,\u001b[0m \u001b[0mtarget\u001b[0m\u001b[1;33m,\u001b[0m \u001b[0mmethod\u001b[0m\u001b[1;33m=\u001b[0m\u001b[1;32mNone\u001b[0m\u001b[1;33m,\u001b[0m \u001b[0mlimit\u001b[0m\u001b[1;33m=\u001b[0m\u001b[1;32mNone\u001b[0m\u001b[1;33m,\u001b[0m \u001b[0mtolerance\u001b[0m\u001b[1;33m=\u001b[0m\u001b[1;32mNone\u001b[0m\u001b[1;33m)\u001b[0m\u001b[1;33m:\u001b[0m\u001b[1;33m\u001b[0m\u001b[0m\n\u001b[0;32m   3206\u001b[0m         \u001b[0mmethod\u001b[0m \u001b[1;33m=\u001b[0m \u001b[0mmissing\u001b[0m\u001b[1;33m.\u001b[0m\u001b[0mclean_reindex_fill_method\u001b[0m\u001b[1;33m(\u001b[0m\u001b[0mmethod\u001b[0m\u001b[1;33m)\u001b[0m\u001b[1;33m\u001b[0m\u001b[0m\n\u001b[1;32m-> 3207\u001b[1;33m         \u001b[0mtarget\u001b[0m \u001b[1;33m=\u001b[0m \u001b[0m_ensure_index\u001b[0m\u001b[1;33m(\u001b[0m\u001b[0mtarget\u001b[0m\u001b[1;33m)\u001b[0m\u001b[1;33m\u001b[0m\u001b[0m\n\u001b[0m\u001b[0;32m   3208\u001b[0m         \u001b[1;32mif\u001b[0m \u001b[0mtolerance\u001b[0m \u001b[1;32mis\u001b[0m \u001b[1;32mnot\u001b[0m \u001b[1;32mNone\u001b[0m\u001b[1;33m:\u001b[0m\u001b[1;33m\u001b[0m\u001b[0m\n\u001b[0;32m   3209\u001b[0m             \u001b[0mtolerance\u001b[0m \u001b[1;33m=\u001b[0m \u001b[0mself\u001b[0m\u001b[1;33m.\u001b[0m\u001b[0m_convert_tolerance\u001b[0m\u001b[1;33m(\u001b[0m\u001b[0mtolerance\u001b[0m\u001b[1;33m,\u001b[0m \u001b[0mtarget\u001b[0m\u001b[1;33m)\u001b[0m\u001b[1;33m\u001b[0m\u001b[0m\n",
      "\u001b[1;32mD:\\Users\\Gopal\\Anaconda3\\lib\\site-packages\\pandas\\core\\indexes\\base.py\u001b[0m in \u001b[0;36m_ensure_index\u001b[1;34m(index_like, copy)\u001b[0m\n\u001b[0;32m   4941\u001b[0m             \u001b[0mindex_like\u001b[0m \u001b[1;33m=\u001b[0m \u001b[0mlist\u001b[0m\u001b[1;33m(\u001b[0m\u001b[0mindex_like\u001b[0m\u001b[1;33m)\u001b[0m\u001b[1;33m\u001b[0m\u001b[0m\n\u001b[0;32m   4942\u001b[0m \u001b[1;33m\u001b[0m\u001b[0m\n\u001b[1;32m-> 4943\u001b[1;33m         \u001b[0mconverted\u001b[0m\u001b[1;33m,\u001b[0m \u001b[0mall_arrays\u001b[0m \u001b[1;33m=\u001b[0m \u001b[0mlib\u001b[0m\u001b[1;33m.\u001b[0m\u001b[0mclean_index_list\u001b[0m\u001b[1;33m(\u001b[0m\u001b[0mindex_like\u001b[0m\u001b[1;33m)\u001b[0m\u001b[1;33m\u001b[0m\u001b[0m\n\u001b[0m\u001b[0;32m   4944\u001b[0m \u001b[1;33m\u001b[0m\u001b[0m\n\u001b[0;32m   4945\u001b[0m         \u001b[1;32mif\u001b[0m \u001b[0mlen\u001b[0m\u001b[1;33m(\u001b[0m\u001b[0mconverted\u001b[0m\u001b[1;33m)\u001b[0m \u001b[1;33m>\u001b[0m \u001b[1;36m0\u001b[0m \u001b[1;32mand\u001b[0m \u001b[0mall_arrays\u001b[0m\u001b[1;33m:\u001b[0m\u001b[1;33m\u001b[0m\u001b[0m\n",
      "\u001b[1;32mpandas\\_libs\\lib.pyx\u001b[0m in \u001b[0;36mpandas._libs.lib.clean_index_list\u001b[1;34m()\u001b[0m\n",
      "\u001b[1;32mpandas/_libs/src\\inference.pyx\u001b[0m in \u001b[0;36mpandas._libs.lib.infer_dtype\u001b[1;34m()\u001b[0m\n",
      "\u001b[1;32mD:\\Users\\Gopal\\Anaconda3\\lib\\importlib\\_bootstrap.py\u001b[0m in \u001b[0;36m_find_and_load\u001b[1;34m(name, import_)\u001b[0m\n",
      "\u001b[1;32mD:\\Users\\Gopal\\Anaconda3\\lib\\importlib\\_bootstrap.py\u001b[0m in \u001b[0;36m_find_and_load_unlocked\u001b[1;34m(name, import_)\u001b[0m\n",
      "\u001b[1;32mD:\\Users\\Gopal\\Anaconda3\\lib\\importlib\\_bootstrap.py\u001b[0m in \u001b[0;36m_find_spec\u001b[1;34m(name, path, target)\u001b[0m\n",
      "\u001b[1;32mD:\\Users\\Gopal\\Anaconda3\\lib\\importlib\\_bootstrap_external.py\u001b[0m in \u001b[0;36mfind_spec\u001b[1;34m(cls, fullname, path, target)\u001b[0m\n",
      "\u001b[1;32mD:\\Users\\Gopal\\Anaconda3\\lib\\importlib\\_bootstrap_external.py\u001b[0m in \u001b[0;36m_get_spec\u001b[1;34m(cls, fullname, path, target)\u001b[0m\n",
      "\u001b[1;32mD:\\Users\\Gopal\\Anaconda3\\lib\\importlib\\_bootstrap_external.py\u001b[0m in \u001b[0;36mfind_spec\u001b[1;34m(self, fullname, target)\u001b[0m\n",
      "\u001b[1;32mD:\\Users\\Gopal\\Anaconda3\\lib\\importlib\\_bootstrap_external.py\u001b[0m in \u001b[0;36m_path_stat\u001b[1;34m(path)\u001b[0m\n",
      "\u001b[1;31mKeyboardInterrupt\u001b[0m: "
     ]
    }
   ],
   "source": [
    "import copy\n",
    "\n",
    "file_array = [f for f in glob.glob(\"A1Benchmark/*.csv\")]\n",
    "\n",
    "columns = [\"File\", \"Method\", \"TN\", \"FP\", \"FN\", \"TP\", \"Precision\", \"Recall\", \"F1\"]\n",
    "\n",
    "accuracy_df = pd.DataFrame(columns = columns) \n",
    "\n",
    "file_counter = 1\n",
    "\n",
    "for f in file_array:\n",
    "    print(f)\n",
    "    data = feature_engineering(f)\n",
    "    data, trend = detrend(data)\n",
    "\n",
    "    #plot_data(data, pd.DataFrame(columns = ['timestamps', 'value']))\n",
    "    functions = ['mean_plus_standev', 'kmeans', 'cblof_pyod', 'moving_avg', 'moving_avg_rolling_std', 'isolation_forest', 'isolation_forest_pyod', 'one_class_svm', 'one_class_svm_pyod', 'max_voting']\n",
    "    \n",
    "    data2 = copy.deepcopy(data)\n",
    "    data2['label'] = range(data2.shape[0])\n",
    "        \n",
    "        #print(data2['label'])\n",
    "        \n",
    "    data2['value'] = data2['value'] + round(trend, 0) * data2['label']\n",
    "    \n",
    "    pdf = backend_pdf.PdfPages(\"Output/\" + f.split(\"\\\\\")[1] + \".pdf\")\n",
    "    fig = plot_data(data2, data2.loc[data2[\"anomaly\"] == 1], \"Original Anomalies\")\n",
    "    pdf.savefig(fig)\n",
    "    plt.close()\n",
    "    \n",
    "    for fun in functions:\n",
    "        func = globals()[fun]\n",
    "        data, anomaly = func(data)\n",
    "        \n",
    "        data2 = copy.deepcopy(data)\n",
    "        data2['label'] = range(data2.shape[0])\n",
    "        \n",
    "        #print(data2['label'])\n",
    "        \n",
    "        data2['value'] = data2['value'] + round(trend, 0) * data2['label']\n",
    "        \n",
    "        anomaly2 = data2.loc[data2[fun] == 1, ['timestamps', 'value']]\n",
    "        \n",
    "        fig = plot_data(data2, anomaly2, fun)\n",
    "        pdf.savefig(fig)\n",
    "        plt.close()\n",
    "        \n",
    "        data2.drop(['label'], axis = 1)\n",
    "        \n",
    "        row = [f.split(\"\\\\\")[1], fun] + list(np.array(metrics.confusion_matrix(data['anomaly'], data[fun])).flatten())\n",
    "        \n",
    "#         fpr, tpr, thresholds = metrics.roc_curve(data[fun], data['anomaly'])\n",
    "#         auc = round(metrics.auc(fpr, tpr), 3)\n",
    "#         row.append(auc)\n",
    "#         print(metrics.confusion_matrix(data['anomaly'], data[fun]))\n",
    "        \n",
    "        precision =  round(metrics.precision_score(data['anomaly'], data[fun]), 3)\n",
    "        row.append(precision)\n",
    "        \n",
    "        recall =  round(metrics.recall_score(data['anomaly'], data[fun]), 3)\n",
    "        row.append(recall)\n",
    "\n",
    "        f1_score =  round(metrics.f1_score(data['anomaly'], data[fun]), 3)\n",
    "        row.append(f1_score)\n",
    "        \n",
    "        row_dict = {accuracy_df.columns[i] : row[i] for i in range(len(row))}\n",
    "        print(row_dict)\n",
    "        accuracy_df = accuracy_df.append(row_dict, ignore_index = True)\n",
    "    \n",
    "    pdf.close()\n",
    "    plt.close('all')\n",
    "    file_counter += 1    \n",
    "        \n",
    "#print(accuracy_df)"
   ]
  },
  {
   "cell_type": "code",
   "execution_count": 19,
   "metadata": {},
   "outputs": [
    {
     "ename": "FileNotFoundError",
     "evalue": "File b'FromR.csv' does not exist",
     "output_type": "error",
     "traceback": [
      "\u001b[1;31m---------------------------------------------------------------------------\u001b[0m",
      "\u001b[1;31mFileNotFoundError\u001b[0m                         Traceback (most recent call last)",
      "\u001b[1;32m<ipython-input-19-505627571b69>\u001b[0m in \u001b[0;36m<module>\u001b[1;34m()\u001b[0m\n\u001b[1;32m----> 1\u001b[1;33m \u001b[0manomaly_detection_twitter_df\u001b[0m \u001b[1;33m=\u001b[0m \u001b[0mpd\u001b[0m\u001b[1;33m.\u001b[0m\u001b[0mread_csv\u001b[0m\u001b[1;33m(\u001b[0m\u001b[1;34m\"FromR.csv\"\u001b[0m\u001b[1;33m)\u001b[0m\u001b[1;33m\u001b[0m\u001b[0m\n\u001b[0m\u001b[0;32m      2\u001b[0m \u001b[1;33m\u001b[0m\u001b[0m\n\u001b[0;32m      3\u001b[0m \u001b[0manomaly_detection_twitter_df\u001b[0m \u001b[1;33m=\u001b[0m \u001b[0manomaly_detection_twitter_df\u001b[0m\u001b[1;33m[\u001b[0m\u001b[0mcolumns\u001b[0m\u001b[1;33m]\u001b[0m\u001b[1;33m\u001b[0m\u001b[0m\n\u001b[0;32m      4\u001b[0m \u001b[1;33m\u001b[0m\u001b[0m\n\u001b[0;32m      5\u001b[0m \u001b[0maccuracy_df\u001b[0m \u001b[1;33m=\u001b[0m \u001b[0maccuracy_df\u001b[0m\u001b[1;33m.\u001b[0m\u001b[0mappend\u001b[0m\u001b[1;33m(\u001b[0m\u001b[0manomaly_detection_twitter_df\u001b[0m\u001b[1;33m,\u001b[0m \u001b[0msort\u001b[0m \u001b[1;33m=\u001b[0m \u001b[1;32mTrue\u001b[0m\u001b[1;33m)\u001b[0m\u001b[1;33m\u001b[0m\u001b[0m\n",
      "\u001b[1;32mD:\\Users\\Gopal\\Anaconda3\\lib\\site-packages\\pandas\\io\\parsers.py\u001b[0m in \u001b[0;36mparser_f\u001b[1;34m(filepath_or_buffer, sep, delimiter, header, names, index_col, usecols, squeeze, prefix, mangle_dupe_cols, dtype, engine, converters, true_values, false_values, skipinitialspace, skiprows, nrows, na_values, keep_default_na, na_filter, verbose, skip_blank_lines, parse_dates, infer_datetime_format, keep_date_col, date_parser, dayfirst, iterator, chunksize, compression, thousands, decimal, lineterminator, quotechar, quoting, escapechar, comment, encoding, dialect, tupleize_cols, error_bad_lines, warn_bad_lines, skipfooter, doublequote, delim_whitespace, low_memory, memory_map, float_precision)\u001b[0m\n\u001b[0;32m    676\u001b[0m                     skip_blank_lines=skip_blank_lines)\n\u001b[0;32m    677\u001b[0m \u001b[1;33m\u001b[0m\u001b[0m\n\u001b[1;32m--> 678\u001b[1;33m         \u001b[1;32mreturn\u001b[0m \u001b[0m_read\u001b[0m\u001b[1;33m(\u001b[0m\u001b[0mfilepath_or_buffer\u001b[0m\u001b[1;33m,\u001b[0m \u001b[0mkwds\u001b[0m\u001b[1;33m)\u001b[0m\u001b[1;33m\u001b[0m\u001b[0m\n\u001b[0m\u001b[0;32m    679\u001b[0m \u001b[1;33m\u001b[0m\u001b[0m\n\u001b[0;32m    680\u001b[0m     \u001b[0mparser_f\u001b[0m\u001b[1;33m.\u001b[0m\u001b[0m__name__\u001b[0m \u001b[1;33m=\u001b[0m \u001b[0mname\u001b[0m\u001b[1;33m\u001b[0m\u001b[0m\n",
      "\u001b[1;32mD:\\Users\\Gopal\\Anaconda3\\lib\\site-packages\\pandas\\io\\parsers.py\u001b[0m in \u001b[0;36m_read\u001b[1;34m(filepath_or_buffer, kwds)\u001b[0m\n\u001b[0;32m    438\u001b[0m \u001b[1;33m\u001b[0m\u001b[0m\n\u001b[0;32m    439\u001b[0m     \u001b[1;31m# Create the parser.\u001b[0m\u001b[1;33m\u001b[0m\u001b[1;33m\u001b[0m\u001b[0m\n\u001b[1;32m--> 440\u001b[1;33m     \u001b[0mparser\u001b[0m \u001b[1;33m=\u001b[0m \u001b[0mTextFileReader\u001b[0m\u001b[1;33m(\u001b[0m\u001b[0mfilepath_or_buffer\u001b[0m\u001b[1;33m,\u001b[0m \u001b[1;33m**\u001b[0m\u001b[0mkwds\u001b[0m\u001b[1;33m)\u001b[0m\u001b[1;33m\u001b[0m\u001b[0m\n\u001b[0m\u001b[0;32m    441\u001b[0m \u001b[1;33m\u001b[0m\u001b[0m\n\u001b[0;32m    442\u001b[0m     \u001b[1;32mif\u001b[0m \u001b[0mchunksize\u001b[0m \u001b[1;32mor\u001b[0m \u001b[0miterator\u001b[0m\u001b[1;33m:\u001b[0m\u001b[1;33m\u001b[0m\u001b[0m\n",
      "\u001b[1;32mD:\\Users\\Gopal\\Anaconda3\\lib\\site-packages\\pandas\\io\\parsers.py\u001b[0m in \u001b[0;36m__init__\u001b[1;34m(self, f, engine, **kwds)\u001b[0m\n\u001b[0;32m    785\u001b[0m             \u001b[0mself\u001b[0m\u001b[1;33m.\u001b[0m\u001b[0moptions\u001b[0m\u001b[1;33m[\u001b[0m\u001b[1;34m'has_index_names'\u001b[0m\u001b[1;33m]\u001b[0m \u001b[1;33m=\u001b[0m \u001b[0mkwds\u001b[0m\u001b[1;33m[\u001b[0m\u001b[1;34m'has_index_names'\u001b[0m\u001b[1;33m]\u001b[0m\u001b[1;33m\u001b[0m\u001b[0m\n\u001b[0;32m    786\u001b[0m \u001b[1;33m\u001b[0m\u001b[0m\n\u001b[1;32m--> 787\u001b[1;33m         \u001b[0mself\u001b[0m\u001b[1;33m.\u001b[0m\u001b[0m_make_engine\u001b[0m\u001b[1;33m(\u001b[0m\u001b[0mself\u001b[0m\u001b[1;33m.\u001b[0m\u001b[0mengine\u001b[0m\u001b[1;33m)\u001b[0m\u001b[1;33m\u001b[0m\u001b[0m\n\u001b[0m\u001b[0;32m    788\u001b[0m \u001b[1;33m\u001b[0m\u001b[0m\n\u001b[0;32m    789\u001b[0m     \u001b[1;32mdef\u001b[0m \u001b[0mclose\u001b[0m\u001b[1;33m(\u001b[0m\u001b[0mself\u001b[0m\u001b[1;33m)\u001b[0m\u001b[1;33m:\u001b[0m\u001b[1;33m\u001b[0m\u001b[0m\n",
      "\u001b[1;32mD:\\Users\\Gopal\\Anaconda3\\lib\\site-packages\\pandas\\io\\parsers.py\u001b[0m in \u001b[0;36m_make_engine\u001b[1;34m(self, engine)\u001b[0m\n\u001b[0;32m   1012\u001b[0m     \u001b[1;32mdef\u001b[0m \u001b[0m_make_engine\u001b[0m\u001b[1;33m(\u001b[0m\u001b[0mself\u001b[0m\u001b[1;33m,\u001b[0m \u001b[0mengine\u001b[0m\u001b[1;33m=\u001b[0m\u001b[1;34m'c'\u001b[0m\u001b[1;33m)\u001b[0m\u001b[1;33m:\u001b[0m\u001b[1;33m\u001b[0m\u001b[0m\n\u001b[0;32m   1013\u001b[0m         \u001b[1;32mif\u001b[0m \u001b[0mengine\u001b[0m \u001b[1;33m==\u001b[0m \u001b[1;34m'c'\u001b[0m\u001b[1;33m:\u001b[0m\u001b[1;33m\u001b[0m\u001b[0m\n\u001b[1;32m-> 1014\u001b[1;33m             \u001b[0mself\u001b[0m\u001b[1;33m.\u001b[0m\u001b[0m_engine\u001b[0m \u001b[1;33m=\u001b[0m \u001b[0mCParserWrapper\u001b[0m\u001b[1;33m(\u001b[0m\u001b[0mself\u001b[0m\u001b[1;33m.\u001b[0m\u001b[0mf\u001b[0m\u001b[1;33m,\u001b[0m \u001b[1;33m**\u001b[0m\u001b[0mself\u001b[0m\u001b[1;33m.\u001b[0m\u001b[0moptions\u001b[0m\u001b[1;33m)\u001b[0m\u001b[1;33m\u001b[0m\u001b[0m\n\u001b[0m\u001b[0;32m   1015\u001b[0m         \u001b[1;32melse\u001b[0m\u001b[1;33m:\u001b[0m\u001b[1;33m\u001b[0m\u001b[0m\n\u001b[0;32m   1016\u001b[0m             \u001b[1;32mif\u001b[0m \u001b[0mengine\u001b[0m \u001b[1;33m==\u001b[0m \u001b[1;34m'python'\u001b[0m\u001b[1;33m:\u001b[0m\u001b[1;33m\u001b[0m\u001b[0m\n",
      "\u001b[1;32mD:\\Users\\Gopal\\Anaconda3\\lib\\site-packages\\pandas\\io\\parsers.py\u001b[0m in \u001b[0;36m__init__\u001b[1;34m(self, src, **kwds)\u001b[0m\n\u001b[0;32m   1706\u001b[0m         \u001b[0mkwds\u001b[0m\u001b[1;33m[\u001b[0m\u001b[1;34m'usecols'\u001b[0m\u001b[1;33m]\u001b[0m \u001b[1;33m=\u001b[0m \u001b[0mself\u001b[0m\u001b[1;33m.\u001b[0m\u001b[0musecols\u001b[0m\u001b[1;33m\u001b[0m\u001b[0m\n\u001b[0;32m   1707\u001b[0m \u001b[1;33m\u001b[0m\u001b[0m\n\u001b[1;32m-> 1708\u001b[1;33m         \u001b[0mself\u001b[0m\u001b[1;33m.\u001b[0m\u001b[0m_reader\u001b[0m \u001b[1;33m=\u001b[0m \u001b[0mparsers\u001b[0m\u001b[1;33m.\u001b[0m\u001b[0mTextReader\u001b[0m\u001b[1;33m(\u001b[0m\u001b[0msrc\u001b[0m\u001b[1;33m,\u001b[0m \u001b[1;33m**\u001b[0m\u001b[0mkwds\u001b[0m\u001b[1;33m)\u001b[0m\u001b[1;33m\u001b[0m\u001b[0m\n\u001b[0m\u001b[0;32m   1709\u001b[0m \u001b[1;33m\u001b[0m\u001b[0m\n\u001b[0;32m   1710\u001b[0m         \u001b[0mpassed_names\u001b[0m \u001b[1;33m=\u001b[0m \u001b[0mself\u001b[0m\u001b[1;33m.\u001b[0m\u001b[0mnames\u001b[0m \u001b[1;32mis\u001b[0m \u001b[1;32mNone\u001b[0m\u001b[1;33m\u001b[0m\u001b[0m\n",
      "\u001b[1;32mpandas\\_libs\\parsers.pyx\u001b[0m in \u001b[0;36mpandas._libs.parsers.TextReader.__cinit__\u001b[1;34m()\u001b[0m\n",
      "\u001b[1;32mpandas\\_libs\\parsers.pyx\u001b[0m in \u001b[0;36mpandas._libs.parsers.TextReader._setup_parser_source\u001b[1;34m()\u001b[0m\n",
      "\u001b[1;31mFileNotFoundError\u001b[0m: File b'FromR.csv' does not exist"
     ]
    }
   ],
   "source": [
    "anomaly_detection_twitter_df = pd.read_csv(\"FromR.csv\")\n",
    "\n",
    "anomaly_detection_twitter_df = anomaly_detection_twitter_df[columns]\n",
    "\n",
    "accuracy_df = accuracy_df.append(anomaly_detection_twitter_df, sort = True)\n",
    "\n",
    "accuracy_df = accuracy_df.sort_values(['File'])\n",
    "print(accuracy_df[columns])"
   ]
  },
  {
   "cell_type": "code",
   "execution_count": 125,
   "metadata": {},
   "outputs": [],
   "source": [
    "accuracy_df.to_csv('accuracy.csv', sep=',')"
   ]
  },
  {
   "cell_type": "markdown",
   "metadata": {},
   "source": [
    "## Working with Twitter Data "
   ]
  },
  {
   "cell_type": "markdown",
   "metadata": {},
   "source": [
    "### Fetching Tweets "
   ]
  },
  {
   "cell_type": "code",
   "execution_count": 151,
   "metadata": {},
   "outputs": [],
   "source": [
    "hashtag = \"target\".lower()"
   ]
  },
  {
   "cell_type": "code",
   "execution_count": 138,
   "metadata": {},
   "outputs": [],
   "source": [
    "####input your credentials here\n",
    "keys_df = pd.read_csv(\"keys.csv\")\n",
    "\n",
    "# consumer_key = 'nMV2QarJGiWk3g3nwnNfFJ6rA'\n",
    "# consumer_secret = 'jFhR5hcqJcRF1ogkbDEtb2pqkW7pqglP2GxjLiXSEbDDrwnxvm'\n",
    "# access_token = '1462235420-uO9JZCZDsXTCeWx9A05l8gReeY7NGaWakyjf02B'\n",
    "# access_token_secret = 'ofzEpRirve34H8WZCYzSllpLrfiiMRhYCZAbZHPA4WIkA'\n",
    "\n",
    "consumer_key = keys_df.loc[0, \"consumer_key\"]\n",
    "consumer_secret = keys_df.loc[0, \"consumer_secret\"]\n",
    "access_token = keys_df.loc[0, \"access_token\"]\n",
    "access_token_secret = keys_df.loc[0, \"access_token_secret\"]\n",
    "\n",
    "def get_tweets(hashtag):\n",
    "    '''\n",
    "    This function takes in a string and returns a dictionary containing the timestamp and the tweet.\n",
    "    \n",
    "    Args:\n",
    "    -----\n",
    "    hashtag : String\n",
    "    \n",
    "    Returns:\n",
    "    --------\n",
    "    output : dictionary\n",
    "    '''\n",
    "    auth = tweepy.OAuthHandler(consumer_key, consumer_secret)\n",
    "    auth.set_access_token(access_token, access_token_secret)\n",
    "    api = tweepy.API(auth,wait_on_rate_limit=True)\n",
    "\n",
    "    output = {}\n",
    "    count1 = 1\n",
    "    for tweet in tweepy.Cursor(api.search, q = (\"#\"+ str(hashtag)), count=10000 ,lang=\"en\",since=\"2017-04-03\").items():\n",
    "        #print(count1)\n",
    "        count1=count1+1\n",
    "        output[tweet.created_at] = tweet.text\n",
    "        if count1 == 10000:\n",
    "            break\n",
    "            \n",
    "    return output"
   ]
  },
  {
   "cell_type": "code",
   "execution_count": 139,
   "metadata": {},
   "outputs": [],
   "source": [
    "def timestamp_tweet(output, hashtag): # Gives CSV file timestamp and tweets\n",
    "    \n",
    "    '''\n",
    "    This function takes in a dictionary and a string and creates a csv file with timestamp and tweets.\n",
    "    \n",
    "    Args:\n",
    "    -----\n",
    "    output : dictionary\n",
    "    hashtag : String\n",
    "    '''\n",
    "        \n",
    "    timestamps = []\n",
    "    tweets = []\n",
    "    for i in output:\n",
    "        timestamps.append(i)\n",
    "        tweets.append(output[i])\n",
    "    df = {\"timestamps\":timestamps, \"tweets\":tweets}\n",
    "    df = pd.DataFrame(df)\n",
    "    df.to_csv(str(hashtag)+'_tweets.csv', sep=',')"
   ]
  },
  {
   "cell_type": "code",
   "execution_count": 140,
   "metadata": {},
   "outputs": [],
   "source": [
    "def timestamp_epoc_count(output):\n",
    "    '''\n",
    "    This function takes in a dictionary and creates a dataframe with time component and the number of the tweets.\n",
    "    \n",
    "    Args:\n",
    "    -----\n",
    "    output : dictionary\n",
    "    \n",
    "    Returns:\n",
    "    --------\n",
    "    dataframe : pandas.DataFrame\n",
    "    '''\n",
    "    \n",
    "    output = OrderedDict(output)\n",
    "    tweet_counts = {}\n",
    "    for i in output.keys():\n",
    "        if i not in tweet_counts:\n",
    "            tweet_counts[i] = 1\n",
    "        else:\n",
    "            tweet_counts[i]+=1\n",
    "    #print(tweet_counts)    \n",
    "    tweet_counts = OrderedDict(tweet_counts)\n",
    "    dataframe = {\"timestamp\":list(tweet_counts.keys()),\"counts\":[tweet_counts[i] for i in tweet_counts.keys()]}\n",
    "    dataframe = pd.DataFrame(dataframe)\n",
    "    #dataframe.to_csv('aquaman.csv', sep='\\t')\n",
    "    #dataframe\n",
    "    tweet_summation = {}\n",
    "    #print(tweet_counts)\n",
    "    for i in tweet_counts:    \n",
    "\n",
    "        temp = str(i.month)+\" \"+str(i.day)+\" \"+str(i.hour)\n",
    "        if temp not in tweet_summation:\n",
    "            tweet_summation[temp] = 1\n",
    "        else:\n",
    "            tweet_summation[temp] += 1\n",
    "    tweet_summation = OrderedDict(tweet_summation)\n",
    "    Xaxis = []\n",
    "    count = []\n",
    "    for i in sorted(tweet_summation.keys()):\n",
    "        \n",
    "        Xaxis.append(i)\n",
    "        count.append(tweet_summation[i])\n",
    "    month = []\n",
    "    day = []\n",
    "    hour = []\n",
    "    for timestamp in Xaxis:\n",
    "        \n",
    "        i,j,k = timestamp.split(\" \")\n",
    "        month.append(int(i))\n",
    "        day.append(int(j))\n",
    "        hour.append(int(k))\n",
    "\n",
    "    dataframe = {\"month\":month,\"day\":day,\"hour\":hour,\"value\":count}\n",
    "    dataframe = pd.DataFrame(dataframe)\n",
    "    for index, row in dataframe.iterrows():\n",
    "    \n",
    "        dataframe.loc[index,\"timestamp\"] = dt.datetime(2018,row['month'], row['day'],row[\"hour\"],0,0)\n",
    "        date = dt.datetime(2018,row['month'], row['day'],row[\"hour\"],0,0)\n",
    "        dataframe.loc[index,\"timestamps\"] = int(time.mktime(time.strptime(str(date), '%Y-%m-%d %H:%M:%S')))\n",
    "    return(dataframe)"
   ]
  },
  {
   "cell_type": "code",
   "execution_count": 146,
   "metadata": {},
   "outputs": [
    {
     "name": "stderr",
     "output_type": "stream",
     "text": [
      "D:\\Users\\Gopal\\Anaconda3\\lib\\socket.py:657: ResourceWarning: unclosed <socket.socket fd=3184, family=AddressFamily.AF_INET, type=SocketKind.SOCK_STREAM, proto=0, laddr=('192.168.1.86', 54406), raddr=('104.244.42.194', 443)>\n",
      "  self._sock = None\n"
     ]
    }
   ],
   "source": [
    "output = get_tweets(hashtag)\n",
    "timestamp_tweet(output, hashtag)\n",
    "twitter_data = timestamp_epoc_count(output)\n",
    "twitter_data.head()\n",
    "twitter_data.to_csv(str(hashtag)+'_with_epoch.csv', sep=',')"
   ]
  },
  {
   "cell_type": "markdown",
   "metadata": {},
   "source": [
    "## Feature Engineering in Twitter Dataset "
   ]
  },
  {
   "cell_type": "code",
   "execution_count": 142,
   "metadata": {},
   "outputs": [],
   "source": [
    "def feature_engineering_twitter(filename):\n",
    "    '''\n",
    "    This function takes in the filename and splits the time component into hours, day of the week, and is it a weekday or not. \n",
    "    \n",
    "    Args:\n",
    "    -----\n",
    "    filename : String\n",
    "    \n",
    "    Returns:\n",
    "    --------\n",
    "    df : pandas.DataFrame\n",
    "    '''\n",
    "    \n",
    "    df : pandas.DataFrame\n",
    "    df = pd.read_csv(filename)\n",
    "    df['datetime'] = pd.to_datetime(df['timestamps'] * (10**9))\n",
    "    df = df[['value', 'datetime', 'timestamps']]\n",
    "\n",
    "    df['datetime'] = pd.to_datetime(df['datetime'])\n",
    "    df['hours'] = df['datetime'].dt.hour\n",
    "    df['day'] = df['datetime'].dt.dayofweek\n",
    "    df['isweekday'] = (df['day'] < 5).astype(int)\n",
    "    return df"
   ]
  },
  {
   "cell_type": "markdown",
   "metadata": {},
   "source": [
    "## Implementing in Twitter Dataset "
   ]
  },
  {
   "cell_type": "code",
   "execution_count": 154,
   "metadata": {},
   "outputs": [
    {
     "name": "stdout",
     "output_type": "stream",
     "text": [
      "   value            datetime    timestamps  hours  day  isweekday\n",
      "0     14 2018-11-13 03:00:00  1.542078e+09      3    1          1\n",
      "1     18 2018-11-13 04:00:00  1.542082e+09      4    1          1\n",
      "2     13 2018-11-13 05:00:00  1.542085e+09      5    1          1\n",
      "3     11 2018-11-13 06:00:00  1.542089e+09      6    1          1\n",
      "4      3 2018-11-13 15:00:00  1.542121e+09     15    1          1\n"
     ]
    }
   ],
   "source": [
    "data =  feature_engineering_twitter(str(hashtag)+'_with_epoch.csv')\n",
    "\n",
    "print(data.head())\n",
    "\n",
    "twitter_data.to_csv(\"toR.csv\", sep = \",\")\n",
    "    \n",
    "functions = ['mean_plus_standev', 'kmeans', 'cblof_pyod', 'moving_avg', 'moving_avg_rolling_std', 'isolation_forest', 'isolation_forest_pyod', 'one_class_svm', 'one_class_svm_pyod', 'max_voting']\n",
    "\n",
    "pdf = backend_pdf.PdfPages(\"Output/\" + hashtag + \".pdf\")\n",
    "\n",
    "\n",
    "for fun in functions:\n",
    "        func = globals()[fun]\n",
    "        data, anomaly = func(data)\n",
    "        \n",
    "        fig =  plot_data(data, anomaly, fun)\n",
    "        pdf.savefig(fig)\n",
    "        plt.close()\n",
    "\n",
    "pdf.close()\n",
    "plt.close('all')"
   ]
  },
  {
   "cell_type": "code",
   "execution_count": 155,
   "metadata": {},
   "outputs": [],
   "source": [
    "# print(anomaly)\n",
    "\n",
    "twitter_df =  pd.read_csv(str(hashtag)+'_tweets.csv')\n",
    "twitter_df['year'] = pd.to_datetime(twitter_df['timestamps']).dt.year\n",
    "twitter_df['month'] = pd.to_datetime(twitter_df['timestamps']).dt.month\n",
    "twitter_df['day'] = pd.to_datetime(twitter_df['timestamps']).dt.day\n",
    "twitter_df['hour'] = pd.to_datetime(twitter_df['timestamps']).dt.hour\n",
    "\n",
    "# print(twitter_df.head())\n",
    "\n",
    "for index, row in twitter_df.iterrows():\n",
    "    \n",
    "    date = dt.datetime(row['year'], row['month'], row['day'], row['hour'], 0, 0)\n",
    "    twitter_df.loc[index, \"timeepoch\"] = time.mktime(time.strptime(str(date), '%Y-%m-%d %H:%M:%S')) \n",
    "\n",
    "anomaly_ts_list = [int(i) for i in list(anomaly[\"timestamps\"])] \n",
    "\n",
    "anomaly_df = twitter_df[twitter_df[\"timeepoch\"].isin(anomaly_ts_list)]    \n",
    "\n",
    "tweet_list = []\n",
    "existing = []\n",
    "\n",
    "for row in twitter_df[\"timeepoch\"]:\n",
    "    for an in anomaly_ts_list:\n",
    "        if row == an and row not in existing:\n",
    "            tweet_list.append(twitter_df.loc[twitter_df[\"timeepoch\"] == row, \"tweets\"])\n",
    "            existing.append(row)\n",
    "            \n",
    "tweet_list = [str(tweet) for tweet in tweet_list]\n",
    "            \n",
    "\n"
   ]
  },
  {
   "cell_type": "markdown",
   "metadata": {},
   "source": [
    "## Bag of Words "
   ]
  },
  {
   "cell_type": "code",
   "execution_count": 156,
   "metadata": {},
   "outputs": [
    {
     "name": "stdout",
     "output_type": "stream",
     "text": [
      "[('blackfriday', 102), ('deal', 102), ('alert', 102), ('ad', 100), ('get', 98), ('starlinkgam', 97), ('target', 29), ('walmart', 4), ('tgt', 4), ('top', 4)]\n"
     ]
    }
   ],
   "source": [
    "stopwords = ['i', 'me', 'my', 'myself', 'we', 'our', 'ours', 'ourselves', 'you', \"you're\", \"you've\", \"you'll\", \"you'd\", 'your', 'yours', 'yourself', 'yourselves', 'he', 'him', 'his', 'himself', 'she', \"she's\", 'her', 'hers', 'herself', 'it', \"it's\", 'its', 'itself', 'they', 'them', 'their', 'theirs', 'themselves', 'what', 'which', 'who', 'whom', 'this', 'that', \"that'll\", 'these', 'those', 'am', 'is', 'are', 'was', 'were', 'be', 'been', 'being', 'have', 'has', 'had', 'having', 'do', 'does', 'did', 'doing', 'a', 'an', 'the', 'and', 'but', 'if', 'or', 'because', 'as', 'until', 'while', 'of', 'at', 'by', 'for', 'with', 'about', 'against', 'between', 'into', 'through', 'during', 'before', 'after', 'above', 'below', 'to', 'from', 'up', 'down', 'in', 'out', 'on', 'off', 'over', 'under', 'again', 'further', 'then', 'once', 'here', 'there', 'when', 'where', 'why', 'how', 'all', 'any', 'both', 'each', 'few', 'more', 'most', 'other', 'some', 'such', 'no', 'nor', 'not', 'only', 'own', 'same', 'so', 'than', 'too', 'very', 's', 't', 'can', 'will', 'just', 'don', \"don't\", 'should', \"should've\", 'now', 'd', 'll', 'm', 'o', 're', 've', 'y', 'ain', 'aren', \"aren't\", 'couldn', \"couldn't\", 'didn', \"didn't\", 'doesn', \"doesn't\", 'hadn', \"hadn't\", 'hasn', \"hasn't\", 'haven', \"haven't\", 'isn', \"isn't\", 'ma', 'mightn', \"mightn't\", 'mustn', \"mustn't\", 'needn', \"needn't\", 'shan', \"shan't\", 'shouldn', \"shouldn't\", 'wasn', \"wasn't\", 'weren', \"weren't\", 'won', \"won't\", 'wouldn', \"wouldn't\", 'rt', 'a']\n",
    "\n",
    "def remove_punctuation(words):\n",
    "    '''\n",
    "    This function takes in a list of words and remove punctuation from it. \n",
    "    \n",
    "    Args:\n",
    "    -----\n",
    "    words : List\n",
    "    \n",
    "    Returns:\n",
    "    --------\n",
    "    words : List\n",
    "    '''\n",
    "    #The code taken from stack overflow begins\n",
    "    #https://stackoverflow.com/questions/4371231/removing-punctuation-from-python-list-items\n",
    "    words = [''.join(c for c in s if c not in string.punctuation) for s in words]\n",
    "    #The code taken from stack overflow ends\n",
    "    words = [s for s in words if s != '']\n",
    "    return words\n",
    "\n",
    "def remove_emojis(tweet_data):\n",
    "    \n",
    "    '''\n",
    "    This function takes in a list of tweets and remove emoji from it. \n",
    "    \n",
    "    Args:\n",
    "    -----\n",
    "    tweet_data : List\n",
    "    \n",
    "    Returns:\n",
    "    --------\n",
    "    List\n",
    "    '''\n",
    "     #The code taken from stack overflow begins\n",
    "    #https://stackoverflow.com/questions/33404752/removing-emojis-from-a-string-in-python\n",
    "    emoji_pattern = re.compile(\"[\"\n",
    "        u\"\\U0001F600-\\U0001F64F\"  # emoticons\n",
    "        u\"\\U0001F300-\\U0001F5FF\"  # symbols & pictographs\n",
    "        u\"\\U0001F680-\\U0001F6FF\"  # transport & map symbols\n",
    "        u\"\\U0001F1E0-\\U0001F1FF\"  # flags (iOS)\n",
    "                           \"]+\", flags=re.UNICODE)\n",
    "    #The code taken from stack overflow ends\n",
    "    return [emoji_pattern.sub(r'', tweet) for tweet in tweet_data]\n",
    "\n",
    "def driver_words(tweet_data): \n",
    "    \n",
    "    '''\n",
    "    This function takes in a list of tweets and returns ten most common words in tweet. \n",
    "    \n",
    "    Args:\n",
    "    -----\n",
    "    tweet_data : List\n",
    "    \n",
    "    Returns:\n",
    "    --------\n",
    "    List of Tuples\n",
    "    '''\n",
    "    tweet_data = [tweet.lower() for tweet in tweet_data]\n",
    "    temp = ' '.join(tweet_data)\n",
    "    word_list = [word for word in remove_punctuation(temp.split()) if word not in stopwords]\n",
    "    word_count = Counter(word_list)\n",
    "    return word_count.most_common(10)\n",
    "\n",
    "tweet_list = remove_emojis(tweet_list)\n",
    "\n",
    "top =  driver_words(tweet_list)\n",
    "\n",
    "print(top)"
   ]
  },
  {
   "cell_type": "markdown",
   "metadata": {},
   "source": [
    "## Word Cloud "
   ]
  },
  {
   "cell_type": "code",
   "execution_count": 157,
   "metadata": {},
   "outputs": [
    {
     "data": {
      "image/png": "[encoded data removed]",
      "text/plain": [
       "<Figure size 720x720 with 1 Axes>"
      ]
     },
     "metadata": {},
     "output_type": "display_data"
    }
   ],
   "source": [
    "wordcloud_data = [[i[0]] * i[1] for i in top]\n",
    "wordcloud_list = [word for word_list in wordcloud_data for word in word_list]\n",
    "\n",
    "def show_wordcloud(data):\n",
    "\n",
    "    '''\n",
    "    This function takes in a list of words and creates a word cloud. \n",
    "    \n",
    "    Args:\n",
    "    -----\n",
    "    data : List\n",
    "    \n",
    "    '''\n",
    "    \n",
    "    wordcloud = WordCloud(\n",
    "        background_color='white',\n",
    "        stopwords=stopwords,\n",
    "        max_font_size=40, \n",
    "        random_state=0,\n",
    "        collocations=False\n",
    "    ).generate(str(data))\n",
    "\n",
    "    fig = plt.figure(1, figsize = (10, 10))\n",
    "    plt.imshow(wordcloud)\n",
    "    plt.axis(\"off\")\n",
    "    plt.show()\n",
    "\n",
    "show_wordcloud(wordcloud_list)"
   ]
  },
  {
   "cell_type": "markdown",
   "metadata": {},
   "source": [
    "## Multi-dimensional Data"
   ]
  },
  {
   "cell_type": "code",
   "execution_count": 3,
   "metadata": {},
   "outputs": [],
   "source": [
    "df = pd.read_csv(\"C:/Users/archi/OneDrive/Desktop/creditcard.csv\")\n",
    "y_true = df['Class']\n",
    "df_data = df.drop('Class',1)"
   ]
  },
  {
   "cell_type": "code",
   "execution_count": 4,
   "metadata": {},
   "outputs": [],
   "source": [
    "Modify_std = preprocessing.StandardScaler()\n",
    "data_strans = Modify_std.fit_transform(df_data)\n",
    "Credit_data_for = pd.DataFrame(data_strans)"
   ]
  },
  {
   "cell_type": "markdown",
   "metadata": {},
   "source": [
    "## Isolation Forest"
   ]
  },
  {
   "cell_type": "code",
   "execution_count": 5,
   "metadata": {},
   "outputs": [
    {
     "data": {
      "text/plain": [
       "IsolationForest(bootstrap=False, contamination=0.03, max_features=1.0,\n",
       "        max_samples='auto', n_estimators=100, n_jobs=1, random_state=None,\n",
       "        verbose=0)"
      ]
     },
     "execution_count": 5,
     "metadata": {},
     "output_type": "execute_result"
    }
   ],
   "source": [
    "Isolation_forest_model = ensemble.IsolationForest(contamination = 0.03)\n",
    "Isolation_forest_model.fit(Credit_data_for)"
   ]
  },
  {
   "cell_type": "code",
   "execution_count": 7,
   "metadata": {},
   "outputs": [],
   "source": [
    "scoring = - Isolation_forest_model.decision_function(Credit_data_for) "
   ]
  },
  {
   "cell_type": "code",
   "execution_count": 22,
   "metadata": {},
   "outputs": [],
   "source": [
    "Isola_result = Credit_data_for\n",
    "Isola_result['Isolation_forest'] = pd.Series(Isolation_forest_model.predict(Isola_result))\n",
    "Isola_result['Isolation_forest'] = Isola_result['Isolation_forest'].map( {1: 0, -1: 1} )"
   ]
  },
  {
   "cell_type": "code",
   "execution_count": 23,
   "metadata": {},
   "outputs": [
    {
     "name": "stdout",
     "output_type": "stream",
     "text": [
      "AUC Sore is  0.945\n",
      "F1 Score is  0.09\n",
      "Recall Score is  0.829\n",
      "Precision Score is  0.048\n"
     ]
    }
   ],
   "source": [
    "print(\"AUC Sore is \", round(metrics.roc_auc_score(y_true, scoring), 3))\n",
    "print(\"F1 Score is \", round(metrics.f1_score(y_true, Isola_result['Isolation_forest']), 3))\n",
    "print(\"Recall Score is \", round(metrics.recall_score(y_true, Isola_result['Isolation_forest']), 3))\n",
    "print(\"Precision Score is \", round(metrics.precision_score(y_true, Isola_result['Isolation_forest']), 3))"
   ]
  },
  {
   "cell_type": "markdown",
   "metadata": {},
   "source": [
    "## K Means"
   ]
  },
  {
   "cell_type": "code",
   "execution_count": 59,
   "metadata": {},
   "outputs": [],
   "source": [
    "KMeans_data = pd.DataFrame(Credit_data_for)\n",
    "    \n",
    "distance = get_distance(KMeans_data, cluster.KMeans(n_clusters = 4).fit(KMeans_data))"
   ]
  },
  {
   "cell_type": "code",
   "execution_count": 60,
   "metadata": {},
   "outputs": [],
   "source": [
    "outliers_fraction = 0.05\n",
    "number_of_outliers = int(outliers_fraction * len(distance))"
   ]
  },
  {
   "cell_type": "code",
   "execution_count": 61,
   "metadata": {},
   "outputs": [],
   "source": [
    "threshold = distance.nlargest(number_of_outliers).min()    \n",
    "KMeans_data['kmeans'] = (distance >= threshold).astype(int)"
   ]
  },
  {
   "cell_type": "code",
   "execution_count": 62,
   "metadata": {},
   "outputs": [
    {
     "name": "stdout",
     "output_type": "stream",
     "text": [
      "AUC Sore is  0.056\n",
      "Recall Score is  0.843\n",
      "AUC Sore is  0.897\n"
     ]
    }
   ],
   "source": [
    "print(\"F1 Score is \", round(metrics.f1_score(y_true, KMeans_data['kmeans']), 3))\n",
    "print(\"Recall Score is \", round(metrics.recall_score(y_true, KMeans_data['kmeans']), 3))\n",
    "print(\"AUC Score is \", round(metrics.roc_auc_score(y_true, KMeans_data['kmeans']), 3))"
   ]
  },
  {
   "cell_type": "markdown",
   "metadata": {},
   "source": [
    "## One Class SVM"
   ]
  },
  {
   "cell_type": "code",
   "execution_count": 14,
   "metadata": {},
   "outputs": [],
   "source": [
    "def train_SVM_Model(data_tn):\n",
    "    model = svm.OneClassSVM()\n",
    "    model_built = []\n",
    "    for val in range(5):\n",
    "        data_tn_new = data_tn.sample(50000)\n",
    "        model.fit(data_tn_new)\n",
    "        model_built.append(model)\n",
    "    return model_built"
   ]
  },
  {
   "cell_type": "code",
   "execution_count": 15,
   "metadata": {},
   "outputs": [],
   "source": [
    "def predict_class(data_tn,model_built):\n",
    "    pred = np.zeros(data_tn.shape[0])\n",
    "    for mod in model_built:\n",
    "        pred = np.add(pred,mod.decision_function(data_tn).reshape(data_tn.shape[0],))\n",
    "    divsision = len(data_tn)\n",
    "    pred = (pred * 1.0)\n",
    "    pred = pred/divsision\n",
    "    return pred"
   ]
  },
  {
   "cell_type": "code",
   "execution_count": 16,
   "metadata": {},
   "outputs": [],
   "source": [
    "model_built = train_SVM_Model(Credit_data_for)"
   ]
  },
  {
   "cell_type": "code",
   "execution_count": 17,
   "metadata": {},
   "outputs": [],
   "source": [
    "y_hat = predict_class(Credit_data_for, model_built)"
   ]
  },
  {
   "cell_type": "code",
   "execution_count": 18,
   "metadata": {},
   "outputs": [],
   "source": [
    "y_hat = -1 * y_hat\n",
    "\n",
    "y_hat_class = y_hat.copy()\n",
    "y_hat_class[ y_hat >= np.percentile(y_hat, 95)] = 1\n",
    "y_hat_class[y_hat < np.percentile(y_hat, 95)] = 0"
   ]
  },
  {
   "cell_type": "code",
   "execution_count": 69,
   "metadata": {},
   "outputs": [
    {
     "data": {
      "text/plain": [
       "array([[270505,  13810],\n",
       "       [    61,    431]], dtype=int64)"
      ]
     },
     "execution_count": 69,
     "metadata": {},
     "output_type": "execute_result"
    }
   ],
   "source": [
    "metrics.confusion_matrix(y_true, y_hat_class)"
   ]
  },
  {
   "cell_type": "code",
   "execution_count": 20,
   "metadata": {},
   "outputs": [
    {
     "name": "stdout",
     "output_type": "stream",
     "text": [
      "F1 Score is  0.059\n",
      "Recall Score is  0.876\n",
      "AUC Score is  0.9537055294361043\n"
     ]
    }
   ],
   "source": [
    "print(\"F1 Score is \", round(metrics.f1_score(y_true, y_hat_class), 3))\n",
    "print(\"Recall Score is \", round(metrics.recall_score(y_true,y_hat_class), 3))\n",
    "print(\"AUC Score is \", metrics.roc_auc_score(y_true, y_hat))"
   ]
  }
 ],
 "metadata": {
  "kernelspec": {
   "display_name": "Python 3",
   "language": "python",
   "name": "python3"
  },
  "language_info": {
   "codemirror_mode": {
    "name": "ipython",
    "version": 3
   },
   "file_extension": ".py",
   "mimetype": "text/x-python",
   "name": "python",
   "nbconvert_exporter": "python",
   "pygments_lexer": "ipython3",
   "version": "3.6.5"
  }
 },
 "nbformat": 4,
 "nbformat_minor": 2
}
