{
 "cells": [
  {
   "cell_type": "markdown",
   "metadata": {
    "colab_type": "text",
    "id": "R--G1S4LFVR9"
   },
   "source": [
    "<center>\n",
    "#CSCI-P556: Applied Machine Learning\n",
    "#Fall 2018\n",
    "#Assignment #2\n",
    "</center>\n",
    "---\n",
    "\n"
   ]
  },
  {
   "cell_type": "code",
   "execution_count": 2,
   "metadata": {},
   "outputs": [],
   "source": [
    "import numpy as np\n",
    "import pandas as pd\n",
    "import matplotlib.pyplot as plt\n"
   ]
  },
  {
   "cell_type": "markdown",
   "metadata": {
    "colab_type": "text",
    "id": "Ooye3d-VGooZ"
   },
   "source": [
    "## Problem 1 (50 points)\n",
    "\n",
    "In this problem you will be working with Bank Marketing Dataset. We encourage your to look at the description and make yourself comfortable with it: https://archive.ics.uci.edu/ml/datasets/bank+marketing\n",
    "\n",
    "Two pairs of training and validation sets have been drawn from this dataset for you to work with, namely: \n",
    " -  `train_1.csv` and `valid_1.csv`\n",
    " -  `train_2.csv`and `valid_2.csv`\n",
    " \n",
    "Finally, we have also provided a `test.csv` which is common for both settings.\n",
    "\n",
    "### Task 0: (3 points)\n",
    "\n",
    "What is the difference between the two sets of train/validation sets? Write your answer here:\n",
    "\n",
    "### Ans: <!-- Your answers goes here -->\n"
   ]
  },
  {
   "cell_type": "markdown",
   "metadata": {
    "colab_type": "text",
    "id": "MFKZT4mhJlSK"
   },
   "source": [
    "### Task 1 (Data Preprocessing) (12 points)\n",
    "\n",
    "Before you can train a machine learning model using this dataset, you will have to run a number of preprocessing steps to transform the data into a form which will be acceptable to the model. In this task, you are supposed to carry out the follow steps:\n",
    "\n",
    "1.  Find all features that have continuous numeric values and normalize them in the same way as you did in Assignment 1. List those features here.\n",
    "2. Find all categorical features and process them as was discussed in class. List those features and explain what you did.\n",
    "3. Are there any features which have missing values? (Hint: Missing values aren't always nicely represented and can be misleading sometimes). Find those features and explain how you will handle them.\n",
    "\n"
   ]
  },
  {
   "cell_type": "markdown",
   "metadata": {
    "colab_type": "text",
    "id": "uLoZ67_hPo9I"
   },
   "source": [
    "Write your text-based answers here.\n",
    "\n",
    "\n",
    "1.   Answer for bullet one  Answer: \n",
    "\n",
    "\n",
    "        age balance day duration campaign pdays previous\n",
    "2.   Answer for bullet two\n",
    "\n",
    "job\n",
    "marital\n",
    "education\n",
    "default\n",
    "housing\n",
    "loan\n",
    "contact\n",
    "month\n",
    "poutcome\n",
    "y\n",
    "\n",
    "3.   Answer for bullet three\n",
    "\n"
   ]
  },
  {
   "cell_type": "code",
   "execution_count": 3,
   "metadata": {},
   "outputs": [],
   "source": [
    "def feature_normalization(X):\n",
    "\n",
    "    df = pd.DataFrame(data = X)\n",
    "    #n = X.shape[1]\n",
    "    \n",
    "    mu = df.mean()\n",
    "    sigma = df.std(axis = 0)\n",
    "    X_norm = (df-mu)/sigma\n",
    "    \n",
    "    return X_norm"
   ]
  },
  {
   "cell_type": "code",
   "execution_count": 19,
   "metadata": {},
   "outputs": [],
   "source": [
    "def data_cleaning(data):\n",
    "    \n",
    "    for i in data.select_dtypes(include = [\"number\"]):\n",
    "        data[i] = feature_normalization(data[i])\n",
    "        \n",
    "    categorical = []\n",
    "    for i in data.select_dtypes(exclude = [\"number\"]):\n",
    "        categorical.append(i)\n",
    "    data = pd.get_dummies(data,columns = categorical)\n",
    "    data = data.drop([\"y_no\"],axis = 1)\n",
    "    \n",
    "    print(data)\n",
    "    \n",
    "    \n",
    "    return(data)\n",
    "\n",
    "\n",
    "\n"
   ]
  },
  {
   "cell_type": "code",
   "execution_count": null,
   "metadata": {},
   "outputs": [],
   "source": []
  },
  {
   "cell_type": "code",
   "execution_count": 18,
   "metadata": {
    "colab": {},
    "colab_type": "code",
    "id": "-kxn7ZjCJpJ2"
   },
   "outputs": [
    {
     "name": "stdout",
     "output_type": "stream",
     "text": [
      "           age   balance       day  duration  campaign     pdays  previous  \\\n",
      "0     1.605067  0.098371 -1.300352  0.099464 -0.249693 -0.417506 -0.163223   \n",
      "1     0.853755 -0.268771  1.817601  1.507043  0.074886 -0.417506 -0.163223   \n",
      "2    -1.212352  1.202983 -0.460903  0.386409 -0.574272  1.396638  1.206565   \n",
      "3     0.290271 -0.318691 -0.221060 -0.598509  0.724043 -0.417506 -0.163223   \n",
      "4    -0.367127  1.446211  0.498467  1.991747 -0.574272 -0.417506 -0.163223   \n",
      "5     2.732035  2.277856 -1.540194 -0.148704 -0.574272 -0.417506 -0.163223   \n",
      "6     0.853755 -0.356220  0.498467  1.588474  0.399464  2.981523  0.384692   \n",
      "7    -1.212352 -0.356928 -0.700745  0.359265 -0.574272 -0.417506 -0.163223   \n",
      "8    -1.494094 -0.164683 -0.340982  0.312734 -0.574272 -0.417506 -0.163223   \n",
      "9     0.665927 -0.432339 -1.180430  0.460084 -0.249693 -0.417506 -0.163223   \n",
      "10   -0.461041 -0.443668  0.498467  0.052933 -0.574272 -0.417506 -0.163223   \n",
      "11    0.008529  0.634745 -0.340982 -0.672184  2.022359 -0.417506 -0.163223   \n",
      "12    0.290271 -0.149813 -1.420273 -0.664428  0.074886 -0.417506 -0.163223   \n",
      "13   -0.461041 -0.368611  1.817601 -0.842799  0.074886 -0.417506 -0.163223   \n",
      "14    1.980723 -0.371443  0.138704  1.739701 -0.249693 -0.417506 -0.163223   \n",
      "15   -1.024524  0.088812 -0.700745  1.448879 -0.574272 -0.417506 -0.163223   \n",
      "16   -0.554954 -0.278684 -1.660115 -0.784635 -0.574272  0.948086  0.110734   \n",
      "17    0.947669  0.525700  0.498467 -0.536467  0.399464  1.964804  3.124269   \n",
      "18    1.323325 -0.476948  1.697680 -0.579121 -0.249693 -0.417506 -0.163223   \n",
      "19    0.290271 -0.271957 -1.180430 -0.241767 -0.249693 -0.417506 -0.163223   \n",
      "20   -0.179299 -0.191236 -0.340982 -0.741981 -0.574272  2.184096  1.480523   \n",
      "21   -2.057578  0.161391 -0.700745 -0.780757 -0.574272 -0.417506 -0.163223   \n",
      "22    0.665927 -0.381711 -0.101139 -0.586876 -0.249693 -0.417506 -0.163223   \n",
      "23    0.478099 -0.476948  0.858231 -0.536467 -0.574272 -0.417506 -0.163223   \n",
      "24    0.853755 -0.393748 -0.580824 -0.734226 -0.249693 -0.417506 -0.163223   \n",
      "25    0.102443 -0.319399 -1.300352 -0.749736 -0.574272 -0.417506 -0.163223   \n",
      "26   -0.461041 -0.222392 -0.340982  3.069728 -0.574272 -0.417506 -0.163223   \n",
      "27    0.102443  4.991238 -1.540194 -0.051763 -0.249693 -0.417506 -0.163223   \n",
      "28    0.102443 -0.477302 -0.940588 -0.292176 -0.574272 -0.417506 -0.163223   \n",
      "29   -0.367127  0.059072  0.978152  1.192956  0.074886 -0.417506 -0.163223   \n",
      "...        ...       ...       ...       ...       ...       ...       ...   \n",
      "7204 -0.836696 -0.154415  0.498467 -0.846677  1.373201 -0.417506 -0.163223   \n",
      "7205 -0.836696  0.069694 -1.060509  0.018034 -0.574272 -0.417506 -0.163223   \n",
      "7206  0.290271 -0.476948  1.697680 -0.067274  0.074886 -0.417506 -0.163223   \n",
      "7207 -0.179299 -0.010674  0.498467  1.096015 -0.574272  1.286992  0.932608   \n",
      "7208  1.041583 -0.357636  0.378546 -0.679939  0.074886 -0.417506 -0.163223   \n",
      "7209 -0.085385 -0.406848  0.258625 -0.179725  0.724043  3.220750  2.028438   \n",
      "7210  0.665927 -0.653969 -1.060509 -0.707082  0.724043 -0.417506 -0.163223   \n",
      "7211  0.008529  0.430109  0.498467 -0.400750 -0.574272  1.476381  0.932608   \n",
      "7212  0.196357  1.238034  0.378546  0.673353 -0.574272 -0.417506 -0.163223   \n",
      "7213 -0.554954  0.890718 -0.221060 -0.524834 -0.574272  1.336831  0.110734   \n",
      "7214 -1.024524 -0.251069 -0.221060  0.378654  1.048622 -0.417506 -0.163223   \n",
      "7215 -0.179299 -0.397643 -1.300352 -0.598509 -0.574272 -0.417506 -0.163223   \n",
      "7216 -0.648868 -0.599447 -1.540194 -0.563610  0.399464 -0.417506 -0.163223   \n",
      "7217  1.792895 -0.294970  0.018782  0.010279 -0.574272  0.828472  2.302396   \n",
      "7218 -0.179299  0.213789  0.858231 -0.202991 -0.249693 -0.417506 -0.163223   \n",
      "7219  1.323325  2.010200 -1.300352 -0.470547  0.074886 -0.417506 -0.163223   \n",
      "7220 -1.306266 -0.412866 -0.940588 -0.113805 -0.249693 -0.417506 -0.163223   \n",
      "7221 -0.085385 -0.081837 -0.460903  0.347633  0.724043  2.443260  0.384692   \n",
      "7222  0.478099  0.163161  0.618389 -0.152582 -0.574272 -0.417506 -0.163223   \n",
      "7223  0.853755 -0.191944 -1.300352 -0.435648 -0.574272 -0.417506 -0.163223   \n",
      "7224 -1.775836  0.204584  0.018782 -0.683817 -0.574272  1.546155  0.110734   \n",
      "7225  0.759841 -1.172642 -0.700745  0.219671 -0.249693 -0.417506 -0.163223   \n",
      "7226  0.572013 -0.496066  0.018782 -0.342585 -0.249693 -0.417506 -0.163223   \n",
      "7227 -1.024524 -0.131757  1.217995  1.328673 -0.574272 -0.417506 -0.163223   \n",
      "7228 -0.085385  0.135191 -0.460903 -0.679939 -0.574272 -0.417506 -0.163223   \n",
      "7229  0.853755  0.456308  0.018782  0.343755 -0.249693 -0.417506 -0.163223   \n",
      "7230 -0.461041 -0.192652 -0.580824 -0.455037  0.399464 -0.417506 -0.163223   \n",
      "7231 -1.024524  0.636161  0.378546 -0.187480 -0.249693 -0.417506 -0.163223   \n",
      "7232 -1.306266 -0.449333 -0.820667  2.189506 -0.574272 -0.417506 -0.163223   \n",
      "7233 -1.024524 -0.387375 -1.300352 -0.005232 -0.574272 -0.417506 -0.163223   \n",
      "\n",
      "      job_admin.  job_blue-collar  job_entrepreneur  ...    month_mar  \\\n",
      "0              0                0                 0  ...            0   \n",
      "1              0                0                 0  ...            0   \n",
      "2              1                0                 0  ...            0   \n",
      "3              1                0                 0  ...            0   \n",
      "4              0                0                 0  ...            0   \n",
      "5              0                0                 0  ...            0   \n",
      "6              0                0                 0  ...            0   \n",
      "7              0                1                 0  ...            0   \n",
      "8              0                0                 0  ...            0   \n",
      "9              1                0                 0  ...            0   \n",
      "10             0                0                 0  ...            0   \n",
      "11             0                1                 0  ...            0   \n",
      "12             0                1                 0  ...            0   \n",
      "13             0                1                 0  ...            0   \n",
      "14             0                0                 0  ...            0   \n",
      "15             0                1                 0  ...            0   \n",
      "16             0                0                 0  ...            0   \n",
      "17             0                1                 0  ...            0   \n",
      "18             0                0                 0  ...            0   \n",
      "19             0                1                 0  ...            0   \n",
      "20             0                0                 0  ...            0   \n",
      "21             0                0                 0  ...            1   \n",
      "22             0                0                 0  ...            0   \n",
      "23             0                1                 0  ...            0   \n",
      "24             0                1                 0  ...            0   \n",
      "25             1                0                 0  ...            0   \n",
      "26             0                1                 0  ...            0   \n",
      "27             0                0                 0  ...            0   \n",
      "28             0                0                 0  ...            0   \n",
      "29             0                0                 1  ...            0   \n",
      "...          ...              ...               ...  ...          ...   \n",
      "7204           0                0                 0  ...            0   \n",
      "7205           0                0                 0  ...            0   \n",
      "7206           0                0                 0  ...            0   \n",
      "7207           0                1                 0  ...            0   \n",
      "7208           0                0                 0  ...            0   \n",
      "7209           0                0                 0  ...            0   \n",
      "7210           0                0                 0  ...            0   \n",
      "7211           0                1                 0  ...            0   \n",
      "7212           0                0                 0  ...            0   \n",
      "7213           1                0                 0  ...            0   \n",
      "7214           0                0                 1  ...            0   \n",
      "7215           0                0                 0  ...            0   \n",
      "7216           0                0                 0  ...            0   \n",
      "7217           0                0                 0  ...            1   \n",
      "7218           0                0                 0  ...            0   \n",
      "7219           0                0                 0  ...            0   \n",
      "7220           1                0                 0  ...            0   \n",
      "7221           0                0                 0  ...            0   \n",
      "7222           0                0                 0  ...            0   \n",
      "7223           0                0                 0  ...            0   \n",
      "7224           0                0                 0  ...            0   \n",
      "7225           0                0                 1  ...            0   \n",
      "7226           0                0                 0  ...            0   \n",
      "7227           0                0                 0  ...            0   \n",
      "7228           0                0                 1  ...            0   \n",
      "7229           0                0                 0  ...            0   \n",
      "7230           0                0                 0  ...            0   \n",
      "7231           0                0                 0  ...            0   \n",
      "7232           0                0                 0  ...            0   \n",
      "7233           0                1                 0  ...            0   \n",
      "\n",
      "      month_may  month_nov  month_oct  month_sep  poutcome_failure  \\\n",
      "0             0          0          0          0                 0   \n",
      "1             0          0          0          0                 0   \n",
      "2             1          0          0          0                 0   \n",
      "3             1          0          0          0                 0   \n",
      "4             1          0          0          0                 0   \n",
      "5             0          0          0          0                 0   \n",
      "6             0          0          0          0                 0   \n",
      "7             0          0          0          0                 0   \n",
      "8             1          0          0          0                 0   \n",
      "9             1          0          0          0                 0   \n",
      "10            0          0          0          0                 0   \n",
      "11            1          0          0          0                 0   \n",
      "12            0          0          0          0                 0   \n",
      "13            0          0          0          0                 0   \n",
      "14            0          1          0          0                 0   \n",
      "15            0          0          0          0                 0   \n",
      "16            0          0          0          0                 1   \n",
      "17            0          0          0          0                 0   \n",
      "18            0          0          0          0                 0   \n",
      "19            1          0          0          0                 0   \n",
      "20            1          0          0          0                 1   \n",
      "21            0          0          0          0                 0   \n",
      "22            0          0          0          0                 0   \n",
      "23            0          0          0          0                 0   \n",
      "24            0          0          0          0                 0   \n",
      "25            1          0          0          0                 0   \n",
      "26            1          0          0          0                 0   \n",
      "27            0          0          0          0                 0   \n",
      "28            1          0          0          0                 0   \n",
      "29            0          0          0          0                 0   \n",
      "...         ...        ...        ...        ...               ...   \n",
      "7204          0          1          0          0                 0   \n",
      "7205          1          0          0          0                 0   \n",
      "7206          1          0          0          0                 0   \n",
      "7207          0          1          0          0                 0   \n",
      "7208          1          0          0          0                 0   \n",
      "7209          1          0          0          0                 1   \n",
      "7210          1          0          0          0                 0   \n",
      "7211          0          1          0          0                 1   \n",
      "7212          0          1          0          0                 0   \n",
      "7213          1          0          0          0                 1   \n",
      "7214          0          0          0          0                 0   \n",
      "7215          1          0          0          0                 0   \n",
      "7216          0          0          0          0                 0   \n",
      "7217          0          0          0          0                 0   \n",
      "7218          1          0          0          0                 0   \n",
      "7219          0          0          0          0                 0   \n",
      "7220          1          0          0          0                 0   \n",
      "7221          1          0          0          0                 1   \n",
      "7222          0          1          0          0                 0   \n",
      "7223          0          0          0          0                 0   \n",
      "7224          0          1          0          0                 1   \n",
      "7225          0          0          0          0                 0   \n",
      "7226          0          0          0          0                 0   \n",
      "7227          1          0          0          0                 0   \n",
      "7228          1          0          0          0                 0   \n",
      "7229          0          0          0          0                 0   \n",
      "7230          1          0          0          0                 0   \n",
      "7231          1          0          0          0                 0   \n",
      "7232          1          0          0          0                 0   \n",
      "7233          1          0          0          0                 0   \n",
      "\n",
      "      poutcome_other  poutcome_success  poutcome_unknown  y_yes  \n",
      "0                  0                 0                 1      1  \n",
      "1                  0                 0                 1      0  \n",
      "2                  0                 1                 0      1  \n",
      "3                  0                 0                 1      0  \n",
      "4                  0                 0                 1      0  \n",
      "5                  0                 0                 1      0  \n",
      "6                  0                 1                 0      1  \n",
      "7                  0                 0                 1      0  \n",
      "8                  0                 0                 1      0  \n",
      "9                  0                 0                 1      0  \n",
      "10                 0                 0                 1      0  \n",
      "11                 0                 0                 1      0  \n",
      "12                 0                 0                 1      0  \n",
      "13                 0                 0                 1      0  \n",
      "14                 0                 0                 1      1  \n",
      "15                 0                 0                 1      1  \n",
      "16                 0                 0                 0      0  \n",
      "17                 1                 0                 0      0  \n",
      "18                 0                 0                 1      0  \n",
      "19                 0                 0                 1      0  \n",
      "20                 0                 0                 0      0  \n",
      "21                 0                 0                 1      0  \n",
      "22                 0                 0                 1      0  \n",
      "23                 0                 0                 1      0  \n",
      "24                 0                 0                 1      0  \n",
      "25                 0                 0                 1      0  \n",
      "26                 0                 0                 1      0  \n",
      "27                 0                 0                 1      0  \n",
      "28                 0                 0                 1      0  \n",
      "29                 0                 0                 1      0  \n",
      "...              ...               ...               ...    ...  \n",
      "7204               0                 0                 1      0  \n",
      "7205               0                 0                 1      0  \n",
      "7206               0                 0                 1      0  \n",
      "7207               1                 0                 0      1  \n",
      "7208               0                 0                 1      0  \n",
      "7209               0                 0                 0      0  \n",
      "7210               0                 0                 1      0  \n",
      "7211               0                 0                 0      0  \n",
      "7212               0                 0                 1      0  \n",
      "7213               0                 0                 0      0  \n",
      "7214               0                 0                 1      0  \n",
      "7215               0                 0                 1      0  \n",
      "7216               0                 0                 1      0  \n",
      "7217               1                 0                 0      1  \n",
      "7218               0                 0                 1      0  \n",
      "7219               0                 0                 1      0  \n",
      "7220               0                 0                 1      0  \n",
      "7221               0                 0                 0      0  \n",
      "7222               0                 0                 1      0  \n",
      "7223               0                 0                 1      0  \n",
      "7224               0                 0                 0      0  \n",
      "7225               0                 0                 1      0  \n",
      "7226               0                 0                 1      0  \n",
      "7227               0                 0                 1      0  \n",
      "7228               0                 0                 1      0  \n",
      "7229               0                 0                 1      0  \n",
      "7230               0                 0                 1      0  \n",
      "7231               0                 0                 1      1  \n",
      "7232               0                 0                 1      0  \n",
      "7233               0                 0                 1      1  \n",
      "\n",
      "[7234 rows x 52 columns]\n"
     ]
    }
   ],
   "source": [
    "# PROBLEM 1, TASK 1 CODE GOES HERE\n",
    "data = pd.read_csv(\"train_1.csv\")\n",
    "data = data_cleaning(data)\n",
    "X = data.iloc[:,:-1]\n",
    "y = data.iloc[:,-1]\n"
   ]
  },
  {
   "cell_type": "markdown",
   "metadata": {
    "colab_type": "text",
    "id": "5EaChdKLJjio"
   },
   "source": [
    "### Task 2 (Model $\\mathcal{A}$) (10 points)\n",
    "\n",
    "Train a logistic regression model with $L_2$ regularization on `train_1.csv` after applying the necessary preprocessing steps of Task 1. Use the validation set `valid_1.csv` to choose the best regularization coefficient $\\lambda$. Plot a curve with regularization coefficient in the X axis and the validation accuracy on the Y axis."
   ]
  },
  {
   "cell_type": "code",
   "execution_count": 10,
   "metadata": {
    "colab": {},
    "colab_type": "code",
    "id": "aQGJ10L-KhZh",
    "scrolled": true
   },
   "outputs": [
    {
     "name": "stdout",
     "output_type": "stream",
     "text": [
      "[0.6060248080330773]\n"
     ]
    }
   ],
   "source": [
    "validation_dataset = pd.read_csv(\"valid_1.csv\")\n",
    "validation_dataset = data_cleaning(validation_dataset)\n",
    "\n",
    "X_validation = validation_dataset.iloc[:,:-1]\n",
    "y_validation = validation_dataset.iloc[:,-1]\n",
    "\n",
    "from sklearn.linear_model import LogisticRegression\n",
    "lamda = []\n",
    "output = []\n",
    "c = 1\n",
    "\n",
    "    \n",
    "log_reg = LogisticRegression(C=c)\n",
    "log_reg.fit(X,y)\n",
    "score = log_reg.score(X_validation,y_validation)\n",
    "output.append(score)\n",
    "print(output)    \n",
    " \n"
   ]
  },
  {
   "cell_type": "code",
   "execution_count": 54,
   "metadata": {},
   "outputs": [],
   "source": [
    "\n",
    "\n"
   ]
  },
  {
   "cell_type": "code",
   "execution_count": 46,
   "metadata": {},
   "outputs": [
    {
     "name": "stdout",
     "output_type": "stream",
     "text": [
      "Accuracy on the training subset: 0.902\n",
      "Accuracy on the validation subset: 0.606\n"
     ]
    }
   ],
   "source": [
    "print(\"Accuracy on the training subset: {:.3f}\".format(log_reg.score(X,y)))\n",
    "print(\"Accuracy on the validation subset: {:.3f}\".format()))"
   ]
  },
  {
   "cell_type": "markdown",
   "metadata": {
    "colab_type": "text",
    "id": "c0UEYv92KnvQ"
   },
   "source": [
    "### Task 3 (Model $\\mathcal{B}$) (5 points)\n",
    "Train a logistic regression model with $L_2$ regularization on `train_2.csv` after applying the necessary preprocessing steps of Task 1. Use the validation set `valid_2.csv` to choose the best regularization coefficient $\\lambda$. Plot a curve with regularization coefficient in the X axis and the validation accuracy on the Y axis."
   ]
  },
  {
   "cell_type": "code",
   "execution_count": 0,
   "metadata": {
    "colab": {},
    "colab_type": "code",
    "id": "izeiBcCTLcM4"
   },
   "outputs": [],
   "source": [
    "# PROBLEM 1, TASK 3 CODE GOES HERE"
   ]
  },
  {
   "cell_type": "markdown",
   "metadata": {
    "colab_type": "text",
    "id": "8KzsVhHPLd3P"
   },
   "source": [
    "### Task 4 (Model $\\mathcal{C}$) (10 points)\n",
    "\n",
    "As you have seen in class, due to the specific (and smart) choice of the loss function, a logistic regression classifier happens to predict the posterioir probability $p(y|\\mathbf{x})$ for any given sample. It then classifies the samples with $p(y|\\mathbf{x}) > 0.5$ as belonging to class $1$ and the rest as belonging to class $0$. Instead, for a fixed threshold of $0.5$, let us consider a dynamic threshold of $\\theta$ which can be chosen after a model has been trained.\n",
    "\n",
    "$$\n",
    "\\ y=\n",
    "\\begin{cases}\n",
    "1 \\text{ if } p(y|\\mathbf{x}) \\geq \\theta \\\\\n",
    "\\\\\n",
    "0 \\text{ if } p(y|\\mathbf{x}) < \\theta \\\\\n",
    "\\end{cases}\n",
    "$$\n",
    "\n",
    "for $0 \\leq \\theta \\leq 1$.\n",
    "\n",
    "Train a logistic regression model with $L_2$ regularization on `train_2.csv` after applying the necessary preprocessing steps of Task 1. Use the validation set `valid_2.csv` to choose the best combination of regularization coefficient $\\lambda$ and the threshold $\\theta$. The best coefficients has to be selected by you after trying out at least five, non-consecutive values. Visualize all these runs.\n",
    "\n",
    "**Hint**: Look at the documentation of Logistic Regression in sci-kit learn to come up with a plan to implement this."
   ]
  },
  {
   "cell_type": "code",
   "execution_count": 0,
   "metadata": {
    "colab": {},
    "colab_type": "code",
    "id": "zJRVTjjrSTRm"
   },
   "outputs": [],
   "source": [
    "# PROBLEM 1, TASK 4 CODE GOES HERE"
   ]
  },
  {
   "cell_type": "markdown",
   "metadata": {
    "colab_type": "text",
    "id": "cTa2tMCPQmCV"
   },
   "source": [
    "### Task 5 (Report and Conclusion) (10 points)\n",
    "\n",
    "1.  Give a detailed report on the performance (that is, accuracy) of Models $\\mathcal{A}$, $\\mathcal{B}$ and $\\mathcal{C}$ on the respective training sets, the validation sets and finally the test. Explain any intuition you might have on what might be happening in each of the cases. Please avoid writing unnecessary details which are not pertinent.\n",
    "2.  Do you think accuracy, the metric which you have used to find the best hyperparameter in all the above tasks, a good metric in this scenario? Explain your choice.\n",
    "\n"
   ]
  },
  {
   "cell_type": "markdown",
   "metadata": {
    "colab_type": "text",
    "id": "3b62zDpk-O8v"
   },
   "source": [
    "## Problem 2 (50 points)\n",
    "\n",
    "Consider a regression problem in which the input variable $x$ has only one feature and the target variable $y$ is generated from the input variable $x$ by a polynomial $f(x)$. The function $f$ is such that $$f(x) = \\sum_{i=0}^d w_ix^i$$ Please note that a given polynomial function can be completely described by the vector of coefficients $\\mathbf{w}$.\n",
    "\n",
    "### Task 1 (5 points)\n",
    "\n",
    "Write a function in python which can take the degree of polynomial function as input. The code to generate vector coefficeints $\\mathbf{w}$ using this input is already provided. Plot the resulting function for $x \\in (-low, high)$. The function should be plot "
   ]
  },
  {
   "cell_type": "code",
   "execution_count": 0,
   "metadata": {
    "colab": {},
    "colab_type": "code",
    "id": "ivzCo28P_SFW"
   },
   "outputs": [],
   "source": [
    "import numpy as np\n",
    "from scipy.special import legendre\n",
    "\n",
    "def get_coefficients(degree):\n",
    "    \"\"\"\n",
    "    The coefficients returned are in the order w_0, w_1, ... , w_{degree}\n",
    "    \"\"\"\n",
    "    return legendre(degree).coefficients[::-1]\n",
    "\n",
    "def visualize_function(degree, low, high):\n",
    "    w = get_coefficients(degree)\n",
    "    pass\n",
    "\n",
    "## TEST CASES (The following lines should plot a function)\n",
    "# visualize_funtion(3, -1, 1)\n",
    "# visualize_funtion(4, -1, 1)\n",
    "# visualize_funtion(6, -1, 1)"
   ]
  },
  {
   "cell_type": "markdown",
   "metadata": {
    "colab_type": "text",
    "id": "z8Mm1YGNBH5u"
   },
   "source": [
    "### Task 2 (5 points)\n",
    "\n",
    "Write a function in python that randomly generates a dataset (training data + test data). The function should take the degree of target polynomial as input along with the number of points that should be generated for both the training and the test sets. The polynomial will be represented by the vector of coefficients. The code to calculate these coefficients has been provided. The function should also add random normal noise to the target -- i.e. the noise should be drawn from a normal distribution with mean $\\mu=0$ and standard deviation = $\\sigma^2$. Thus: \n",
    "$$y=\\sum_{i=0}^d w_ix^i + \\mathcal{N}(0, \\sigma^2)$$\n",
    "\n"
   ]
  },
  {
   "cell_type": "code",
   "execution_count": 0,
   "metadata": {
    "colab": {},
    "colab_type": "code",
    "id": "ZZ1zxLPvCyDt"
   },
   "outputs": [],
   "source": [
    "def generate_dataset(degree, n_train, n_test, sigma):\n",
    "    \"\"\"\n",
    "    - n_train - Number of training samples\n",
    "    - n_test - Number of test samples\n",
    "    - X_train is an array of size (n_train $\\times$ 1)\n",
    "    - y_train is an array of size (n_train $\\times$ 1)\n",
    "    - X_test is an array of size (n_test $\\times$ 1)\n",
    "    - y_test is an array of size (n_test $\\times$ 1)\n",
    "    \"\"\"\n",
    "    w = get_coefficients(degree)\n",
    "    return X_train, y_train, X_test, y_test"
   ]
  },
  {
   "cell_type": "markdown",
   "metadata": {
    "colab_type": "text",
    "id": "et9gTUzy_Sn9"
   },
   "source": [
    "### Task 3 (20 points)\n",
    "\n",
    "1.   Use the function written in Task 2 to generate a dataset of degree $10$, with $20$ samples each in the training and test sets. The standard deviation of the noise should be $0.2$.\n",
    "2.   Plot the generated points of the train set over the function. Make use the function you wrote in Task 1 to do so. The resultant plot should not only contain the function in blue color but also the generated points in the train set in red color.\n",
    "3.   Fit two linear regressions models: $\\mathcal{A}$ and $\\mathcal{B}$ on the given training data. Model $\\mathcal{A}$ should be quadratic and Model $\\mathcal{B}$ should be of degree $10$. How would you create such models?\n",
    "4. Calculate the training error and testing error on both these models and report them nicely in a table.\n",
    "5. Explain the results:\n",
    " - Are the results as expected or surprising? Explain your stance.\n",
    " - Give a detailed explanation of why this happens.\n",
    " \n",
    " **Hint**: You are free (in fact encouraged) to design new experiments under the same paradigm to understand what is happening. You can buttress your explanation with any plots which you might generate from such new experiments.\n",
    "\n",
    " \n",
    "Note: _There is no preference over the size of the answer but please note that you shouldn't write anything that is not pertinent. While being terse, your answer should clearly convey the intuition. Also, use logical number code/text cells---i.e. every subquestion in a given task which can be considered a logical unit should be present in one cell. Do not make one cell unnecessarily long by putting multiple answers in it or split a given answer over multiple cells. Use your best judgement."
   ]
  },
  {
   "cell_type": "markdown",
   "metadata": {
    "colab_type": "text",
    "id": "APUqEUWUGmXo"
   },
   "source": [
    "### Task 4 (20 points)\n",
    "\n",
    "1.  Use the function written in Task 2 to generate a dataset of degree 45, with 20 samples each in the training and test sets. There should be no noise in the samples.\n",
    "2.  Repeat steps 2 to 4 from Task 3 for this dataset.\n",
    "3.  This target doesn't have noise like the previous one. Does this make the result surprising? Explain your stance. Also give a detailed explanation of why this happens.\n",
    "\n",
    "**Hint**: You are free (in fact encouraged) to design new experiements under the same paradigm to understand what is happening. You can buttress your explanation with any plots which you might generate from such new experiments."
   ]
  }
 ],
 "metadata": {
  "colab": {
   "collapsed_sections": [],
   "name": "Assignment2.ipynb",
   "provenance": [],
   "version": "0.3.2"
  },
  "kernelspec": {
   "display_name": "Python 3",
   "language": "python",
   "name": "python3"
  },
  "language_info": {
   "codemirror_mode": {
    "name": "ipython",
    "version": 3
   },
   "file_extension": ".py",
   "mimetype": "text/x-python",
   "name": "python",
   "nbconvert_exporter": "python",
   "pygments_lexer": "ipython3",
   "version": "3.6.5"
  }
 },
 "nbformat": 4,
 "nbformat_minor": 1
}
