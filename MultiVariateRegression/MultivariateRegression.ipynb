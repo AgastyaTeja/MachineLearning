{
 "cells": [
  {
   "cell_type": "markdown",
   "metadata": {
    "colab_type": "text",
    "id": "R--G1S4LFVR9"
   },
   "source": [
    "<center>\n",
    "#CSCI-P556: Applied Machine Learning\n",
    "#Fall 2018\n",
    "#Assignment #2\n",
    "</center>\n",
    "---\n",
    "\n"
   ]
  },
  {
   "cell_type": "code",
   "execution_count": 2,
   "metadata": {},
   "outputs": [],
   "source": [
    "import numpy as np\n",
    "import pandas as pd\n",
    "import matplotlib.pyplot as plt\n",
    "from sklearn.linear_model import LogisticRegression"
   ]
  },
  {
   "cell_type": "markdown",
   "metadata": {
    "colab_type": "text",
    "id": "Ooye3d-VGooZ"
   },
   "source": [
    "## Problem 1 (50 points)\n",
    "\n",
    "In this problem you will be working with Bank Marketing Dataset. We encourage your to look at the description and make yourself comfortable with it: https://archive.ics.uci.edu/ml/datasets/bank+marketing\n",
    "\n",
    "Two pairs of training and validation sets have been drawn from this dataset for you to work with, namely: \n",
    " -  `train_1.csv` and `valid_1.csv`\n",
    " -  `train_2.csv`and `valid_2.csv`\n",
    " \n",
    "Finally, we have also provided a `test.csv` which is common for both settings.\n",
    "\n",
    "### Task 0: (3 points)\n",
    "\n",
    "What is the difference between the two sets of train/validation sets? Write your answer here:\n",
    "\n",
    "### Ans: <!-- Your answers goes here -->\n",
    "\n",
    " 1) In both the datasets, the validation set is 20 percent of the total sample set.\n",
    " \n",
    " 2) This Observation shows that the number of yes's in the output \"y\"\n",
    "    \n",
    "    Train1.csv yes:Total is 3385/6769 0.500\n",
    "    Valid1.csv yes:total is 846/1693 is 0.499\n",
    "    \n",
    "    \n",
    "    Train2.csv yes:Total is 3385/28934 0.116\n",
    "    Valid2.csv yes:Total is 846/7234 is 0.116\n",
    "    \n",
    "    Test.csv yes: total is 1058/9043 is 0.116\n",
    "    This data shows that Train1 and valid1 datasets are balanced with respect to \"Y\" as its value is 0.5 but Train2.csv and Test.csv are imbalanced for output \"y\"."
   ]
  },
  {
   "cell_type": "markdown",
   "metadata": {
    "colab_type": "text",
    "id": "MFKZT4mhJlSK"
   },
   "source": [
    "### Task 1 (Data Preprocessing) (12 points)\n",
    "\n",
    "Before you can train a machine learning model using this dataset, you will have to run a number of preprocessing steps to transform the data into a form which will be acceptable to the model. In this task, you are supposed to carry out the follow steps:\n",
    "\n",
    "1.  Find all features that have continuous numeric values and normalize them in the same way as you did in Assignment 1. List those features here.\n",
    "2. Find all categorical features and process them as was discussed in class. List those features and explain what you did.\n",
    "3. Are there any features which have missing values? (Hint: Missing values aren't always nicely represented and can be misleading sometimes). Find those features and explain how you will handle them.\n",
    "\n"
   ]
  },
  {
   "cell_type": "markdown",
   "metadata": {
    "colab_type": "text",
    "id": "uLoZ67_hPo9I"
   },
   "source": [
    "Write your text-based answers here.\n",
    "\n",
    "                           \n",
    "1.   Answer for bullet one : <font color = \"green\" > [age,balance,day,duration,campaign,pdays,previous] and these features have been normalized. </font>\n",
    "    \n",
    "2.   Answer for bullet two: <font color = \"green\"> [job,marital,education,default,housing,loan,contact,month,poutcome,y]. All these features have one hot coded by using pandas.get_dummies. </font>\n",
    "\n",
    "3.   Answer for bullet three: \n",
    "\n",
    "<font color = \"green\"> \n",
    "If you observe Pdays feature 5060 records out of 6769 records are filled with \"-1's\" and since it is feature about days it cannot be -1. So as this feature doesn't give any extra information or add value to the dataset so it could be dropped. \n",
    "</font>\n"
   ]
  },
  {
   "cell_type": "code",
   "execution_count": null,
   "metadata": {},
   "outputs": [],
   "source": []
  },
  {
   "cell_type": "code",
   "execution_count": 219,
   "metadata": {},
   "outputs": [],
   "source": [
    "def feature_normalization(X):\n",
    "\n",
    "    df = pd.DataFrame(data = X)\n",
    "    #n = X.shape[1]\n",
    "    \n",
    "    mu = df.mean()\n",
    "    sigma = df.std()\n",
    "    X_norm = (df-mu)/sigma\n",
    "    return X_norm"
   ]
  },
  {
   "cell_type": "code",
   "execution_count": 220,
   "metadata": {},
   "outputs": [
    {
     "data": {
      "text/plain": [
       "'    \\nx = data_cleaning(data)\\nX = x.iloc[:,:-1]\\ny = x.iloc[:,-1]\\nlog_reg = LogisticRegression()\\nlog_reg.fit(X,y)\\nprint(log_reg.score(X,y))'"
      ]
     },
     "execution_count": 220,
     "metadata": {},
     "output_type": "execute_result"
    }
   ],
   "source": [
    "#data = pd.read_csv(\"train_1.csv\")\n",
    "\n",
    "def data_cleaning(data):\n",
    "    \n",
    "    numerical = data.select_dtypes(include = [\"number\"]).copy()\n",
    "    numerical = numerical.drop([\"pdays\"],axis = 1).copy()\n",
    "    #print(numerical)\n",
    "    categorical = data.select_dtypes(include = [\"object\"]).copy()\n",
    "    #print(categorical)\n",
    "    for i in numerical:\n",
    "        numerical[i] = feature_normalization(numerical[i]).copy()\n",
    "\n",
    "    categorical = pd.get_dummies(categorical).copy()\n",
    "    categorical = categorical.drop([\"y_no\",\"default_no\",\"housing_no\",\"loan_no\"],axis = 1)\n",
    "    output = pd.concat([numerical,categorical],axis = 1)\n",
    "    \n",
    "    return(output)\n",
    "\"\"\"    \n",
    "x = data_cleaning(data)\n",
    "X = x.iloc[:,:-1]\n",
    "y = x.iloc[:,-1]\n",
    "log_reg = LogisticRegression()\n",
    "log_reg.fit(X,y)\n",
    "print(log_reg.score(X,y))\"\"\"\n",
    "\n"
   ]
  },
  {
   "cell_type": "markdown",
   "metadata": {
    "colab_type": "text",
    "id": "5EaChdKLJjio"
   },
   "source": [
    "### Task 2 (Model $\\mathcal{A}$) (10 points)\n",
    "\n",
    "Train a logistic regression model with $L_2$ regularization on `train_1.csv` after applying the necessary preprocessing steps of Task 1. Use the validation set `valid_1.csv` to choose the best regularization coefficient $\\lambda$. Plot a curve with regularization coefficient in the X axis and the validation accuracy on the Y axis."
   ]
  },
  {
   "cell_type": "code",
   "execution_count": 221,
   "metadata": {
    "colab": {},
    "colab_type": "code",
    "id": "aQGJ10L-KhZh",
    "scrolled": true
   },
   "outputs": [
    {
     "name": "stdout",
     "output_type": "stream",
     "text": [
      "#------------------------------------------------#\n",
      "Best Lamda for Validation dataset 9.09090909090909 ,Best Accuracy 0.8180744240992321\n",
      "#-----------------------------------------------#\n",
      "Lamda for Training dataset 9.09090909090909 Best Accuracy for training_dataset 0.8317328999852268\n",
      "#-----------------------------------------------#\n",
      "Lamda for Test dataset 9.09090909090909 Best Accuracy for test_dataset 0.7574919827490877\n"
     ]
    },
    {
     "data": {
      "text/plain": [
       "[<matplotlib.lines.Line2D at 0x7fac200d3f60>]"
      ]
     },
     "execution_count": 221,
     "metadata": {},
     "output_type": "execute_result"
    },
    {
     "data": {
      "image/png": "[encoded data removed]",
      "text/plain": [
       "<Figure size 432x288 with 1 Axes>"
      ]
     },
     "metadata": {},
     "output_type": "display_data"
    }
   ],
   "source": [
    "# PROBLEM 1, TASK 2 CODE GOES HERE\n",
    "from sklearn.linear_model import LogisticRegression\n",
    "#------------------Loading and Cleaning Train1.csv-------------------#\n",
    "data = pd.read_csv(\"train_1.csv\")\n",
    "x = data_cleaning(data)\n",
    "X = x.iloc[:,:-1]\n",
    "y = x.iloc[:,-1]\n",
    "#--------------------------------------------------------------------#\n",
    "#------------------Loading and Cleaning Valid_1.csv------------------#\n",
    "validation_dataset = pd.read_csv(\"valid_1.csv\")\n",
    "validation_dataset = data_cleaning(validation_dataset)\n",
    "\n",
    "\n",
    "X_validation = validation_dataset.iloc[:,:-1]\n",
    "y_validation = validation_dataset.iloc[:,-1]\n",
    "#---------------------------------------------------------------------#\n",
    "#-----------------Loading and Cleaning Test.csv-----------------------#\n",
    "test_dataset = pd.read_csv(\"test.csv\")\n",
    "test_dataset = data_cleaning(test_dataset)\n",
    "X_test = test_dataset.iloc[:,:-1]\n",
    "y_test = test_dataset.iloc[:,-1]\n",
    "\n",
    "    \n",
    "lamda = []\n",
    "accuracy = []\n",
    "c = 0.01    \n",
    "for i in range(12):\n",
    "    lamda.append(1/c)\n",
    "    log_reg = LogisticRegression(C = c)\n",
    "    log_reg.fit(X,y)\n",
    "    accuracy.append(log_reg.score(X_validation,y_validation))\n",
    "    c += 0.05\n",
    "\n",
    "for i in range(len(accuracy)):\n",
    "    if accuracy[i] == max(accuracy):\n",
    "        print(\"#------------------------------------------------#\")\n",
    "        print(\"Best Lamda for Validation dataset\",lamda[i],\",Best Accuracy\",max(accuracy))\n",
    "        print(\"#-----------------------------------------------#\")\n",
    "        c = 1/lamda[i]\n",
    "        log_reg = LogisticRegression(C = c)\n",
    "        log_reg.fit(X,y)\n",
    "        s = log_reg.score(X_test,y_test)\n",
    "        t = log_reg.score(X,y)\n",
    "        print(\"Lamda for Training dataset\",lamda[i],\"Best Accuracy for training_dataset\", t)\n",
    "        print(\"#-----------------------------------------------#\")\n",
    "        print(\"Lamda for Test dataset\",lamda[i],\"Best Accuracy for test_dataset\", s)\n",
    "        \n",
    "\n",
    "plt.plot(lamda,accuracy)"
   ]
  },
  {
   "cell_type": "code",
   "execution_count": null,
   "metadata": {},
   "outputs": [],
   "source": []
  },
  {
   "cell_type": "markdown",
   "metadata": {
    "colab_type": "text",
    "id": "c0UEYv92KnvQ"
   },
   "source": [
    "### Task 3 (Model $\\mathcal{B}$) (5 points)\n",
    "Train a logistic regression model with $L_2$ regularization on `train_2.csv` after applying the necessary preprocessing steps of Task 1. Use the validation set `valid_2.csv` to choose the best regularization coefficient $\\lambda$. Plot a curve with regularization coefficient in the X axis and the validation accuracy on the Y axis."
   ]
  },
  {
   "cell_type": "code",
   "execution_count": 222,
   "metadata": {
    "colab": {},
    "colab_type": "code",
    "id": "izeiBcCTLcM4"
   },
   "outputs": [],
   "source": [
    "# PROBLEM 1, TASK 3 CODE GOES HERE\n",
    "\n",
    "#-----------Loading and Cleaning Train_2.Csv------------------#\n",
    "\n",
    "data = pd.read_csv(\"train_2.csv\")\n",
    "\n",
    "\n",
    "def data_cleaning(data):\n",
    "    \n",
    "    numerical = data.select_dtypes(include = [\"number\"]).copy()\n",
    "    categorical = data.select_dtypes(include = [\"object\"]).copy()\n",
    "     \n",
    "    for i in numerical:\n",
    "        numerical[i] = feature_normalization(numerical[i]).copy()\n",
    "\n",
    "    categorical = pd.get_dummies(categorical).copy()\n",
    "    categorical = categorical.drop([\"y_no\",\"default_no\",\"housing_no\",\"loan_no\"],axis = 1)\n",
    "    output = pd.concat([numerical,categorical],axis = 1)\n",
    "    \n",
    "    return(output)\n",
    "    \n",
    "x_train2 = data_cleaning(data)\n",
    "X_train2= x_train2.iloc[:,:-1]\n",
    "y_train2 = x_train2.iloc[:,-1]"
   ]
  },
  {
   "cell_type": "code",
   "execution_count": 228,
   "metadata": {},
   "outputs": [
    {
     "name": "stdout",
     "output_type": "stream",
     "text": [
      "#------------------------------------------------#\n",
      "Best Lamda 4.761904761904762 ,Best Accuracy 0.9006082388719934\n",
      "#-----------------------------------------------#\n",
      "Lamda for Training dataset 4.761904761904762 Best Accuracy for training_dataset 0.9023985622451096\n",
      "#-----------------------------------------------#\n"
     ]
    },
    {
     "data": {
      "text/plain": [
       "[<matplotlib.lines.Line2D at 0x7fac203a7e80>]"
      ]
     },
     "execution_count": 228,
     "metadata": {},
     "output_type": "execute_result"
    },
    {
     "data": {
      "image/png": "[encoded data removed]",
      "text/plain": [
       "<Figure size 432x288 with 1 Axes>"
      ]
     },
     "metadata": {},
     "output_type": "display_data"
    }
   ],
   "source": [
    "from sklearn.linear_model import LogisticRegression\n",
    "\n",
    "#-----------Loading and Cleaning Valid_2.csv-------------------#\n",
    "validation_dataset = pd.read_csv(\"valid_2.csv\")\n",
    "validation_dataset = data_cleaning(validation_dataset)\n",
    "\n",
    "#---------------------------------------------------------------#\n",
    "lamda = []\n",
    "accuracy = []\n",
    "c = 0.01\n",
    "X_validation = validation_dataset.iloc[:,:-1]\n",
    "y_validation = validation_dataset.iloc[:,-1]\n",
    "\n",
    "for i in range(10):\n",
    "    \n",
    "    lamda.append(1/c)\n",
    "    log_reg = LogisticRegression(C = c)\n",
    "    log_reg.fit(X_train2,y_train2)\n",
    "    accuracy.append(log_reg.score(X_validation,y_validation))\n",
    "    c = c+0.05\n",
    "    \n",
    "for i in range(len(accuracy)):\n",
    "    if accuracy[i] == max(accuracy):\n",
    "        print(\"#------------------------------------------------#\")\n",
    "        print(\"Best Lamda\",lamda[i],\",Best Accuracy\",max(accuracy))\n",
    "        print(\"#-----------------------------------------------#\")   \n",
    "        c = 1/lamda[i]\n",
    "        log_reg = LogisticRegression(C = c)\n",
    "        log_reg.fit(X_train2,y_train2)\n",
    "        #s = log_reg.score(X_test,y_test)\n",
    "        t = log_reg.score(X_train2,y_train2)\n",
    "        \n",
    "        print(\"Lamda for Training dataset\",lamda[i],\"Best Accuracy for training_dataset\", t)\n",
    "        print(\"#-----------------------------------------------#\")\n",
    "        #print(\"Lamda for Test dataset\",lamda[i],\"Best Accuracy for test_dataset\", s)\n",
    "        break\n",
    "\n",
    "plt.plot(lamda,accuracy)"
   ]
  },
  {
   "cell_type": "markdown",
   "metadata": {
    "colab_type": "text",
    "id": "8KzsVhHPLd3P"
   },
   "source": [
    "### Task 4 (Model $\\mathcal{C}$) (10 points)\n",
    "\n",
    "As you have seen in class, due to the specific (and smart) choice of the loss function, a logistic regression classifier happens to predict the posterioir probability $p(y|\\mathbf{x})$ for any given sample. It then classifies the samples with $p(y|\\mathbf{x}) > 0.5$ as belonging to class $1$ and the rest as belonging to class $0$. Instead, for a fixed threshold of $0.5$, let us consider a dynamic threshold of $\\theta$ which can be chosen after a model has been trained.\n",
    "\n",
    "$$\n",
    "\\ y=\n",
    "\\begin{cases}\n",
    "1 \\text{ if } p(y|\\mathbf{x}) \\geq \\theta \\\\\n",
    "\\\\\n",
    "0 \\text{ if } p(y|\\mathbf{x}) < \\theta \\\\\n",
    "\\end{cases}\n",
    "$$\n",
    "\n",
    "for $0 \\leq \\theta \\leq 1$.\n",
    "\n",
    "Train a logistic regression model with $L_2$ regularization on `train_2.csv` after applying the necessary preprocessing steps of Task 1. Use the validation set `valid_2.csv` to choose the best combination of regularization coefficient $\\lambda$ and the threshold $\\theta$. The best coefficients has to be selected by you after trying out at least five, non-consecutive values. Visualize all these runs.\n",
    "\n",
    "**Hint**: Look at the documentation of Logistic Regression in sci-kit learn to come up with a plan to implement this."
   ]
  },
  {
   "cell_type": "code",
   "execution_count": 226,
   "metadata": {
    "colab": {},
    "colab_type": "code",
    "id": "zJRVTjjrSTRm"
   },
   "outputs": [
    {
     "name": "stdout",
     "output_type": "stream",
     "text": [
      "Maximum Score for Validation set.csv 0.9044788498755875 Lamda  0.1220703125 Threshold 0.35000000000000003\n"
     ]
    },
    {
     "data": {
      "image/png": "[encoded data removed]",
      "text/plain": [
       "<Figure size 432x288 with 1 Axes>"
      ]
     },
     "metadata": {},
     "output_type": "display_data"
    },
    {
     "data": {
      "text/plain": [
       "<Figure size 2880x720 with 0 Axes>"
      ]
     },
     "metadata": {},
     "output_type": "display_data"
    }
   ],
   "source": [
    "# PROBLEM 1, TASK 4 CODE GOES HERE\n",
    "from sklearn.linear_model import LogisticRegression\n",
    "from sklearn.metrics import accuracy_score\n",
    "\n",
    "training_dataset = pd.read_csv(\"train_2.csv\")\n",
    "validation_dataset = pd.read_csv(\"valid_2.csv\")\n",
    "\n",
    "# --- loading Training dataset------#\n",
    "training_dataset = data_cleaning(training_dataset)\n",
    "X_train2 = training_dataset.iloc[:,:-1]\n",
    "y_train2 = training_dataset.iloc[:,-1]\n",
    "\n",
    "#----loading Validation dataset-----#\n",
    "validation_dataset = data_cleaning(validation_dataset)\n",
    "X_validation = validation_dataset.iloc[:,:-1]\n",
    "#print(X_validation)\n",
    "y_validation = validation_dataset.iloc[:,-1]\n",
    "#-----------------------------------#\n",
    "c = 0.001\n",
    "maximum = 0\n",
    "max_out = []\n",
    "output = {}\n",
    "for i in range(20):\n",
    "    \n",
    "    log_reg = LogisticRegression(C = c)\n",
    "    log_reg.fit(X_train2,y_train2)\n",
    "    #print(log_reg.score(X_validation,y_validation))\n",
    "    THRESHOLD = [0.05*i for i in range(1,21)]\n",
    "    \n",
    "    accuracy  = []\n",
    "    for i in THRESHOLD: \n",
    "        \n",
    "        y_pred = np.where(log_reg.predict_proba(X_validation)[:,1]>= i, 1, 0)\n",
    "        if accuracy_score(y_validation,y_pred) > maximum:\n",
    "            max_out = []\n",
    "            maximum = accuracy_score(y_validation,y_pred)\n",
    "            max_out.append(1/c)\n",
    "            max_out.append(i)\n",
    "        accuracy.append(accuracy_score(y_validation,y_pred))\n",
    "    #print(THRESHOLD)\n",
    "    #print(\"-----------------\")\n",
    "    #print(accuracy)\n",
    "    output[1/c] = accuracy\n",
    "    plt.plot(THRESHOLD,accuracy,label = (\"lamda:\"+str(1/c)))\n",
    "    plt.legend(loc=\"upper right\")\n",
    "    \n",
    "    c *= 2\n",
    "\n",
    "#print(output)\n",
    "#print(\"maximum\",maximum)\n",
    "#print(\"Max_out\",max_out)\n",
    "plt.figure(figsize=(40,10))\n",
    "#f,ax = plt.subplot(figsize=(30,10))\n",
    "print(\"Maximum Score for Validation set.csv\",maximum,\"Lamda \",max_out[0],\"Threshold\",max_out[1])\n"
   ]
  },
  {
   "cell_type": "code",
   "execution_count": 195,
   "metadata": {},
   "outputs": [],
   "source": [
    "\n"
   ]
  },
  {
   "cell_type": "code",
   "execution_count": null,
   "metadata": {},
   "outputs": [],
   "source": [
    "\n"
   ]
  },
  {
   "cell_type": "markdown",
   "metadata": {
    "colab_type": "text",
    "id": "cTa2tMCPQmCV"
   },
   "source": [
    "### Task 5 (Report and Conclusion) (10 points)\n",
    "\n",
    "1.  Give a detailed report on the performance (that is, accuracy) of Models $\\mathcal{A}$, $\\mathcal{B}$ and $\\mathcal{C}$ on the respective training sets, the validation sets and finally the test. Explain any intuition you might have on what might be happening in each of the cases. Please avoid writing unnecessary details which are not pertinent.\n",
    "\n",
    "Model C > Model B > Model A. \n",
    "\n",
    "As Model C we are controlling both theta(Threshold values) and lamda values which gives us better control over the model because the default threshold value set in the Logistic Regression is 0.5 and 0.5 threshold in some cases may not work. if you see Train_2/Valid_2 the output has slighly less number of \"yes\" so changing threshold along with lamda is a good option. Model B is imbalanced because the output value \"Y\" has high number of yes when compared with Model A\n",
    "\n",
    "2.  Do you think accuracy, the metric which you have used to find the best hyperparameter in all the above tasks, a good metric in this scenario? Explain your choice.\n",
    "\n",
    "The accuracy metric compares the output from Logistic Regression and output from the dataset by matching them and taking a count. This may not be a good indicator of accuracy always. IF the data is assymetric as in the above training set we have to use other parameters such as TP,FP,FN,Confusion Matrix.\n",
    "\n",
    "\n"
   ]
  },
  {
   "cell_type": "markdown",
   "metadata": {
    "colab_type": "text",
    "id": "3b62zDpk-O8v"
   },
   "source": [
    "## Problem 2 (50 points)\n",
    "\n",
    "Consider a regression problem in which the input variable $x$ has only one feature and the target variable $y$ is generated from the input variable $x$ by a polynomial $f(x)$. The function $f$ is such that $$f(x) = \\sum_{i=0}^d w_ix^i$$ Please note that a given polynomial function can be completely described by the vector of coefficients $\\mathbf{w}$.\n",
    "\n",
    "### Task 1 (5 points)\n",
    "\n",
    "Write a function in python which can take the degree of polynomial function as input. The code to generate vector coefficeints $\\mathbf{w}$ using this input is already provided. Plot the resulting function for $x \\in (-low, high)$. The function should be plot "
   ]
  },
  {
   "cell_type": "code",
   "execution_count": 215,
   "metadata": {
    "colab": {},
    "colab_type": "code",
    "id": "ivzCo28P_SFW"
   },
   "outputs": [
    {
     "data": {
      "image/png": "[encoded data removed]",
      "text/plain": [
       "<Figure size 432x288 with 1 Axes>"
      ]
     },
     "metadata": {},
     "output_type": "display_data"
    }
   ],
   "source": [
    "import numpy as np\n",
    "from scipy.special import legendre\n",
    "\n",
    "\n",
    "\n",
    "def get_coefficients(degree):\n",
    "    \"\"\"\n",
    "    The coefficients returned are in the order w_0, w_1, ... , w_{degree}\n",
    "    \"\"\"\n",
    "    return legendre(degree).coefficients[::-1]\n",
    "\n",
    "def visualize_function(degree, low, high):\n",
    "    \n",
    "    \n",
    "    w = get_coefficients(degree)\n",
    "    #print(w)\n",
    "    w_rev = w[::-1]\n",
    "    p = np.poly1d(w_rev)\n",
    "    polynomial = np.poly1d(p)\n",
    "    #print(polynomial)\n",
    "    x_cord = np.arange(low,high,0.01)\n",
    "    y_cord = np.polyval(polynomial,x_cord)\n",
    "    plt.plot(x_cord,y_cord)\n",
    "    \n",
    "    \n",
    "    \n",
    "    pass\n",
    "\n",
    "## TEST CASES (The following lines should plot a function)\n",
    "visualize_function(3, -1, 1)\n",
    "visualize_function(4, -1, 1)\n",
    "visualize_function(6, -1, 1)"
   ]
  },
  {
   "cell_type": "markdown",
   "metadata": {
    "colab_type": "text",
    "id": "z8Mm1YGNBH5u"
   },
   "source": [
    "### Task 2 (5 points)\n",
    "\n",
    "Write a function in python that randomly generates a dataset (training data + test data). The function should take the degree of target polynomial as input along with the number of points that should be generated for both the training and the test sets. The polynomial will be represented by the vector of coefficients. The code to calculate these coefficients has been provided. The function should also add random normal noise to the target -- i.e. the noise should be drawn from a normal distribution with mean $\\mu=0$ and standard deviation = $\\sigma^2$. Thus: \n",
    "$$y=\\sum_{i=0}^d w_ix^i + \\mathcal{N}(0, \\sigma^2)$$\n",
    "\n"
   ]
  },
  {
   "cell_type": "code",
   "execution_count": 216,
   "metadata": {
    "colab": {},
    "colab_type": "code",
    "id": "ZZ1zxLPvCyDt"
   },
   "outputs": [],
   "source": [
    "def generate_dataset(degree, n_train, n_test, sigma):\n",
    "    \"\"\"\n",
    "    - n_train - Number of training samples\n",
    "    - n_test - Number of test samples\n",
    "    - X_train is an array of size (n_train $\\times$ 1)\n",
    "    - y_train is an array of size (n_train $\\times$ 1)\n",
    "    - X_test is an array of size (n_test $\\times$ 1)\n",
    "    - y_test is an array of size (n_test $\\times$ 1)\n",
    "    \"\"\"\n",
    "\n",
    "        \n",
    "    w = get_coefficients(degree)\n",
    "    w_rev = w[::-1]\n",
    "    p = np.poly1d(w_rev)\n",
    "    X_train = np.random.uniform (-1,+1,n_train)\n",
    "    y_train = np.polyval(p,X_train) + np.random.normal(0,sigma,len(X_train))\n",
    "    \n",
    "    X_test = np.random.uniform(-1,+1,n_test)\n",
    "    y_test = np.polyval(p,X_test) + np.random.normal(0,sigma,len(X_test))\n",
    "    \n",
    "    \n",
    "    \n",
    "    \n",
    "\n",
    "    return X_train, y_train, X_test, y_test"
   ]
  },
  {
   "cell_type": "code",
   "execution_count": 102,
   "metadata": {},
   "outputs": [],
   "source": [
    "a,b,c,d = generate_dataset(10,20,20,0.2)\n"
   ]
  },
  {
   "cell_type": "markdown",
   "metadata": {
    "colab_type": "text",
    "id": "et9gTUzy_Sn9"
   },
   "source": [
    "### Task 3 (20 points)\n",
    "\n",
    "1.   Use the function written in Task 2 to generate a dataset of degree $10$, with $20$ samples each in the training and test sets. The standard deviation of the noise should be $0.2$.\n",
    "2.   Plot the generated points of the train set over the function. Make use the function you wrote in Task 1 to do so. The resultant plot should not only contain the function in blue color but also the generated points in the train set in red color.\n",
    "3.   Fit two linear regressions models: $\\mathcal{A}$ and $\\mathcal{B}$ on the given training data. Model $\\mathcal{A}$ should be quadratic and Model $\\mathcal{B}$ should be of degree $10$. How would you create such models?\n",
    "4. Calculate the training error and testing error on both these models and report them nicely in a table.\n",
    "5. Explain the results:\n",
    " - Are the results as expected or surprising? Explain your stance.\n",
    " - Give a detailed explanation of why this happens.\n",
    " \n",
    " **Hint**: You are free (in fact encouraged) to design new experiments under the same paradigm to understand what is happening. You can buttress your explanation with any plots which you might generate from such new experiments.\n",
    "\n",
    " \n",
    "Note: _There is no preference over the size of the answer but please note that you shouldn't write anything that is not pertinent. While being terse, your answer should clearly convey the intuition. Also, use logical number code/text cells---i.e. every subquestion in a given task which can be considered a logical unit should be present in one cell. Do not make one cell unnecessarily long by putting multiple answers in it or split a given answer over multiple cells. Use your best judgement."
   ]
  },
  {
   "cell_type": "code",
   "execution_count": 217,
   "metadata": {},
   "outputs": [
    {
     "data": {
      "text/html": [
       "<div>\n",
       "<style scoped>\n",
       "    .dataframe tbody tr th:only-of-type {\n",
       "        vertical-align: middle;\n",
       "    }\n",
       "\n",
       "    .dataframe tbody tr th {\n",
       "        vertical-align: top;\n",
       "    }\n",
       "\n",
       "    .dataframe thead th {\n",
       "        text-align: right;\n",
       "    }\n",
       "</style>\n",
       "<table border=\"1\" class=\"dataframe\">\n",
       "  <thead>\n",
       "    <tr style=\"text-align: right;\">\n",
       "      <th></th>\n",
       "      <th>Quadratic</th>\n",
       "      <th>Degree10</th>\n",
       "    </tr>\n",
       "  </thead>\n",
       "  <tbody>\n",
       "    <tr>\n",
       "      <th>Training Error</th>\n",
       "      <td>0.083471</td>\n",
       "      <td>0.035311</td>\n",
       "    </tr>\n",
       "    <tr>\n",
       "      <th>Test Error</th>\n",
       "      <td>0.081933</td>\n",
       "      <td>0.028585</td>\n",
       "    </tr>\n",
       "  </tbody>\n",
       "</table>\n",
       "</div>"
      ],
      "text/plain": [
       "                Quadratic  Degree10\n",
       "Training Error   0.083471  0.035311\n",
       "Test Error       0.081933  0.028585"
      ]
     },
     "execution_count": 217,
     "metadata": {},
     "output_type": "execute_result"
    },
    {
     "data": {
      "image/png": "[encoded data removed]",
      "text/plain": [
       "<Figure size 432x288 with 1 Axes>"
      ]
     },
     "metadata": {},
     "output_type": "display_data"
    }
   ],
   "source": [
    "from sklearn.metrics import mean_squared_error, r2_score\n",
    "from sklearn import linear_model\n",
    "\n",
    "X_train, y_train, X_test, y_test = generate_dataset(10,20,20,0.2)\n",
    "visualize_function(10,-1,+1)\n",
    "plt.scatter(X_train,y_train,c = \"r\")\n",
    "X_train_dict = {}\n",
    "X_test_dict = {}\n",
    "for i in range(11):\n",
    "    X_train_dict[i] = X_train ** i\n",
    "    X_test_dict[i] = X_test ** i\n",
    "    \n",
    "X_train_df = pd.DataFrame(data = X_train_dict)\n",
    "X_test_df  = pd.DataFrame(data = X_test_dict)\n",
    "\n",
    "y_train_df = pd.DataFrame(data = y_train)\n",
    "y_test_df = pd.DataFrame(data = y_test)\n",
    "output = {\"Quadratic\":[],\"Degree10\":[]}\n",
    "# Model A Quadratic--------------------------------------------------------------\n",
    "\n",
    "linear_regr = linear_model.LinearRegression(fit_intercept=False)\n",
    "linear_regr.fit(X_train_df.iloc[:,:3],y_train_df)\n",
    "\n",
    "y_pred_train = linear_regr.predict(X_train_df.iloc[:,:3])\n",
    "y_pred_test = linear_regr.predict(X_test_df.iloc[:,:3])\n",
    "\n",
    "#print(output_df)\n",
    "#print(\"Quadratic\")\n",
    "#print(\"Training\",mean_squared_error(y_train_df, y_pred_train))\n",
    "output[\"Quadratic\"].append(mean_squared_error(y_train_df, y_pred_train)) \n",
    "#print(\"Test\",mean_squared_error(y_test_df, y_pred_test))\n",
    "output[\"Quadratic\"].append(mean_squared_error(y_test_df, y_pred_test))\n",
    "\n",
    "# Model B Polynomial---------------------------------------------------------------\n",
    "\n",
    "linear_regr = linear_model.LinearRegression(fit_intercept=False)\n",
    "linear_regr.fit(X_train_df,y_train_df)\n",
    "\n",
    "y_pred_train = linear_regr.predict(X_train_df)\n",
    "y_pred_test = linear_regr.predict(X_test_df)\n",
    "\n",
    "#print(\"Degree 10\")\n",
    "#print(\"Traning\",mean_squared_error(y_train_df,y_pred_train))\n",
    "output[\"Degree10\"].append(mean_squared_error(y_train_df,y_pred_train))\n",
    "#print(\"Test\", mean_squared_error(y_test_df,y_pred_test))\n",
    "output[\"Degree10\"].append(mean_squared_error(y_test_df,y_pred_test))\n",
    "\n",
    "# -----------------------------------------------------------------------\n",
    "output_df = pd.DataFrame(data = output)\n",
    "zero = output_df.index[0]\n",
    "one = output_df.index[-1]\n",
    "output_df = output_df.rename(index={one: 'Test Error'})\n",
    "output_df = output_df.rename(index={zero: 'Training Error'})\n",
    "\n",
    "\n",
    "output_df"
   ]
  },
  {
   "cell_type": "markdown",
   "metadata": {},
   "source": [
    "Results : \n",
    "\n",
    "Observation1 : Training Error for Quadratic is greater than Degree 10 polynomial.\n",
    "\n",
    "Reason : Degree 10 polynomial overfits the dataset when compared to Quadratic for the training dataset and therefore the error the degree10 polynomial is less than the quadratic because of the red dots would have lied on the overfitted model.\n",
    "\n",
    "Observation2: Test Error for Quadratic is less than Degree 10 polynomial.\n",
    "\n",
    "Reason : As discussed in the before point.. Degree10 polynomial Overfits and therefore having high bias so it does not perform well when it is fed with new test data. Where as Quadratic performs better because it is not highly biased."
   ]
  },
  {
   "cell_type": "markdown",
   "metadata": {
    "colab_type": "text",
    "id": "APUqEUWUGmXo"
   },
   "source": [
    "### Task 4 (20 points)\n",
    "\n",
    "1.  Use the function written in Task 2 to generate a dataset of degree 45, with 20 samples each in the training and test sets. There should be no noise in the samples.\n",
    "2.  Repeat steps 2 to 4 from Task 3 for this dataset.\n",
    "3.  This target doesn't have noise like the previous one. Does this make the result surprising? Explain your stance. Also give a detailed explanation of why this happens.\n",
    "\n",
    "**Hint**: You are free (in fact encouraged) to design new experiements under the same paradigm to understand what is happening. You can buttress your explanation with any plots which you might generate from such new experiments."
   ]
  },
  {
   "cell_type": "code",
   "execution_count": 218,
   "metadata": {},
   "outputs": [
    {
     "data": {
      "text/html": [
       "<div>\n",
       "<style scoped>\n",
       "    .dataframe tbody tr th:only-of-type {\n",
       "        vertical-align: middle;\n",
       "    }\n",
       "\n",
       "    .dataframe tbody tr th {\n",
       "        vertical-align: top;\n",
       "    }\n",
       "\n",
       "    .dataframe thead th {\n",
       "        text-align: right;\n",
       "    }\n",
       "</style>\n",
       "<table border=\"1\" class=\"dataframe\">\n",
       "  <thead>\n",
       "    <tr style=\"text-align: right;\">\n",
       "      <th></th>\n",
       "      <th>Quadratic</th>\n",
       "      <th>Degree_10</th>\n",
       "    </tr>\n",
       "  </thead>\n",
       "  <tbody>\n",
       "    <tr>\n",
       "      <th>Training Error</th>\n",
       "      <td>2.842278e+08</td>\n",
       "      <td>2.362953e+08</td>\n",
       "    </tr>\n",
       "    <tr>\n",
       "      <th>Test Error</th>\n",
       "      <td>1.978319e+09</td>\n",
       "      <td>2.411618e+09</td>\n",
       "    </tr>\n",
       "  </tbody>\n",
       "</table>\n",
       "</div>"
      ],
      "text/plain": [
       "                   Quadratic     Degree_10\n",
       "Training Error  2.842278e+08  2.362953e+08\n",
       "Test Error      1.978319e+09  2.411618e+09"
      ]
     },
     "execution_count": 218,
     "metadata": {},
     "output_type": "execute_result"
    },
    {
     "data": {
      "image/png": "[encoded data removed]",
      "text/plain": [
       "<Figure size 432x288 with 1 Axes>"
      ]
     },
     "metadata": {},
     "output_type": "display_data"
    }
   ],
   "source": [
    "from sklearn.metrics import mean_squared_error, r2_score\n",
    "from sklearn import linear_model\n",
    "\n",
    "X_train, y_train, X_test, y_test = generate_dataset(45,20,20,0)\n",
    "visualize_function(45,-1,+1)\n",
    "plt.scatter(X_train,y_train,c = \"r\")\n",
    "output = {\"Quadratic\":[],\"Degree_10\":[]}\n",
    "#--------Converting the data in DataFrame--------------#\n",
    "X_train_df = pd.DataFrame(data = X_train_dict)\n",
    "X_test_df  = pd.DataFrame(data = X_test_dict)\n",
    "\n",
    "y_train_df = pd.DataFrame(data = y_train)\n",
    "y_test_df = pd.DataFrame(data = y_test)\n",
    "\n",
    "\n",
    "#-------------------------------------------------------#\n",
    "#-----------------Quadratic-----------------------------#\n",
    "\n",
    "linear_regr = linear_model.LinearRegression(fit_intercept=False)\n",
    "linear_regr.fit(X_train_df.iloc[:,:3],y_train_df)\n",
    "\n",
    "y_pred_train = linear_regr.predict(X_train_df.iloc[:,:3])\n",
    "y_pred_test = linear_regr.predict(X_test_df.iloc[:,:3])\n",
    "\n",
    "\n",
    "\n",
    "#print(\"Quadratic\")\n",
    "#print(\"Training\",mean_squared_error(y_train_df, y_pred_train))\n",
    "output[\"Quadratic\"].append(mean_squared_error(y_train_df, y_pred_train))\n",
    "#print(\"Test\",mean_squared_error(y_test_df, y_pred_test))\n",
    "output[\"Quadratic\"].append(mean_squared_error(y_test_df, y_pred_test))\n",
    "\n",
    "\n",
    "#-----------------Degree 10-----------------------------#\n",
    "\n",
    "linear_regr = linear_model.LinearRegression(fit_intercept=False)\n",
    "linear_regr.fit(X_train_df.iloc[:,:11],y_train_df)\n",
    "\n",
    "y_pred_train = linear_regr.predict(X_train_df.iloc[:,:11])\n",
    "y_pred_test = linear_regr.predict(X_test_df.iloc[:,:11])\n",
    "\n",
    "\n",
    "\n",
    "#print(\"Degree 10\")\n",
    "#print(\"Training\",mean_squared_error(y_train_df, y_pred_train))\n",
    "output[\"Degree_10\"].append(mean_squared_error(y_train_df, y_pred_train))\n",
    "#print(\"Test\",mean_squared_error(y_test_df, y_pred_test))\n",
    "output[\"Degree_10\"].append(mean_squared_error(y_test_df, y_pred_test))\n",
    "\n",
    "output = pd.DataFrame(data = output)\n",
    "zero = output.index[0]\n",
    "one = output.index[-1]\n",
    "output = output.rename(index={one: 'Test Error'})\n",
    "output = output.rename(index={zero: 'Training Error'})\n",
    "output"
   ]
  },
  {
   "cell_type": "markdown",
   "metadata": {},
   "source": [
    "Results:\n",
    "\n",
    "In this case Noise is 0 . Which means all the generated red points always lie on the curve.So, the curve of Degree10 must perform better on the Training and Test data than the quadratic.\n",
    "\n",
    "Reason: Since the Degree 10 Polynomial is overfitted and the generated points are always on the curve the overfitted degree 10 model will predict the points more accurately than the quadratic\n",
    "\n"
   ]
  },
  {
   "cell_type": "code",
   "execution_count": 36,
   "metadata": {},
   "outputs": [
    {
     "name": "stdout",
     "output_type": "stream",
     "text": [
      "[0. 0. 0. 0. 0.]\n"
     ]
    }
   ],
   "source": []
  }
 ],
 "metadata": {
  "colab": {
   "collapsed_sections": [],
   "name": "Assignment2.ipynb",
   "provenance": [],
   "version": "0.3.2"
  },
  "kernelspec": {
   "display_name": "Python 3",
   "language": "python",
   "name": "python3"
  },
  "language_info": {
   "codemirror_mode": {
    "name": "ipython",
    "version": 3
   },
   "file_extension": ".py",
   "mimetype": "text/x-python",
   "name": "python",
   "nbconvert_exporter": "python",
   "pygments_lexer": "ipython3",
   "version": "3.7.0"
  }
 },
 "nbformat": 4,
 "nbformat_minor": 1
}
